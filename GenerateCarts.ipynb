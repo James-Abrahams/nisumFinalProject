{
 "cells": [
  {
   "cell_type": "code",
   "execution_count": 3,
   "id": "a5d94eb4-ce02-48fe-b892-79776fc188b4",
   "metadata": {},
   "outputs": [],
   "source": [
    "from random import randint, choice\n",
    "from math import floor, sqrt"
   ]
  },
  {
   "cell_type": "code",
   "execution_count": 4,
   "id": "dcf933fd-6d8e-4e48-9b31-2a38782b33c2",
   "metadata": {},
   "outputs": [],
   "source": [
    "products = [\"100000000001\",\n",
    "\"100000000011\",\n",
    "\"100000000111\",\n",
    "\"100000001111\",\n",
    "\"100000011111\",\n",
    "\"100000111111\",\n",
    "\"100001111111\",\n",
    "\"100011111111\",\n",
    "\"600000000002\",]\n",
    "\n",
    "# products = [\"100000000001\",\n",
    "# \"600000000002\",]"
   ]
  },
  {
   "cell_type": "code",
   "execution_count": 5,
   "id": "172fe4c2-06e0-4de1-abe8-3e66094f2e90",
   "metadata": {},
   "outputs": [],
   "source": [
    "carts = []"
   ]
  },
  {
   "cell_type": "code",
   "execution_count": 6,
   "metadata": {},
   "outputs": [],
   "source": [
    "total_users = 16 # change to get from user generation file"
   ]
  },
  {
   "cell_type": "code",
   "execution_count": 7,
   "metadata": {},
   "outputs": [],
   "source": [
    "def users_with_carts(total_users):\n",
    "    active_users = set()\n",
    "    for i in range(floor(sqrt(total_users))):\n",
    "        active_users.add(randint(1, total_users))\n",
    "    return list(active_users)"
   ]
  },
  {
   "cell_type": "code",
   "execution_count": 8,
   "metadata": {},
   "outputs": [
    {
     "name": "stdout",
     "output_type": "stream",
     "text": [
      "[8, 10, 15]\n"
     ]
    }
   ],
   "source": [
    "print(users_with_carts(total_users))"
   ]
  },
  {
   "cell_type": "code",
   "execution_count": 9,
   "id": "a11da456-4e86-47bf-81f9-e003a6e0c83f",
   "metadata": {},
   "outputs": [],
   "source": [
    "from math import floor\n",
    "\n",
    "\n",
    "def generate_cart(total_items):\n",
    "    for i in range(1, total_items):\n",
    "        cart_item = {\n",
    "            \"user_id\"       : choice(users_with_carts(total_users)),\n",
    "            \"product\"       : choice(products),\n",
    "            \"quantity\"      : randint(1, 100)\n",
    "        }\n",
    "        carts.append(cart_item)"
   ]
  },
  {
   "cell_type": "code",
   "execution_count": 10,
   "id": "2ca7f2b9-c8bc-43f5-8ca1-29c38ebdd8bb",
   "metadata": {},
   "outputs": [
    {
     "name": "stdout",
     "output_type": "stream",
     "text": [
      "0 None [{'user_id': 9, 'product': '100001111111', 'quantity': 83}, {'user_id': 10, 'product': '100001111111', 'quantity': 90}, {'user_id': 10, 'product': '100000000111', 'quantity': 46}, {'user_id': 1, 'product': '600000000002', 'quantity': 47}, {'user_id': 14, 'product': '100011111111', 'quantity': 29}, {'user_id': 1, 'product': '100001111111', 'quantity': 90}, {'user_id': 12, 'product': '100000000111', 'quantity': 42}, {'user_id': 13, 'product': '100000111111', 'quantity': 24}, {'user_id': 2, 'product': '100000000011', 'quantity': 36}]\n"
     ]
    }
   ],
   "source": [
    "print(len(carts), generate_cart(10), carts)"
   ]
  },
  {
   "cell_type": "code",
   "execution_count": null,
   "id": "2144235f-1d2b-4ef4-8393-eabd0276e19d",
   "metadata": {},
   "outputs": [],
   "source": []
  },
  {
   "cell_type": "code",
   "execution_count": 11,
   "id": "8d4a88a1-024a-4885-ae31-b2e72a5afefa",
   "metadata": {},
   "outputs": [],
   "source": [
    "def merge_duplicate_items_per_cart():\n",
    "    count_dupes = 0\n",
    "    for i in range(len(carts)):\n",
    "        for j in range(i +1, len(carts)):\n",
    "            if (carts[i]['user_id'] == carts[j]['user_id']) and (carts[i]['product'] == carts[j]['product']):\n",
    "                carts[i]['quantity'] += carts[j]['quantity']\n",
    "                carts[j]['quantity'] = 0\n",
    "                count_dupes += 1\n",
    "    print(count_dupes, carts)"
   ]
  },
  {
   "cell_type": "code",
   "execution_count": 12,
   "id": "529baa3a-85b4-41f3-ab89-b3c85de0af61",
   "metadata": {},
   "outputs": [
    {
     "name": "stdout",
     "output_type": "stream",
     "text": [
      "0 [{'user_id': 9, 'product': '100001111111', 'quantity': 83}, {'user_id': 10, 'product': '100001111111', 'quantity': 90}, {'user_id': 10, 'product': '100000000111', 'quantity': 46}, {'user_id': 1, 'product': '600000000002', 'quantity': 47}, {'user_id': 14, 'product': '100011111111', 'quantity': 29}, {'user_id': 1, 'product': '100001111111', 'quantity': 90}, {'user_id': 12, 'product': '100000000111', 'quantity': 42}, {'user_id': 13, 'product': '100000111111', 'quantity': 24}, {'user_id': 2, 'product': '100000000011', 'quantity': 36}]\n"
     ]
    }
   ],
   "source": [
    "merge_duplicate_items_per_cart()"
   ]
  },
  {
   "cell_type": "code",
   "execution_count": 13,
   "id": "8eb44c83-b1dc-459e-bced-b069c8579a69",
   "metadata": {},
   "outputs": [],
   "source": [
    "def delete_duplicate_items_per_order():\n",
    "    deleted_count = 0\n",
    "    for i in reversed(range(len(carts))):\n",
    "        if carts[i]['quantity'] == 0:\n",
    "            del carts[i]\n",
    "            deleted_count += 1\n",
    "    print(deleted_count, carts)\n",
    "        \n",
    "            "
   ]
  },
  {
   "cell_type": "code",
   "execution_count": 14,
   "id": "23cf4b28-7454-48d8-a9e9-7fdf9b9c2a17",
   "metadata": {},
   "outputs": [
    {
     "name": "stdout",
     "output_type": "stream",
     "text": [
      "0 [{'user_id': 9, 'product': '100001111111', 'quantity': 83}, {'user_id': 10, 'product': '100001111111', 'quantity': 90}, {'user_id': 10, 'product': '100000000111', 'quantity': 46}, {'user_id': 1, 'product': '600000000002', 'quantity': 47}, {'user_id': 14, 'product': '100011111111', 'quantity': 29}, {'user_id': 1, 'product': '100001111111', 'quantity': 90}, {'user_id': 12, 'product': '100000000111', 'quantity': 42}, {'user_id': 13, 'product': '100000111111', 'quantity': 24}, {'user_id': 2, 'product': '100000000011', 'quantity': 36}]\n"
     ]
    }
   ],
   "source": [
    "delete_duplicate_items_per_order()"
   ]
  },
  {
   "cell_type": "code",
   "execution_count": 15,
   "id": "f0c920f7-3727-4c30-a2a2-96c87256d4ca",
   "metadata": {},
   "outputs": [],
   "source": [
    "def give_ids_to_order_items():\n",
    "    for i in range(len(carts)):\n",
    "        carts[i]['cart_item_id'] = i + 1\n",
    "    print(carts)"
   ]
  },
  {
   "cell_type": "code",
   "execution_count": 16,
   "id": "7b715f6c-6b17-468b-9e0a-92a0fba5c1fc",
   "metadata": {},
   "outputs": [
    {
     "name": "stdout",
     "output_type": "stream",
     "text": [
      "[{'user_id': 9, 'product': '100001111111', 'quantity': 83, 'cart_item_id': 1}, {'user_id': 10, 'product': '100001111111', 'quantity': 90, 'cart_item_id': 2}, {'user_id': 10, 'product': '100000000111', 'quantity': 46, 'cart_item_id': 3}, {'user_id': 1, 'product': '600000000002', 'quantity': 47, 'cart_item_id': 4}, {'user_id': 14, 'product': '100011111111', 'quantity': 29, 'cart_item_id': 5}, {'user_id': 1, 'product': '100001111111', 'quantity': 90, 'cart_item_id': 6}, {'user_id': 12, 'product': '100000000111', 'quantity': 42, 'cart_item_id': 7}, {'user_id': 13, 'product': '100000111111', 'quantity': 24, 'cart_item_id': 8}, {'user_id': 2, 'product': '100000000011', 'quantity': 36, 'cart_item_id': 9}]\n"
     ]
    }
   ],
   "source": [
    "give_ids_to_order_items()"
   ]
  },
  {
   "cell_type": "code",
   "execution_count": 17,
   "id": "2a6f974d-b517-4ea4-8021-adfd2870828c",
   "metadata": {},
   "outputs": [],
   "source": [
    "def print_it():\n",
    "    print(\"um\")\n",
    "    string = \"\"\n",
    "    values = f\"(user_id, quantity, product)\"\n",
    "    for i in range(len(carts)):\n",
    "        # string = string + f\"INSERT INTO carts VALUES({carts[i]['cart_item_id']}, {carts[i]['user_id']}, {carts[i]['quantity']}, '{carts[i]['product']}');\\n\"\n",
    "        string = string + f\"INSERT INTO carts {values} VALUES({carts[i]['user_id']}, {carts[i]['quantity']}, '{carts[i]['product']}');\\n\"\n",
    "    print(string)"
   ]
  },
  {
   "cell_type": "code",
   "execution_count": 18,
   "id": "214c7eed-b247-49c6-a9e1-f4ac8adc749c",
   "metadata": {},
   "outputs": [
    {
     "name": "stdout",
     "output_type": "stream",
     "text": [
      "um\n",
      "INSERT INTO carts (user_id, quantity, product) VALUES(9, 83, '100001111111');\n",
      "INSERT INTO carts (user_id, quantity, product) VALUES(10, 90, '100001111111');\n",
      "INSERT INTO carts (user_id, quantity, product) VALUES(10, 46, '100000000111');\n",
      "INSERT INTO carts (user_id, quantity, product) VALUES(1, 47, '600000000002');\n",
      "INSERT INTO carts (user_id, quantity, product) VALUES(14, 29, '100011111111');\n",
      "INSERT INTO carts (user_id, quantity, product) VALUES(1, 90, '100001111111');\n",
      "INSERT INTO carts (user_id, quantity, product) VALUES(12, 42, '100000000111');\n",
      "INSERT INTO carts (user_id, quantity, product) VALUES(13, 24, '100000111111');\n",
      "INSERT INTO carts (user_id, quantity, product) VALUES(2, 36, '100000000011');\n",
      "\n"
     ]
    }
   ],
   "source": [
    "print_it()"
   ]
  },
  {
   "cell_type": "code",
   "execution_count": null,
   "metadata": {},
   "outputs": [],
   "source": []
  }
 ],
 "metadata": {
  "kernelspec": {
   "display_name": "Python 3.10.4 64-bit ('3.10.4')",
   "language": "python",
   "name": "python3"
  },
  "language_info": {
   "codemirror_mode": {
    "name": "ipython",
    "version": 3
   },
   "file_extension": ".py",
   "mimetype": "text/x-python",
   "name": "python",
   "nbconvert_exporter": "python",
   "pygments_lexer": "ipython3",
   "version": "3.10.4"
  },
  "orig_nbformat": 4,
  "vscode": {
   "interpreter": {
    "hash": "40f2ac86c2ff9164d8eaaa1295186d7af6cf88d800a0e97dfa509aa9a79fa4b6"
   }
  }
 },
 "nbformat": 4,
 "nbformat_minor": 2
}
