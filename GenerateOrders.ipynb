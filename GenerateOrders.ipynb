{
 "cells": [
  {
   "cell_type": "code",
   "execution_count": null,
   "id": "9670d238-4cd8-4ad6-ac82-e6e138fd7e36",
   "metadata": {},
   "outputs": [],
   "source": [
    "from random import randint\n",
    "from random import choice\n",
    "from random import choices\n",
    "import string\n",
    "from faker import Faker"
   ]
  },
  {
   "cell_type": "code",
   "execution_count": null,
   "id": "cef307f8",
   "metadata": {},
   "outputs": [],
   "source": [
    "fake = Faker()"
   ]
  },
  {
   "cell_type": "code",
   "execution_count": null,
   "id": "e68b67aa",
   "metadata": {},
   "outputs": [],
   "source": [
    "cards = []"
   ]
  },
  {
   "cell_type": "code",
   "execution_count": null,
   "metadata": {},
   "outputs": [],
   "source": [
    "def card_network():\n",
    "    return choices(['Visa', 'Mastercard', 'American Express', 'Discover'], [42, 27, 10, 7])[0]"
   ]
  },
  {
   "cell_type": "code",
   "execution_count": null,
   "metadata": {},
   "outputs": [],
   "source": [
    "banks = {\n",
    "    'Visa': ['Bank of America', 'Barclays', 'Capital One', 'Chase', 'Citi', 'Synchrony', 'U.S Bank', 'USAA', 'Wells Fargo'],\n",
    "    'Mastercard': ['Bank of America', 'Barclays', 'Capital One', 'Chase', 'Citi', 'Synchrony', 'U.S Bank'],\n",
    "    'Discover': 'Discover Bank',\n",
    "    'American Express': ['American Express', 'U.S. Bank', 'USAA', 'Wells Fargo']\n",
    "\n",
    "}"
   ]
  },
  {
   "cell_type": "code",
   "execution_count": null,
   "metadata": {},
   "outputs": [],
   "source": [
    "visa_breakdown = [94, 22, 90, (1.8 * 142), (0.2 * 101), 19, 38, 16, 35]\n",
    "master_breakdown = [94, 22, 90, (0.2 * 142), (1.8 * 101), 19, 38]\n",
    "amex_breakdown = [89, 0.5 * 38, 0.5 * 16, 0.5 * 35]"
   ]
  },
  {
   "cell_type": "code",
   "execution_count": null,
   "metadata": {},
   "outputs": [],
   "source": [
    "def which_bank(network):\n",
    "    match network: \n",
    "        case 'Visa':\n",
    "            return ''.join(choices(banks['Visa'], visa_breakdown)[0])\n",
    "        case 'Mastercard':\n",
    "            return ''.join(choices(banks['Mastercard'], master_breakdown)[0])\n",
    "        case 'American Express':\n",
    "            return ''.join(choices(banks['American Express'], amex_breakdown)[0])\n",
    "        case _:\n",
    "            return 'Discover Bank'\n"
   ]
  },
  {
   "cell_type": "code",
   "execution_count": null,
   "id": "1ce6e079",
   "metadata": {},
   "outputs": [],
   "source": [
    "def ccv(network):\n",
    "    if network == 'American Express':\n",
    "        return str(randint(0, 9)) + str(randint(0, 9)) + str(randint(0, 9)) + str(randint(0, 9))\n",
    "    else:\n",
    "        return str(randint(0, 9)) + str(randint(0, 9)) + str(randint(0, 9))"
   ]
  },
  {
   "cell_type": "code",
   "execution_count": null,
   "metadata": {},
   "outputs": [
    {
     "name": "stdout",
     "output_type": "stream",
     "text": [
      "4023\n"
     ]
    }
   ],
   "source": [
    "print(ccv('American Express'))"
   ]
  },
  {
   "cell_type": "code",
   "execution_count": null,
   "metadata": {},
   "outputs": [],
   "source": [
    "def random_cardholder_name():\n",
    "    fname = fake.first_name()\n",
    "    mname = choice(['' , ' ' + ''.join(choices([choice(list(string.ascii_letters.upper())), fake.first_name()], [4, 1])[0])])\n",
    "    lname = fake.last_name()\n",
    "    return f\"{fname}{mname} {lname}\""
   ]
  },
  {
   "cell_type": "code",
   "execution_count": null,
   "metadata": {},
   "outputs": [],
   "source": [
    "# mname = ''.join(choices(['', choice(list(string.ascii_letters.upper())), fake.first_name()], [5, 4, 1])[0])\n"
   ]
  },
  {
   "cell_type": "code",
   "execution_count": null,
   "metadata": {},
   "outputs": [],
   "source": [
    "# print(mname)"
   ]
  },
  {
   "cell_type": "code",
   "execution_count": null,
   "metadata": {},
   "outputs": [
    {
     "name": "stdout",
     "output_type": "stream",
     "text": [
      "['a', 'b', 'c', 'd', 'e', 'f', 'g', 'h', 'i', 'j', 'k', 'l', 'm', 'n', 'o', 'p', 'q', 'r', 's', 't', 'u', 'v', 'w', 'x', 'y', 'z', 'A', 'B', 'C', 'D', 'E', 'F', 'G', 'H', 'I', 'J', 'K', 'L', 'M', 'N', 'O', 'P', 'Q', 'R', 'S', 'T', 'U', 'V', 'W', 'X', 'Y', 'Z']\n"
     ]
    }
   ],
   "source": [
    "print(list(string.ascii_letters))"
   ]
  },
  {
   "cell_type": "code",
   "execution_count": null,
   "id": "1f14f363",
   "metadata": {},
   "outputs": [],
   "source": [
    "def generate_credit_cards(num_users):\n",
    "    total_addresses = num_users\n",
    "    i = 0\n",
    "    while i < total_addresses:\n",
    "        card_type = card_network()\n",
    "        exp = fake.credit_card_expire().split(\"/\")\n",
    "        card = {\n",
    "            \"credit_card_id\"    : i + 1,\n",
    "            # \"user_id\"           : , # make this depend on shipping and billing results + chance of extra\n",
    "            \"cardholder_name\"   : random_cardholder_name(), #later tie this to person name with logic, chance of other esp if extra\n",
    "            \"bank_name\"         : which_bank(card_type),\n",
    "            \"card_type\"         : card_type,\n",
    "            \"card_number\"       : fake.credit_card_number(),\n",
    "            \"security_code\"     : ccv(card_type),\n",
    "            \"expiration_year\"   : \"20\" + exp[1],\n",
    "            \"expiration_month\"  : exp[0]\n",
    "\n",
    "        }       \n",
    "\n",
    "        cards.append(card)\n",
    "        i += 1\n",
    "    print(cards)"
   ]
  },
  {
   "cell_type": "code",
   "execution_count": null,
   "id": "101ed5e9",
   "metadata": {},
   "outputs": [
    {
     "name": "stdout",
     "output_type": "stream",
     "text": [
      "[{'credit_card_id': 1, 'cardholder_name': 'Willie O Armstrong', 'bank_name': 'Citi', 'card_type': 'Mastercard', 'card_number': '3500955307116263', 'security_code': '494', 'expiration_year': '2026', 'expiration_month': '07'}, {'credit_card_id': 2, 'cardholder_name': 'Laura Greg Roth', 'bank_name': 'Barclays', 'card_type': 'Mastercard', 'card_number': '5485432370533182', 'security_code': '970', 'expiration_year': '2025', 'expiration_month': '08'}, {'credit_card_id': 3, 'cardholder_name': 'Bethany Martin', 'bank_name': 'Discover Bank', 'card_type': 'Discover', 'card_number': '3534364691080195', 'security_code': '675', 'expiration_year': '2024', 'expiration_month': '04'}, {'credit_card_id': 4, 'cardholder_name': 'Nathan H Huerta', 'bank_name': 'U.S Bank', 'card_type': 'Visa', 'card_number': '6559810966496345', 'security_code': '386', 'expiration_year': '2023', 'expiration_month': '12'}, {'credit_card_id': 5, 'cardholder_name': 'Richard Nelson', 'bank_name': 'Citi', 'card_type': 'Mastercard', 'card_number': '060499819294', 'security_code': '698', 'expiration_year': '2032', 'expiration_month': '01'}, {'credit_card_id': 6, 'cardholder_name': 'Charles X Hall', 'bank_name': 'Discover Bank', 'card_type': 'Discover', 'card_number': '3520817339650113', 'security_code': '740', 'expiration_year': '2031', 'expiration_month': '04'}, {'credit_card_id': 7, 'cardholder_name': 'Katelyn Simmons', 'bank_name': 'Citi', 'card_type': 'Mastercard', 'card_number': '4611512260708802', 'security_code': '179', 'expiration_year': '2027', 'expiration_month': '05'}, {'credit_card_id': 8, 'cardholder_name': 'Ethan Hall', 'bank_name': 'Wells Fargo', 'card_type': 'American Express', 'card_number': '676316527412', 'security_code': '5935', 'expiration_year': '2024', 'expiration_month': '10'}, {'credit_card_id': 9, 'cardholder_name': 'Keith O Hendrix', 'bank_name': 'Chase', 'card_type': 'Visa', 'card_number': '639079365693', 'security_code': '680', 'expiration_year': '2032', 'expiration_month': '02'}, {'credit_card_id': 10, 'cardholder_name': 'Seth Weber', 'bank_name': 'U.S Bank', 'card_type': 'Visa', 'card_number': '4530877005535010', 'security_code': '048', 'expiration_year': '2026', 'expiration_month': '03'}]\n"
     ]
    }
   ],
   "source": [
    "generate_credit_cards(10)"
   ]
  },
  {
   "cell_type": "code",
   "execution_count": null,
   "id": "4caa6c14-1888-4a74-b3cd-a30b0575e892",
   "metadata": {},
   "outputs": [],
   "source": [
    "def print_it():\n",
    "    string = \"\"\n",
    "    for i in range(len(cards)):\n",
    "        user_id = cards[i]['user_id'] if 'user_id' in cards[i] else i + 1\n",
    "        string = string + f\"INSERT INTO credit_cards VALUES({cards[i]['credit_card_id']}, {user_id}, '{cards[i]['cardholder_name']}', '{cards[i]['bank_name']}', {cards[i]['card_type']}, '{cards[i]['card_number']}', '{cards[i]['security_code']}', '{cards[i]['expiration_year']}', '{cards[i]['expiration_month']}');\\n\"\n",
    "    print(string)"
   ]
  },
  {
   "cell_type": "code",
   "execution_count": null,
   "id": "9abfb11f-2775-4d01-bf4a-058b88410b2b",
   "metadata": {},
   "outputs": [
    {
     "name": "stdout",
     "output_type": "stream",
     "text": [
      "INSERT INTO credit_cards VALUES(1, 1, 'Willie O Armstrong', 'Citi', Mastercard, '3500955307116263', '494', '2026', '07');\n",
      "INSERT INTO credit_cards VALUES(2, 2, 'Laura Greg Roth', 'Barclays', Mastercard, '5485432370533182', '970', '2025', '08');\n",
      "INSERT INTO credit_cards VALUES(3, 3, 'Bethany Martin', 'Discover Bank', Discover, '3534364691080195', '675', '2024', '04');\n",
      "INSERT INTO credit_cards VALUES(4, 4, 'Nathan H Huerta', 'U.S Bank', Visa, '6559810966496345', '386', '2023', '12');\n",
      "INSERT INTO credit_cards VALUES(5, 5, 'Richard Nelson', 'Citi', Mastercard, '060499819294', '698', '2032', '01');\n",
      "INSERT INTO credit_cards VALUES(6, 6, 'Charles X Hall', 'Discover Bank', Discover, '3520817339650113', '740', '2031', '04');\n",
      "INSERT INTO credit_cards VALUES(7, 7, 'Katelyn Simmons', 'Citi', Mastercard, '4611512260708802', '179', '2027', '05');\n",
      "INSERT INTO credit_cards VALUES(8, 8, 'Ethan Hall', 'Wells Fargo', American Express, '676316527412', '5935', '2024', '10');\n",
      "INSERT INTO credit_cards VALUES(9, 9, 'Keith O Hendrix', 'Chase', Visa, '639079365693', '680', '2032', '02');\n",
      "INSERT INTO credit_cards VALUES(10, 10, 'Seth Weber', 'U.S Bank', Visa, '4530877005535010', '048', '2026', '03');\n",
      "\n"
     ]
    }
   ],
   "source": [
    "print_it()"
   ]
  },
  {
   "cell_type": "code",
   "execution_count": null,
   "metadata": {},
   "outputs": [
    {
     "name": "stdout",
     "output_type": "stream",
     "text": [
      "aa\n"
     ]
    }
   ],
   "source": []
  },
  {
   "cell_type": "code",
   "execution_count": null,
   "metadata": {},
   "outputs": [],
   "source": []
  }
 ],
 "metadata": {
  "kernelspec": {
   "display_name": "Python 3.10.4 64-bit ('3.10.4')",
   "language": "python",
   "name": "python3"
  },
  "language_info": {
   "name": "python",
   "version": "3.10.4"
  },
  "orig_nbformat": 4,
  "vscode": {
   "interpreter": {
    "hash": "40f2ac86c2ff9164d8eaaa1295186d7af6cf88d800a0e97dfa509aa9a79fa4b6"
   }
  }
 },
 "nbformat": 4,
 "nbformat_minor": 2
}
