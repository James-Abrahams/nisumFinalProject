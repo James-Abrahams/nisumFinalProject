{
 "cells": [
  {
   "cell_type": "code",
   "execution_count": 101,
   "id": "9670d238-4cd8-4ad6-ac82-e6e138fd7e36",
   "metadata": {},
   "outputs": [],
   "source": [
    "from random import randint, choice, choices\n",
    "import string\n",
    "from faker import Faker\n",
    "from datetime import *"
   ]
  },
  {
   "cell_type": "code",
   "execution_count": 102,
   "id": "cef307f8",
   "metadata": {},
   "outputs": [],
   "source": [
    "fake = Faker()"
   ]
  },
  {
   "cell_type": "code",
   "execution_count": 103,
   "metadata": {},
   "outputs": [
    {
     "name": "stdout",
     "output_type": "stream",
     "text": [
      "1975-08-04\n"
     ]
    }
   ],
   "source": [
    "print(fake.date())"
   ]
  },
  {
   "cell_type": "code",
   "execution_count": 104,
   "id": "e68b67aa",
   "metadata": {},
   "outputs": [],
   "source": [
    "orders = []"
   ]
  },
  {
   "cell_type": "code",
   "execution_count": 105,
   "metadata": {},
   "outputs": [
    {
     "name": "stdout",
     "output_type": "stream",
     "text": [
      "['2022', '09', '23']\n"
     ]
    }
   ],
   "source": [
    "today = date.today()\n",
    "today = str(today).split(\"-\")\n",
    "print(today)"
   ]
  },
  {
   "cell_type": "code",
   "execution_count": 106,
   "metadata": {},
   "outputs": [],
   "source": [
    "next_order_year  = int(today[0])\n",
    "next_order_month = int(today[1])\n",
    "next_order_day   = int(today[2])"
   ]
  },
  {
   "cell_type": "code",
   "execution_count": 107,
   "metadata": {},
   "outputs": [],
   "source": [
    "order_times = []"
   ]
  },
  {
   "cell_type": "code",
   "execution_count": 108,
   "metadata": {},
   "outputs": [
    {
     "name": "stdout",
     "output_type": "stream",
     "text": [
      "[{'ordered': '2020-03-22', 'shipped': 'NULL', 'delivered': 'NULL'}, {'ordered': '2021-07-28', 'shipped': 'NULL', 'delivered': 'NULL'}, {'ordered': '2019-04-14', 'shipped': '2019-04-15', 'delivered': '2019-04-18'}, {'ordered': '2018-02-22', 'shipped': '2018-02-22', 'delivered': 'NULL'}, {'ordered': '2018-11-24', 'shipped': '2018-11-28', 'delivered': '2018-12-01'}, {'ordered': '2020-07-14', 'shipped': '2020-07-14', 'delivered': '2020-07-14'}, {'ordered': '2018-12-31', 'shipped': 'NULL', 'delivered': 'NULL'}, {'ordered': '2018-04-16', 'shipped': '2018-04-16', 'delivered': '2018-04-19'}, {'ordered': '2020-11-07', 'shipped': 'NULL', 'delivered': 'NULL'}, {'ordered': '2021-11-30', 'shipped': '2021-11-30', 'delivered': 'NULL'}]\n"
     ]
    }
   ],
   "source": [
    "today = datetime.today()\n",
    "\n",
    "num_orders = 10\n",
    "def rand_days():\n",
    "    return choice([0, randint(0,4)])\n",
    "\n",
    "for i in range(num_orders):\n",
    "    ordered = fake.date_between_dates(date_start=datetime(2018,1,1), date_end=datetime(2022,9,16))\n",
    "    to_ship_time = (ordered + timedelta(days=rand_days()))\n",
    "    shipped = choices(['NULL', to_ship_time], [100, 99])[0]\n",
    "    if shipped != 'NULL':\n",
    "        delivered = choices(['NULL' , shipped + timedelta(days=rand_days())], [200, 98])[0]\n",
    "    else:\n",
    "        delivered = 'NULL'\n",
    "    order_times.append({'ordered': str(ordered), 'shipped': str(shipped), 'delivered': str(delivered)})\n",
    "    # print('ordered: ', ordered, 'shipped: ', shipped, 'delivered: ', delivered, end = '\\n')\n",
    "print(order_times)"
   ]
  },
  {
   "cell_type": "code",
   "execution_count": 109,
   "metadata": {},
   "outputs": [],
   "source": [
    "# def date_ordered():\n",
    "#     order_date = fake.date_between_dates(\n",
    "#         date_start=datetime.date(\n",
    "#             next_order_year, \n",
    "#             next_order_month, \n",
    "#             next_order_day\n",
    "#         ), \n",
    "#         date_end=datetime.date(\n",
    "#             next_order_year + choice(0, ), \n",
    "#             next_order_month, \n",
    "#             next_order_day)).year\n",
    "#         )"
   ]
  },
  {
   "cell_type": "code",
   "execution_count": 110,
   "metadata": {},
   "outputs": [],
   "source": [
    "def order_status(order_time):\n",
    "    for date in order_times:\n",
    "        if order_time['delivered'] != 'NULL':\n",
    "            return 'DELIVERED'\n",
    "        elif order_time['shipped'] != 'NULL':\n",
    "            return 'IN TRANSIT'\n",
    "        else:\n",
    "            return 'ORDERED'"
   ]
  },
  {
   "cell_type": "code",
   "execution_count": 111,
   "metadata": {},
   "outputs": [],
   "source": [
    "def generate_orders(num_orders):\n",
    "    total_orders = num_orders\n",
    "    i = 0\n",
    "    while i < total_orders:\n",
    "        \n",
    "        order = {\n",
    "            \"order_id\"        : i + 1,\n",
    "            \"user_id\"         : i + 1,\n",
    "            \"address_id\"      : i + 1,\n",
    "            \"price\"           : round(randint(0, 300) + 0.99 * randint(1, 30), 2),\n",
    "            \"credit_card_id\"  : i + 1,\n",
    "            \"date_ordered\"    : order_times[i]['ordered'],\n",
    "            \"date_shipped\"    : order_times[i]['shipped'], #is shipped? if so ship date function\n",
    "            \"date_delivered\"  : order_times[i]['delivered'], #is order? if so del date function\n",
    "            \"order_status\"    : order_status(order_times[i]),\n",
    "        }       \n",
    "\n",
    "        orders.append(order)\n",
    "        i += 1\n",
    "    print(orders)"
   ]
  },
  {
   "cell_type": "code",
   "execution_count": 112,
   "metadata": {},
   "outputs": [
    {
     "name": "stdout",
     "output_type": "stream",
     "text": [
      "[{'order_id': 1, 'user_id': 1, 'address_id': 1, 'price': 230.95, 'credit_card_id': 1, 'date_ordered': '2020-03-22', 'date_shipped': 'NULL', 'date_delivered': 'NULL', 'order_status': 'ORDERED'}, {'order_id': 2, 'user_id': 2, 'address_id': 2, 'price': 292.73, 'credit_card_id': 2, 'date_ordered': '2021-07-28', 'date_shipped': 'NULL', 'date_delivered': 'NULL', 'order_status': 'ORDERED'}, {'order_id': 3, 'user_id': 3, 'address_id': 3, 'price': 62.7, 'credit_card_id': 3, 'date_ordered': '2019-04-14', 'date_shipped': '2019-04-15', 'date_delivered': '2019-04-18', 'order_status': 'DELIVERED'}, {'order_id': 4, 'user_id': 4, 'address_id': 4, 'price': 30.99, 'credit_card_id': 4, 'date_ordered': '2018-02-22', 'date_shipped': '2018-02-22', 'date_delivered': 'NULL', 'order_status': 'IN TRANSIT'}, {'order_id': 5, 'user_id': 5, 'address_id': 5, 'price': 58.71, 'credit_card_id': 5, 'date_ordered': '2018-11-24', 'date_shipped': '2018-11-28', 'date_delivered': '2018-12-01', 'order_status': 'DELIVERED'}, {'order_id': 6, 'user_id': 6, 'address_id': 6, 'price': 140.99, 'credit_card_id': 6, 'date_ordered': '2020-07-14', 'date_shipped': '2020-07-14', 'date_delivered': '2020-07-14', 'order_status': 'DELIVERED'}, {'order_id': 7, 'user_id': 7, 'address_id': 7, 'price': 105.92, 'credit_card_id': 7, 'date_ordered': '2018-12-31', 'date_shipped': 'NULL', 'date_delivered': 'NULL', 'order_status': 'ORDERED'}, {'order_id': 8, 'user_id': 8, 'address_id': 8, 'price': 158.9, 'credit_card_id': 8, 'date_ordered': '2018-04-16', 'date_shipped': '2018-04-16', 'date_delivered': '2018-04-19', 'order_status': 'DELIVERED'}, {'order_id': 9, 'user_id': 9, 'address_id': 9, 'price': 48.79, 'credit_card_id': 9, 'date_ordered': '2020-11-07', 'date_shipped': 'NULL', 'date_delivered': 'NULL', 'order_status': 'ORDERED'}, {'order_id': 10, 'user_id': 10, 'address_id': 10, 'price': 302.72, 'credit_card_id': 10, 'date_ordered': '2021-11-30', 'date_shipped': '2021-11-30', 'date_delivered': 'NULL', 'order_status': 'IN TRANSIT'}]\n"
     ]
    }
   ],
   "source": [
    "generate_orders(10)"
   ]
  },
  {
   "cell_type": "code",
   "execution_count": 113,
   "id": "1f14f363",
   "metadata": {},
   "outputs": [],
   "source": [
    "# def generate_orders(num_orders):\n",
    "#     total_orders = num_orders\n",
    "#     i = 0\n",
    "#     while i < total_orders:\n",
    "        \n",
    "#         order = {\n",
    "#             \"order_id\"        : i + 1,\n",
    "#             \"user_id\"         : i + 1,\n",
    "#             \"address_id\"      : i + 1,\n",
    "#             \"price\"           : randint(0, ),\n",
    "#             \"credit_card_id\"  : i + 1,\n",
    "#             \"date_ordered\"    : fake.date(),\n",
    "#             \"date_shipped\"    : fake.date(), #is shipped? if so ship date function\n",
    "#             \"date_delivered\"  : fake.date(), #is order? if so del date function\n",
    "#             \"order_status\"    : order_status(),\n",
    "#         }       \n",
    "\n",
    "#         orders.append(order)\n",
    "#         i += 1\n",
    "#     print(orders)"
   ]
  },
  {
   "cell_type": "code",
   "execution_count": 114,
   "id": "101ed5e9",
   "metadata": {},
   "outputs": [
    {
     "name": "stdout",
     "output_type": "stream",
     "text": [
      "[{'order_id': 1, 'user_id': 1, 'address_id': 1, 'price': 230.95, 'credit_card_id': 1, 'date_ordered': '2020-03-22', 'date_shipped': 'NULL', 'date_delivered': 'NULL', 'order_status': 'ORDERED'}, {'order_id': 2, 'user_id': 2, 'address_id': 2, 'price': 292.73, 'credit_card_id': 2, 'date_ordered': '2021-07-28', 'date_shipped': 'NULL', 'date_delivered': 'NULL', 'order_status': 'ORDERED'}, {'order_id': 3, 'user_id': 3, 'address_id': 3, 'price': 62.7, 'credit_card_id': 3, 'date_ordered': '2019-04-14', 'date_shipped': '2019-04-15', 'date_delivered': '2019-04-18', 'order_status': 'DELIVERED'}, {'order_id': 4, 'user_id': 4, 'address_id': 4, 'price': 30.99, 'credit_card_id': 4, 'date_ordered': '2018-02-22', 'date_shipped': '2018-02-22', 'date_delivered': 'NULL', 'order_status': 'IN TRANSIT'}, {'order_id': 5, 'user_id': 5, 'address_id': 5, 'price': 58.71, 'credit_card_id': 5, 'date_ordered': '2018-11-24', 'date_shipped': '2018-11-28', 'date_delivered': '2018-12-01', 'order_status': 'DELIVERED'}, {'order_id': 6, 'user_id': 6, 'address_id': 6, 'price': 140.99, 'credit_card_id': 6, 'date_ordered': '2020-07-14', 'date_shipped': '2020-07-14', 'date_delivered': '2020-07-14', 'order_status': 'DELIVERED'}, {'order_id': 7, 'user_id': 7, 'address_id': 7, 'price': 105.92, 'credit_card_id': 7, 'date_ordered': '2018-12-31', 'date_shipped': 'NULL', 'date_delivered': 'NULL', 'order_status': 'ORDERED'}, {'order_id': 8, 'user_id': 8, 'address_id': 8, 'price': 158.9, 'credit_card_id': 8, 'date_ordered': '2018-04-16', 'date_shipped': '2018-04-16', 'date_delivered': '2018-04-19', 'order_status': 'DELIVERED'}, {'order_id': 9, 'user_id': 9, 'address_id': 9, 'price': 48.79, 'credit_card_id': 9, 'date_ordered': '2020-11-07', 'date_shipped': 'NULL', 'date_delivered': 'NULL', 'order_status': 'ORDERED'}, {'order_id': 10, 'user_id': 10, 'address_id': 10, 'price': 302.72, 'credit_card_id': 10, 'date_ordered': '2021-11-30', 'date_shipped': '2021-11-30', 'date_delivered': 'NULL', 'order_status': 'IN TRANSIT'}, {'order_id': 1, 'user_id': 1, 'address_id': 1, 'price': 196.86, 'credit_card_id': 1, 'date_ordered': '2020-03-22', 'date_shipped': 'NULL', 'date_delivered': 'NULL', 'order_status': 'ORDERED'}, {'order_id': 2, 'user_id': 2, 'address_id': 2, 'price': 238.87, 'credit_card_id': 2, 'date_ordered': '2021-07-28', 'date_shipped': 'NULL', 'date_delivered': 'NULL', 'order_status': 'ORDERED'}, {'order_id': 3, 'user_id': 3, 'address_id': 3, 'price': 261.82, 'credit_card_id': 3, 'date_ordered': '2019-04-14', 'date_shipped': '2019-04-15', 'date_delivered': '2019-04-18', 'order_status': 'DELIVERED'}, {'order_id': 4, 'user_id': 4, 'address_id': 4, 'price': 41.96, 'credit_card_id': 4, 'date_ordered': '2018-02-22', 'date_shipped': '2018-02-22', 'date_delivered': 'NULL', 'order_status': 'IN TRANSIT'}, {'order_id': 5, 'user_id': 5, 'address_id': 5, 'price': 117.92, 'credit_card_id': 5, 'date_ordered': '2018-11-24', 'date_shipped': '2018-11-28', 'date_delivered': '2018-12-01', 'order_status': 'DELIVERED'}, {'order_id': 6, 'user_id': 6, 'address_id': 6, 'price': 204.75, 'credit_card_id': 6, 'date_ordered': '2020-07-14', 'date_shipped': '2020-07-14', 'date_delivered': '2020-07-14', 'order_status': 'DELIVERED'}, {'order_id': 7, 'user_id': 7, 'address_id': 7, 'price': 129.91, 'credit_card_id': 7, 'date_ordered': '2018-12-31', 'date_shipped': 'NULL', 'date_delivered': 'NULL', 'order_status': 'ORDERED'}, {'order_id': 8, 'user_id': 8, 'address_id': 8, 'price': 308.7, 'credit_card_id': 8, 'date_ordered': '2018-04-16', 'date_shipped': '2018-04-16', 'date_delivered': '2018-04-19', 'order_status': 'DELIVERED'}, {'order_id': 9, 'user_id': 9, 'address_id': 9, 'price': 93.77, 'credit_card_id': 9, 'date_ordered': '2020-11-07', 'date_shipped': 'NULL', 'date_delivered': 'NULL', 'order_status': 'ORDERED'}, {'order_id': 10, 'user_id': 10, 'address_id': 10, 'price': 305.8, 'credit_card_id': 10, 'date_ordered': '2021-11-30', 'date_shipped': '2021-11-30', 'date_delivered': 'NULL', 'order_status': 'IN TRANSIT'}]\n"
     ]
    }
   ],
   "source": [
    "generate_orders(10)"
   ]
  },
  {
   "cell_type": "code",
   "execution_count": 115,
   "id": "4caa6c14-1888-4a74-b3cd-a30b0575e892",
   "metadata": {},
   "outputs": [],
   "source": [
    "def print_it():\n",
    "    string = \"\"\n",
    "    for i in range(len(orders)):\n",
    "        shipped_val = f\"'{orders[i]['date_shipped']}'\" \n",
    "        delivered_val = f\"'{orders[i]['date_delivered']}'\" \n",
    "        user_id = orders[i]['user_id'] if 'user_id' in orders[i] else i + 1\n",
    "        string = string + f\"INSERT INTO orders VALUES({orders[i]['order_id']}, {user_id}, {orders[i]['address_id']}, {orders[i]['price']}, {orders[i]['credit_card_id']}, '{orders[i]['date_ordered']}', {'NULL' if orders[i]['date_shipped'] == 'NULL' else f'{shipped_val}'}, {'NULL' if orders[i]['date_delivered'] == 'NULL' else f'{delivered_val}'}, '{orders[i]['order_status']}');\\n\"\n",
    "                                                                                                                                                                                                        # 'NULL' if orders[i]['date_shipped'] == 'NULL' else f'{shipped_val}'\n",
    "                                                                                                                                                                                                        # 'NULL' if orders[i]['date_delivered'] == 'NULL' else f'{delivered_val}'\n",
    "    print(string)"
   ]
  },
  {
   "cell_type": "code",
   "execution_count": 116,
   "id": "9abfb11f-2775-4d01-bf4a-058b88410b2b",
   "metadata": {},
   "outputs": [
    {
     "name": "stdout",
     "output_type": "stream",
     "text": [
      "INSERT INTO orders VALUES(1, 1, 1, 230.95, 1, '2020-03-22', NULL, NULL, 'ORDERED');\n",
      "INSERT INTO orders VALUES(2, 2, 2, 292.73, 2, '2021-07-28', NULL, NULL, 'ORDERED');\n",
      "INSERT INTO orders VALUES(3, 3, 3, 62.7, 3, '2019-04-14', '2019-04-15', '2019-04-18', 'DELIVERED');\n",
      "INSERT INTO orders VALUES(4, 4, 4, 30.99, 4, '2018-02-22', '2018-02-22', NULL, 'IN TRANSIT');\n",
      "INSERT INTO orders VALUES(5, 5, 5, 58.71, 5, '2018-11-24', '2018-11-28', '2018-12-01', 'DELIVERED');\n",
      "INSERT INTO orders VALUES(6, 6, 6, 140.99, 6, '2020-07-14', '2020-07-14', '2020-07-14', 'DELIVERED');\n",
      "INSERT INTO orders VALUES(7, 7, 7, 105.92, 7, '2018-12-31', NULL, NULL, 'ORDERED');\n",
      "INSERT INTO orders VALUES(8, 8, 8, 158.9, 8, '2018-04-16', '2018-04-16', '2018-04-19', 'DELIVERED');\n",
      "INSERT INTO orders VALUES(9, 9, 9, 48.79, 9, '2020-11-07', NULL, NULL, 'ORDERED');\n",
      "INSERT INTO orders VALUES(10, 10, 10, 302.72, 10, '2021-11-30', '2021-11-30', NULL, 'IN TRANSIT');\n",
      "INSERT INTO orders VALUES(1, 1, 1, 196.86, 1, '2020-03-22', NULL, NULL, 'ORDERED');\n",
      "INSERT INTO orders VALUES(2, 2, 2, 238.87, 2, '2021-07-28', NULL, NULL, 'ORDERED');\n",
      "INSERT INTO orders VALUES(3, 3, 3, 261.82, 3, '2019-04-14', '2019-04-15', '2019-04-18', 'DELIVERED');\n",
      "INSERT INTO orders VALUES(4, 4, 4, 41.96, 4, '2018-02-22', '2018-02-22', NULL, 'IN TRANSIT');\n",
      "INSERT INTO orders VALUES(5, 5, 5, 117.92, 5, '2018-11-24', '2018-11-28', '2018-12-01', 'DELIVERED');\n",
      "INSERT INTO orders VALUES(6, 6, 6, 204.75, 6, '2020-07-14', '2020-07-14', '2020-07-14', 'DELIVERED');\n",
      "INSERT INTO orders VALUES(7, 7, 7, 129.91, 7, '2018-12-31', NULL, NULL, 'ORDERED');\n",
      "INSERT INTO orders VALUES(8, 8, 8, 308.7, 8, '2018-04-16', '2018-04-16', '2018-04-19', 'DELIVERED');\n",
      "INSERT INTO orders VALUES(9, 9, 9, 93.77, 9, '2020-11-07', NULL, NULL, 'ORDERED');\n",
      "INSERT INTO orders VALUES(10, 10, 10, 305.8, 10, '2021-11-30', '2021-11-30', NULL, 'IN TRANSIT');\n",
      "\n"
     ]
    }
   ],
   "source": [
    "print_it()"
   ]
  },
  {
   "cell_type": "code",
   "execution_count": null,
   "metadata": {},
   "outputs": [],
   "source": []
  },
  {
   "cell_type": "code",
   "execution_count": null,
   "metadata": {},
   "outputs": [],
   "source": []
  }
 ],
 "metadata": {
  "kernelspec": {
   "display_name": "Python 3.10.4 64-bit ('3.10.4')",
   "language": "python",
   "name": "python3"
  },
  "language_info": {
   "codemirror_mode": {
    "name": "ipython",
    "version": 3
   },
   "file_extension": ".py",
   "mimetype": "text/x-python",
   "name": "python",
   "nbconvert_exporter": "python",
   "pygments_lexer": "ipython3",
   "version": "3.10.4"
  },
  "orig_nbformat": 4,
  "vscode": {
   "interpreter": {
    "hash": "40f2ac86c2ff9164d8eaaa1295186d7af6cf88d800a0e97dfa509aa9a79fa4b6"
   }
  }
 },
 "nbformat": 4,
 "nbformat_minor": 2
}
