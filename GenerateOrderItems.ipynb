{
 "cells": [
  {
   "cell_type": "code",
   "execution_count": 1,
   "id": "a5d94eb4-ce02-48fe-b892-79776fc188b4",
   "metadata": {},
   "outputs": [],
   "source": [
    "from random import randint\n",
    "from random import choice"
   ]
  },
  {
   "cell_type": "code",
   "execution_count": 2,
   "id": "dcf933fd-6d8e-4e48-9b31-2a38782b33c2",
   "metadata": {},
   "outputs": [],
   "source": [
    "products = [\"100000000001\",\n",
    "\"100000000011\",\n",
    "\"100000000111\",\n",
    "\"100000001111\",\n",
    "\"100000011111\",\n",
    "\"100000111111\",\n",
    "\"100001111111\",\n",
    "\"100011111111\",\n",
    "\"600000000002\",]\n",
    "\n",
    "# products = [\"100000000001\",\n",
    "# \"600000000002\",]"
   ]
  },
  {
   "cell_type": "code",
   "execution_count": 3,
   "id": "172fe4c2-06e0-4de1-abe8-3e66094f2e90",
   "metadata": {},
   "outputs": [],
   "source": [
    "order_items = []"
   ]
  },
  {
   "cell_type": "code",
   "execution_count": 4,
   "id": "a11da456-4e86-47bf-81f9-e003a6e0c83f",
   "metadata": {},
   "outputs": [],
   "source": [
    "def generate_order_items(num_orders, total_items):\n",
    "    for i in range(1, total_items):\n",
    "        order_item = {\n",
    "            \"order_id\": randint(1, num_orders),\n",
    "            \"product\": choice(products),\n",
    "            \"quantity\": randint(1, 100)\n",
    "        }\n",
    "        order_items.append(order_item)\n",
    "    print(order_items)"
   ]
  },
  {
   "cell_type": "code",
   "execution_count": 5,
   "id": "2ca7f2b9-c8bc-43f5-8ca1-29c38ebdd8bb",
   "metadata": {},
   "outputs": [
    {
     "name": "stdout",
     "output_type": "stream",
     "text": [
      "[{'order_id': 1, 'product': '100000000001', 'quantity': 52}, {'order_id': 1, 'product': '100011111111', 'quantity': 79}, {'order_id': 4, 'product': '100001111111', 'quantity': 36}, {'order_id': 1, 'product': '100000011111', 'quantity': 43}, {'order_id': 4, 'product': '100000000111', 'quantity': 6}, {'order_id': 2, 'product': '100000000111', 'quantity': 16}, {'order_id': 1, 'product': '100011111111', 'quantity': 32}, {'order_id': 3, 'product': '100000001111', 'quantity': 73}, {'order_id': 3, 'product': '100000001111', 'quantity': 1}, {'order_id': 4, 'product': '100000000001', 'quantity': 99}, {'order_id': 2, 'product': '100000000011', 'quantity': 86}, {'order_id': 1, 'product': '600000000002', 'quantity': 34}, {'order_id': 1, 'product': '100000001111', 'quantity': 62}, {'order_id': 4, 'product': '100000111111', 'quantity': 2}, {'order_id': 4, 'product': '100000000001', 'quantity': 24}, {'order_id': 1, 'product': '600000000002', 'quantity': 37}, {'order_id': 3, 'product': '100000000001', 'quantity': 34}, {'order_id': 1, 'product': '100000011111', 'quantity': 90}, {'order_id': 4, 'product': '100011111111', 'quantity': 53}]\n"
     ]
    }
   ],
   "source": [
    "generate_order_items(4, 20)"
   ]
  },
  {
   "cell_type": "code",
   "execution_count": 6,
   "id": "2144235f-1d2b-4ef4-8393-eabd0276e19d",
   "metadata": {},
   "outputs": [],
   "source": [
    "def sort_order_items():\n",
    "    order_items.sort(key = lambda order_items: order_items[\"order_id\"])\n",
    "    print(order_items)"
   ]
  },
  {
   "cell_type": "code",
   "execution_count": 7,
   "id": "5a138a16-0bdd-4d7c-9aaa-41992016bde3",
   "metadata": {},
   "outputs": [
    {
     "name": "stdout",
     "output_type": "stream",
     "text": [
      "[{'order_id': 1, 'product': '100000000001', 'quantity': 52}, {'order_id': 1, 'product': '100011111111', 'quantity': 79}, {'order_id': 1, 'product': '100000011111', 'quantity': 43}, {'order_id': 1, 'product': '100011111111', 'quantity': 32}, {'order_id': 1, 'product': '600000000002', 'quantity': 34}, {'order_id': 1, 'product': '100000001111', 'quantity': 62}, {'order_id': 1, 'product': '600000000002', 'quantity': 37}, {'order_id': 1, 'product': '100000011111', 'quantity': 90}, {'order_id': 2, 'product': '100000000111', 'quantity': 16}, {'order_id': 2, 'product': '100000000011', 'quantity': 86}, {'order_id': 3, 'product': '100000001111', 'quantity': 73}, {'order_id': 3, 'product': '100000001111', 'quantity': 1}, {'order_id': 3, 'product': '100000000001', 'quantity': 34}, {'order_id': 4, 'product': '100001111111', 'quantity': 36}, {'order_id': 4, 'product': '100000000111', 'quantity': 6}, {'order_id': 4, 'product': '100000000001', 'quantity': 99}, {'order_id': 4, 'product': '100000111111', 'quantity': 2}, {'order_id': 4, 'product': '100000000001', 'quantity': 24}, {'order_id': 4, 'product': '100011111111', 'quantity': 53}]\n"
     ]
    }
   ],
   "source": [
    "sort_order_items()"
   ]
  },
  {
   "cell_type": "code",
   "execution_count": 8,
   "id": "8d4a88a1-024a-4885-ae31-b2e72a5afefa",
   "metadata": {},
   "outputs": [],
   "source": [
    "def merge_duplicate_items_per_order():\n",
    "    count_dupes = 0\n",
    "    for i in range(len(order_items)):\n",
    "        for j in range(i +1, len(order_items)):\n",
    "            if (order_items[i]['order_id'] == order_items[j]['order_id']) and (order_items[i]['product'] == order_items[j]['product']): #and quantity not 0\n",
    "                order_items[i]['quantity'] += order_items[j]['quantity']\n",
    "                order_items[j]['quantity'] = 0\n",
    "                count_dupes += 1\n",
    "    print(count_dupes, order_items)"
   ]
  },
  {
   "cell_type": "code",
   "execution_count": 9,
   "id": "529baa3a-85b4-41f3-ab89-b3c85de0af61",
   "metadata": {},
   "outputs": [
    {
     "name": "stdout",
     "output_type": "stream",
     "text": [
      "5 [{'order_id': 1, 'product': '100000000001', 'quantity': 52}, {'order_id': 1, 'product': '100011111111', 'quantity': 111}, {'order_id': 1, 'product': '100000011111', 'quantity': 133}, {'order_id': 1, 'product': '100011111111', 'quantity': 0}, {'order_id': 1, 'product': '600000000002', 'quantity': 71}, {'order_id': 1, 'product': '100000001111', 'quantity': 62}, {'order_id': 1, 'product': '600000000002', 'quantity': 0}, {'order_id': 1, 'product': '100000011111', 'quantity': 0}, {'order_id': 2, 'product': '100000000111', 'quantity': 16}, {'order_id': 2, 'product': '100000000011', 'quantity': 86}, {'order_id': 3, 'product': '100000001111', 'quantity': 74}, {'order_id': 3, 'product': '100000001111', 'quantity': 0}, {'order_id': 3, 'product': '100000000001', 'quantity': 34}, {'order_id': 4, 'product': '100001111111', 'quantity': 36}, {'order_id': 4, 'product': '100000000111', 'quantity': 6}, {'order_id': 4, 'product': '100000000001', 'quantity': 123}, {'order_id': 4, 'product': '100000111111', 'quantity': 2}, {'order_id': 4, 'product': '100000000001', 'quantity': 0}, {'order_id': 4, 'product': '100011111111', 'quantity': 53}]\n"
     ]
    }
   ],
   "source": [
    "merge_duplicate_items_per_order()"
   ]
  },
  {
   "cell_type": "code",
   "execution_count": 10,
   "id": "8eb44c83-b1dc-459e-bced-b069c8579a69",
   "metadata": {},
   "outputs": [],
   "source": [
    "def delete_duplicate_items_per_order():\n",
    "    deleted_count = 0\n",
    "    for i in reversed(range(len(order_items))):\n",
    "        if order_items[i]['quantity'] == 0:\n",
    "            del order_items[i]\n",
    "            deleted_count += 1\n",
    "    print(deleted_count, order_items)\n",
    "        \n",
    "            "
   ]
  },
  {
   "cell_type": "code",
   "execution_count": 11,
   "id": "23cf4b28-7454-48d8-a9e9-7fdf9b9c2a17",
   "metadata": {},
   "outputs": [
    {
     "name": "stdout",
     "output_type": "stream",
     "text": [
      "5 [{'order_id': 1, 'product': '100000000001', 'quantity': 52}, {'order_id': 1, 'product': '100011111111', 'quantity': 111}, {'order_id': 1, 'product': '100000011111', 'quantity': 133}, {'order_id': 1, 'product': '600000000002', 'quantity': 71}, {'order_id': 1, 'product': '100000001111', 'quantity': 62}, {'order_id': 2, 'product': '100000000111', 'quantity': 16}, {'order_id': 2, 'product': '100000000011', 'quantity': 86}, {'order_id': 3, 'product': '100000001111', 'quantity': 74}, {'order_id': 3, 'product': '100000000001', 'quantity': 34}, {'order_id': 4, 'product': '100001111111', 'quantity': 36}, {'order_id': 4, 'product': '100000000111', 'quantity': 6}, {'order_id': 4, 'product': '100000000001', 'quantity': 123}, {'order_id': 4, 'product': '100000111111', 'quantity': 2}, {'order_id': 4, 'product': '100011111111', 'quantity': 53}]\n"
     ]
    }
   ],
   "source": [
    "delete_duplicate_items_per_order()"
   ]
  },
  {
   "cell_type": "code",
   "execution_count": 12,
   "id": "f0c920f7-3727-4c30-a2a2-96c87256d4ca",
   "metadata": {},
   "outputs": [],
   "source": [
    "def give_ids_to_order_items():\n",
    "    for i in range(len(order_items)):\n",
    "        order_items[i]['id'] = i + 1\n",
    "    print(order_items)"
   ]
  },
  {
   "cell_type": "code",
   "execution_count": 13,
   "id": "7b715f6c-6b17-468b-9e0a-92a0fba5c1fc",
   "metadata": {},
   "outputs": [
    {
     "name": "stdout",
     "output_type": "stream",
     "text": [
      "[{'order_id': 1, 'product': '100000000001', 'quantity': 52, 'id': 1}, {'order_id': 1, 'product': '100011111111', 'quantity': 111, 'id': 2}, {'order_id': 1, 'product': '100000011111', 'quantity': 133, 'id': 3}, {'order_id': 1, 'product': '600000000002', 'quantity': 71, 'id': 4}, {'order_id': 1, 'product': '100000001111', 'quantity': 62, 'id': 5}, {'order_id': 2, 'product': '100000000111', 'quantity': 16, 'id': 6}, {'order_id': 2, 'product': '100000000011', 'quantity': 86, 'id': 7}, {'order_id': 3, 'product': '100000001111', 'quantity': 74, 'id': 8}, {'order_id': 3, 'product': '100000000001', 'quantity': 34, 'id': 9}, {'order_id': 4, 'product': '100001111111', 'quantity': 36, 'id': 10}, {'order_id': 4, 'product': '100000000111', 'quantity': 6, 'id': 11}, {'order_id': 4, 'product': '100000000001', 'quantity': 123, 'id': 12}, {'order_id': 4, 'product': '100000111111', 'quantity': 2, 'id': 13}, {'order_id': 4, 'product': '100011111111', 'quantity': 53, 'id': 14}]\n"
     ]
    }
   ],
   "source": [
    "give_ids_to_order_items()"
   ]
  },
  {
   "cell_type": "code",
   "execution_count": 16,
   "id": "a25037d6-b91b-4830-8eb3-15b96825c01f",
   "metadata": {},
   "outputs": [],
   "source": [
    "def reorder_dictionary_for_consistency():\n",
    "    for i in range(len(order_items)):\n",
    "        obj = order_items[i]\n",
    "        new_key_order = ['id', 'order_id', 'quantity', 'product']\n",
    "        reordered_obj = {k: obj[k] for k in new_key_order}\n",
    "        order_items[i] = reordered_obj\n",
    "    print(order_items)"
   ]
  },
  {
   "cell_type": "code",
   "execution_count": 17,
   "id": "6d3864b8-66bd-4756-a0f9-e41ae1b4b630",
   "metadata": {},
   "outputs": [
    {
     "name": "stdout",
     "output_type": "stream",
     "text": [
      "[{'id': 1, 'order_id': 1, 'quantity': 52, 'product': '100000000001'}, {'id': 2, 'order_id': 1, 'quantity': 111, 'product': '100011111111'}, {'id': 3, 'order_id': 1, 'quantity': 133, 'product': '100000011111'}, {'id': 4, 'order_id': 1, 'quantity': 71, 'product': '600000000002'}, {'id': 5, 'order_id': 1, 'quantity': 62, 'product': '100000001111'}, {'id': 6, 'order_id': 2, 'quantity': 16, 'product': '100000000111'}, {'id': 7, 'order_id': 2, 'quantity': 86, 'product': '100000000011'}, {'id': 8, 'order_id': 3, 'quantity': 74, 'product': '100000001111'}, {'id': 9, 'order_id': 3, 'quantity': 34, 'product': '100000000001'}, {'id': 10, 'order_id': 4, 'quantity': 36, 'product': '100001111111'}, {'id': 11, 'order_id': 4, 'quantity': 6, 'product': '100000000111'}, {'id': 12, 'order_id': 4, 'quantity': 123, 'product': '100000000001'}, {'id': 13, 'order_id': 4, 'quantity': 2, 'product': '100000111111'}, {'id': 14, 'order_id': 4, 'quantity': 53, 'product': '100011111111'}]\n"
     ]
    }
   ],
   "source": [
    "reorder_dictionary_for_consistency()"
   ]
  },
  {
   "cell_type": "code",
   "execution_count": 24,
   "id": "2a6f974d-b517-4ea4-8021-adfd2870828c",
   "metadata": {},
   "outputs": [],
   "source": [
    "def print_it():\n",
    "    print(\"um\")\n",
    "    string = \"\"\n",
    "    for i in range(len(order_items)):\n",
    "        values = f\"(order_id, quantity, upc)\"\n",
    "        # string = string + f\"INSERT INTO order_items VALUES({order_items[i]['id']}, {order_items[i]['order_id']}, {order_items[i]['quantity']}, '{order_items[i]['product']}');\\n\"\n",
    "        string = string + f\"INSERT INTO order_items {values} VALUES({order_items[i]['order_id']}, {order_items[i]['quantity']}, '{order_items[i]['product']}');\\n\"\n",
    "    print(string)"
   ]
  },
  {
   "cell_type": "code",
   "execution_count": 25,
   "id": "214c7eed-b247-49c6-a9e1-f4ac8adc749c",
   "metadata": {},
   "outputs": [
    {
     "name": "stdout",
     "output_type": "stream",
     "text": [
      "um\n",
      "INSERT INTO order_items (order_id, quantity, upc) VALUES(1, 52, '100000000001');\n",
      "INSERT INTO order_items (order_id, quantity, upc) VALUES(1, 111, '100011111111');\n",
      "INSERT INTO order_items (order_id, quantity, upc) VALUES(1, 133, '100000011111');\n",
      "INSERT INTO order_items (order_id, quantity, upc) VALUES(1, 71, '600000000002');\n",
      "INSERT INTO order_items (order_id, quantity, upc) VALUES(1, 62, '100000001111');\n",
      "INSERT INTO order_items (order_id, quantity, upc) VALUES(2, 16, '100000000111');\n",
      "INSERT INTO order_items (order_id, quantity, upc) VALUES(2, 86, '100000000011');\n",
      "INSERT INTO order_items (order_id, quantity, upc) VALUES(3, 74, '100000001111');\n",
      "INSERT INTO order_items (order_id, quantity, upc) VALUES(3, 34, '100000000001');\n",
      "INSERT INTO order_items (order_id, quantity, upc) VALUES(4, 36, '100001111111');\n",
      "INSERT INTO order_items (order_id, quantity, upc) VALUES(4, 6, '100000000111');\n",
      "INSERT INTO order_items (order_id, quantity, upc) VALUES(4, 123, '100000000001');\n",
      "INSERT INTO order_items (order_id, quantity, upc) VALUES(4, 2, '100000111111');\n",
      "INSERT INTO order_items (order_id, quantity, upc) VALUES(4, 53, '100011111111');\n",
      "\n"
     ]
    }
   ],
   "source": [
    "print_it()"
   ]
  },
  {
   "cell_type": "code",
   "execution_count": null,
   "id": "dbb993c2-19a0-4b07-9753-d830ef08afd1",
   "metadata": {},
   "outputs": [],
   "source": []
  },
  {
   "cell_type": "code",
   "execution_count": null,
   "id": "bb1ca0cc-869b-45ae-9535-96b220a944d6",
   "metadata": {},
   "outputs": [],
   "source": []
  },
  {
   "cell_type": "code",
   "execution_count": null,
   "id": "36a8d82a-8bdf-430c-a7d1-77324605c91e",
   "metadata": {},
   "outputs": [],
   "source": []
  }
 ],
 "metadata": {
  "kernelspec": {
   "display_name": "Python 3.10.4 64-bit ('3.10.4': pyenv)",
   "language": "python",
   "name": "python3"
  },
  "language_info": {
   "codemirror_mode": {
    "name": "ipython",
    "version": 3
   },
   "file_extension": ".py",
   "mimetype": "text/x-python",
   "name": "python",
   "nbconvert_exporter": "python",
   "pygments_lexer": "ipython3",
   "version": "3.10.4"
  },
  "vscode": {
   "interpreter": {
    "hash": "40f2ac86c2ff9164d8eaaa1295186d7af6cf88d800a0e97dfa509aa9a79fa4b6"
   }
  }
 },
 "nbformat": 4,
 "nbformat_minor": 5
}
