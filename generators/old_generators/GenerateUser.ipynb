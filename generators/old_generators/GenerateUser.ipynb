{
 "cells": [
  {
   "cell_type": "code",
   "execution_count": 1,
   "id": "9670d238-4cd8-4ad6-ac82-e6e138fd7e36",
   "metadata": {},
   "outputs": [],
   "source": [
    "from random import randint\n",
    "from random import choice\n",
    "from faker import Faker"
   ]
  },
  {
   "cell_type": "code",
   "execution_count": 2,
   "id": "cef307f8",
   "metadata": {},
   "outputs": [],
   "source": [
    "fake = Faker()"
   ]
  },
  {
   "cell_type": "code",
   "execution_count": 3,
   "id": "09669706",
   "metadata": {},
   "outputs": [],
   "source": [
    "def phone():\n",
    "    num = f'{fake.msisdn()[3:]}'\n",
    "    all_gucci = False\n",
    "    while  not all_gucci:\n",
    "        if num[0] == '1' or num[0] == '0' or num[3] == '1' or num[3] == '0' or num[3:6] == '911':\n",
    "            num = f'{fake.msisdn()[3:]}'\n",
    "        else:\n",
    "            all_gucci = True\n",
    "    return num"
   ]
  },
  {
   "cell_type": "code",
   "execution_count": 4,
   "id": "e68b67aa",
   "metadata": {},
   "outputs": [],
   "source": [
    "user_list = []"
   ]
  },
  {
   "cell_type": "code",
   "execution_count": 5,
   "id": "3a2bb2a3-cfe6-4220-ae0a-38f7eb9b4899",
   "metadata": {},
   "outputs": [],
   "source": [
    "def generate_users(num_users):\n",
    "    \n",
    "    \n",
    "    for i in range(0, num_users):\n",
    "        fname = fake.first_name()\n",
    "        lname = fake.last_name()\n",
    "        email_bridge = choice(['', choice(['-','_',str(randint(0,9))])])\n",
    "        email_affectation = choice(['', choice(['','',str(randint(0,9)),'fan',choice(['68', '419', '41968'])])])\n",
    "        domain = choice(['com','net',choice(['edu','org','gov'])])\n",
    "        person = {\n",
    "            \"id\"            : i + 1,\n",
    "            \"email\"         : fname.lower() + f\"{email_bridge}{lname.lower()}{email_affectation}{randint(0,100)}@example.{domain}\",\n",
    "            \"first_name\"    : fname,\n",
    "            \"last_name\"     : lname,\n",
    "            \"user_password\" : fake.password(),\n",
    "            \"phone\"         : phone(),\n",
    "        }       \n",
    "\n",
    "        user_list.append(person)\n",
    "    print(user_list)"
   ]
  },
  {
   "cell_type": "code",
   "execution_count": 6,
   "id": "bff19e63",
   "metadata": {},
   "outputs": [
    {
     "name": "stdout",
     "output_type": "stream",
     "text": [
      "[{'id': 1, 'email': 'marvinarnold98@example.net', 'first_name': 'Marvin', 'last_name': 'Arnold', 'user_password': 'B@4ZbFFBy%', 'phone': '4107472018'}, {'id': 2, 'email': 'heatherpreston363@example.com', 'first_name': 'Heather', 'last_name': 'Preston', 'user_password': '!+YB^vsSl4', 'phone': '8684825938'}, {'id': 3, 'email': 'eric-goodman38@example.com', 'first_name': 'Eric', 'last_name': 'Goodman', 'user_password': '^PC1TW2rH3', 'phone': '3844512010'}, {'id': 4, 'email': 'lisamoore96@example.edu', 'first_name': 'Lisa', 'last_name': 'Moore', 'user_password': 'avj1LnWcb*', 'phone': '3006987690'}, {'id': 5, 'email': 'tracylong74@example.com', 'first_name': 'Tracy', 'last_name': 'Long', 'user_password': 'L++h3aMaa+', 'phone': '7854017027'}, {'id': 6, 'email': 'james-reed274@example.edu', 'first_name': 'James', 'last_name': 'Reed', 'user_password': '5qBDFvz6%H', 'phone': '2827674457'}, {'id': 7, 'email': 'victoriarodriguez4196886@example.net', 'first_name': 'Victoria', 'last_name': 'Rodriguez', 'user_password': 'IlvE_Y(e_0', 'phone': '3926089541'}, {'id': 8, 'email': 'stephaniewilson67@example.com', 'first_name': 'Stephanie', 'last_name': 'Wilson', 'user_password': '1945MNqb@E', 'phone': '7143949186'}, {'id': 9, 'email': 'kayla5stewart41@example.org', 'first_name': 'Kayla', 'last_name': 'Stewart', 'user_password': 'Ym+&7LHcLL', 'phone': '2577126530'}, {'id': 10, 'email': 'coryperry48@example.edu', 'first_name': 'Cory', 'last_name': 'Perry', 'user_password': '3dYNWEjJ&b', 'phone': '6775447370'}]\n"
     ]
    }
   ],
   "source": [
    "generate_users(10)"
   ]
  },
  {
   "cell_type": "code",
   "execution_count": 9,
   "id": "4caa6c14-1888-4a74-b3cd-a30b0575e892",
   "metadata": {},
   "outputs": [],
   "source": [
    "def print_it():\n",
    "    string = \"\"\n",
    "    values = f\"(email, first_name, last_name, user_password, phone)\"\n",
    "    for i in range(len(user_list)):\n",
    "        string = string + f\"INSERT INTO users {values} VALUES('{user_list[i]['email']}', '{user_list[i]['first_name']}', '{user_list[i]['last_name']}', '{user_list[i]['user_password']}', '{user_list[i]['phone']}');\\n\"\n",
    "    print(string)"
   ]
  },
  {
   "cell_type": "code",
   "execution_count": 10,
   "id": "9abfb11f-2775-4d01-bf4a-058b88410b2b",
   "metadata": {},
   "outputs": [
    {
     "name": "stdout",
     "output_type": "stream",
     "text": [
      "INSERT INTO users (email, first_name, last_name, user_password, phone) VALUES('marvinarnold98@example.net', 'Marvin', 'Arnold', 'B@4ZbFFBy%', '4107472018');\n",
      "INSERT INTO users (email, first_name, last_name, user_password, phone) VALUES('heatherpreston363@example.com', 'Heather', 'Preston', '!+YB^vsSl4', '8684825938');\n",
      "INSERT INTO users (email, first_name, last_name, user_password, phone) VALUES('eric-goodman38@example.com', 'Eric', 'Goodman', '^PC1TW2rH3', '3844512010');\n",
      "INSERT INTO users (email, first_name, last_name, user_password, phone) VALUES('lisamoore96@example.edu', 'Lisa', 'Moore', 'avj1LnWcb*', '3006987690');\n",
      "INSERT INTO users (email, first_name, last_name, user_password, phone) VALUES('tracylong74@example.com', 'Tracy', 'Long', 'L++h3aMaa+', '7854017027');\n",
      "INSERT INTO users (email, first_name, last_name, user_password, phone) VALUES('james-reed274@example.edu', 'James', 'Reed', '5qBDFvz6%H', '2827674457');\n",
      "INSERT INTO users (email, first_name, last_name, user_password, phone) VALUES('victoriarodriguez4196886@example.net', 'Victoria', 'Rodriguez', 'IlvE_Y(e_0', '3926089541');\n",
      "INSERT INTO users (email, first_name, last_name, user_password, phone) VALUES('stephaniewilson67@example.com', 'Stephanie', 'Wilson', '1945MNqb@E', '7143949186');\n",
      "INSERT INTO users (email, first_name, last_name, user_password, phone) VALUES('kayla5stewart41@example.org', 'Kayla', 'Stewart', 'Ym+&7LHcLL', '2577126530');\n",
      "INSERT INTO users (email, first_name, last_name, user_password, phone) VALUES('coryperry48@example.edu', 'Cory', 'Perry', '3dYNWEjJ&b', '6775447370');\n",
      "\n"
     ]
    }
   ],
   "source": [
    "print_it()"
   ]
  },
  {
   "cell_type": "code",
   "execution_count": null,
   "id": "c702f738",
   "metadata": {},
   "outputs": [],
   "source": []
  },
  {
   "cell_type": "code",
   "execution_count": null,
   "id": "10c9b82d",
   "metadata": {},
   "outputs": [],
   "source": []
  }
 ],
 "metadata": {
  "kernelspec": {
   "display_name": "Python 3.10.4 64-bit ('3.10.4')",
   "language": "python",
   "name": "python3"
  },
  "language_info": {
   "codemirror_mode": {
    "name": "ipython",
    "version": 3
   },
   "file_extension": ".py",
   "mimetype": "text/x-python",
   "name": "python",
   "nbconvert_exporter": "python",
   "pygments_lexer": "ipython3",
   "version": "3.10.4"
  },
  "vscode": {
   "interpreter": {
    "hash": "40f2ac86c2ff9164d8eaaa1295186d7af6cf88d800a0e97dfa509aa9a79fa4b6"
   }
  }
 },
 "nbformat": 4,
 "nbformat_minor": 5
}
