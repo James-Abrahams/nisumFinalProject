{
 "cells": [
  {
   "cell_type": "code",
   "execution_count": 3,
   "id": "9670d238-4cd8-4ad6-ac82-e6e138fd7e36",
   "metadata": {},
   "outputs": [],
   "source": [
    "from random import randint, choice, choices\n",
    "import string\n",
    "from faker import Faker\n",
    "from datetime import *"
   ]
  },
  {
   "cell_type": "code",
   "execution_count": 4,
   "id": "cef307f8",
   "metadata": {},
   "outputs": [],
   "source": [
    "fake = Faker()"
   ]
  },
  {
   "cell_type": "code",
   "execution_count": 5,
   "metadata": {},
   "outputs": [
    {
     "name": "stdout",
     "output_type": "stream",
     "text": [
      "2020-01-24\n"
     ]
    }
   ],
   "source": [
    "print(fake.date())"
   ]
  },
  {
   "cell_type": "code",
   "execution_count": 6,
   "id": "e68b67aa",
   "metadata": {},
   "outputs": [],
   "source": [
    "orders = []"
   ]
  },
  {
   "cell_type": "code",
   "execution_count": 7,
   "metadata": {},
   "outputs": [
    {
     "name": "stdout",
     "output_type": "stream",
     "text": [
      "['2022', '09', '23']\n"
     ]
    }
   ],
   "source": [
    "today = date.today()\n",
    "today = str(today).split(\"-\")\n",
    "print(today)"
   ]
  },
  {
   "cell_type": "code",
   "execution_count": 8,
   "metadata": {},
   "outputs": [],
   "source": [
    "next_order_year  = int(today[0])\n",
    "next_order_month = int(today[1])\n",
    "next_order_day   = int(today[2])"
   ]
  },
  {
   "cell_type": "code",
   "execution_count": 9,
   "metadata": {},
   "outputs": [],
   "source": [
    "order_times = []"
   ]
  },
  {
   "cell_type": "code",
   "execution_count": 10,
   "metadata": {},
   "outputs": [
    {
     "name": "stdout",
     "output_type": "stream",
     "text": [
      "[{'ordered': '2021-06-18', 'shipped': 'NULL', 'delivered': 'NULL'}, {'ordered': '2020-12-09', 'shipped': '2020-12-09', 'delivered': 'NULL'}, {'ordered': '2021-02-18', 'shipped': 'NULL', 'delivered': 'NULL'}, {'ordered': '2019-12-27', 'shipped': '2019-12-28', 'delivered': 'NULL'}, {'ordered': '2021-07-19', 'shipped': '2021-07-22', 'delivered': 'NULL'}, {'ordered': '2022-04-12', 'shipped': 'NULL', 'delivered': 'NULL'}, {'ordered': '2022-01-18', 'shipped': 'NULL', 'delivered': 'NULL'}, {'ordered': '2021-05-16', 'shipped': 'NULL', 'delivered': 'NULL'}, {'ordered': '2019-03-29', 'shipped': '2019-03-29', 'delivered': 'NULL'}, {'ordered': '2022-08-16', 'shipped': 'NULL', 'delivered': 'NULL'}]\n"
     ]
    }
   ],
   "source": [
    "today = datetime.today()\n",
    "\n",
    "num_orders = 10\n",
    "def rand_days():\n",
    "    return choice([0, randint(0,4)])\n",
    "\n",
    "for i in range(num_orders):\n",
    "    ordered = fake.date_between_dates(date_start=datetime(2018,1,1), date_end=datetime(2022,9,16))\n",
    "    to_ship_time = (ordered + timedelta(days=rand_days()))\n",
    "    shipped = choices(['NULL', to_ship_time], [100, 99])[0]\n",
    "    if shipped != 'NULL':\n",
    "        delivered = choices(['NULL' , shipped + timedelta(days=rand_days())], [200, 98])[0]\n",
    "    else:\n",
    "        delivered = 'NULL'\n",
    "    order_times.append({'ordered': str(ordered), 'shipped': str(shipped), 'delivered': str(delivered)})\n",
    "    # print('ordered: ', ordered, 'shipped: ', shipped, 'delivered: ', delivered, end = '\\n')\n",
    "print(order_times)"
   ]
  },
  {
   "cell_type": "code",
   "execution_count": 11,
   "metadata": {},
   "outputs": [],
   "source": [
    "# def date_ordered():\n",
    "#     order_date = fake.date_between_dates(\n",
    "#         date_start=datetime.date(\n",
    "#             next_order_year, \n",
    "#             next_order_month, \n",
    "#             next_order_day\n",
    "#         ), \n",
    "#         date_end=datetime.date(\n",
    "#             next_order_year + choice(0, ), \n",
    "#             next_order_month, \n",
    "#             next_order_day)).year\n",
    "#         )"
   ]
  },
  {
   "cell_type": "code",
   "execution_count": 12,
   "metadata": {},
   "outputs": [],
   "source": [
    "def order_status(order_time):\n",
    "    for date in order_times:\n",
    "        if order_time['delivered'] != 'NULL':\n",
    "            return 'DELIVERED'\n",
    "        elif order_time['shipped'] != 'NULL':\n",
    "            return 'IN TRANSIT'\n",
    "        else:\n",
    "            return 'ORDERED'"
   ]
  },
  {
   "cell_type": "code",
   "execution_count": 13,
   "metadata": {},
   "outputs": [],
   "source": [
    "def generate_orders(num_orders):\n",
    "    total_orders = num_orders\n",
    "    i = 0\n",
    "    while i < total_orders:\n",
    "        \n",
    "        order = {\n",
    "            \"order_id\"        : i + 1,\n",
    "            \"user_id\"         : i + 1,\n",
    "            \"address_id\"      : i + 1,\n",
    "            \"price\"           : round(randint(0, 300) + 0.99 * randint(1, 30), 2),\n",
    "            \"credit_card_id\"  : i + 1,\n",
    "            \"date_ordered\"    : order_times[i]['ordered'],\n",
    "            \"date_shipped\"    : order_times[i]['shipped'], #is shipped? if so ship date function\n",
    "            \"date_delivered\"  : order_times[i]['delivered'], #is order? if so del date function\n",
    "            \"order_status\"    : order_status(order_times[i]),\n",
    "        }       \n",
    "\n",
    "        orders.append(order)\n",
    "        i += 1\n",
    "    print(orders)"
   ]
  },
  {
   "cell_type": "code",
   "execution_count": 14,
   "metadata": {},
   "outputs": [
    {
     "name": "stdout",
     "output_type": "stream",
     "text": [
      "[{'order_id': 1, 'user_id': 1, 'address_id': 1, 'price': 139.77, 'credit_card_id': 1, 'date_ordered': '2021-06-18', 'date_shipped': 'NULL', 'date_delivered': 'NULL', 'order_status': 'ORDERED'}, {'order_id': 2, 'user_id': 2, 'address_id': 2, 'price': 297.79, 'credit_card_id': 2, 'date_ordered': '2020-12-09', 'date_shipped': '2020-12-09', 'date_delivered': 'NULL', 'order_status': 'IN TRANSIT'}, {'order_id': 3, 'user_id': 3, 'address_id': 3, 'price': 40.95, 'credit_card_id': 3, 'date_ordered': '2021-02-18', 'date_shipped': 'NULL', 'date_delivered': 'NULL', 'order_status': 'ORDERED'}, {'order_id': 4, 'user_id': 4, 'address_id': 4, 'price': 159.78, 'credit_card_id': 4, 'date_ordered': '2019-12-27', 'date_shipped': '2019-12-28', 'date_delivered': 'NULL', 'order_status': 'IN TRANSIT'}, {'order_id': 5, 'user_id': 5, 'address_id': 5, 'price': 233.8, 'credit_card_id': 5, 'date_ordered': '2021-07-19', 'date_shipped': '2021-07-22', 'date_delivered': 'NULL', 'order_status': 'IN TRANSIT'}, {'order_id': 6, 'user_id': 6, 'address_id': 6, 'price': 274.71, 'credit_card_id': 6, 'date_ordered': '2022-04-12', 'date_shipped': 'NULL', 'date_delivered': 'NULL', 'order_status': 'ORDERED'}, {'order_id': 7, 'user_id': 7, 'address_id': 7, 'price': 103.75, 'credit_card_id': 7, 'date_ordered': '2022-01-18', 'date_shipped': 'NULL', 'date_delivered': 'NULL', 'order_status': 'ORDERED'}, {'order_id': 8, 'user_id': 8, 'address_id': 8, 'price': 64.88, 'credit_card_id': 8, 'date_ordered': '2021-05-16', 'date_shipped': 'NULL', 'date_delivered': 'NULL', 'order_status': 'ORDERED'}, {'order_id': 9, 'user_id': 9, 'address_id': 9, 'price': 273.99, 'credit_card_id': 9, 'date_ordered': '2019-03-29', 'date_shipped': '2019-03-29', 'date_delivered': 'NULL', 'order_status': 'IN TRANSIT'}, {'order_id': 10, 'user_id': 10, 'address_id': 10, 'price': 148.78, 'credit_card_id': 10, 'date_ordered': '2022-08-16', 'date_shipped': 'NULL', 'date_delivered': 'NULL', 'order_status': 'ORDERED'}]\n"
     ]
    }
   ],
   "source": [
    "generate_orders(10)"
   ]
  },
  {
   "cell_type": "code",
   "execution_count": 15,
   "id": "101ed5e9",
   "metadata": {},
   "outputs": [
    {
     "name": "stdout",
     "output_type": "stream",
     "text": [
      "[{'order_id': 1, 'user_id': 1, 'address_id': 1, 'price': 139.77, 'credit_card_id': 1, 'date_ordered': '2021-06-18', 'date_shipped': 'NULL', 'date_delivered': 'NULL', 'order_status': 'ORDERED'}, {'order_id': 2, 'user_id': 2, 'address_id': 2, 'price': 297.79, 'credit_card_id': 2, 'date_ordered': '2020-12-09', 'date_shipped': '2020-12-09', 'date_delivered': 'NULL', 'order_status': 'IN TRANSIT'}, {'order_id': 3, 'user_id': 3, 'address_id': 3, 'price': 40.95, 'credit_card_id': 3, 'date_ordered': '2021-02-18', 'date_shipped': 'NULL', 'date_delivered': 'NULL', 'order_status': 'ORDERED'}, {'order_id': 4, 'user_id': 4, 'address_id': 4, 'price': 159.78, 'credit_card_id': 4, 'date_ordered': '2019-12-27', 'date_shipped': '2019-12-28', 'date_delivered': 'NULL', 'order_status': 'IN TRANSIT'}, {'order_id': 5, 'user_id': 5, 'address_id': 5, 'price': 233.8, 'credit_card_id': 5, 'date_ordered': '2021-07-19', 'date_shipped': '2021-07-22', 'date_delivered': 'NULL', 'order_status': 'IN TRANSIT'}, {'order_id': 6, 'user_id': 6, 'address_id': 6, 'price': 274.71, 'credit_card_id': 6, 'date_ordered': '2022-04-12', 'date_shipped': 'NULL', 'date_delivered': 'NULL', 'order_status': 'ORDERED'}, {'order_id': 7, 'user_id': 7, 'address_id': 7, 'price': 103.75, 'credit_card_id': 7, 'date_ordered': '2022-01-18', 'date_shipped': 'NULL', 'date_delivered': 'NULL', 'order_status': 'ORDERED'}, {'order_id': 8, 'user_id': 8, 'address_id': 8, 'price': 64.88, 'credit_card_id': 8, 'date_ordered': '2021-05-16', 'date_shipped': 'NULL', 'date_delivered': 'NULL', 'order_status': 'ORDERED'}, {'order_id': 9, 'user_id': 9, 'address_id': 9, 'price': 273.99, 'credit_card_id': 9, 'date_ordered': '2019-03-29', 'date_shipped': '2019-03-29', 'date_delivered': 'NULL', 'order_status': 'IN TRANSIT'}, {'order_id': 10, 'user_id': 10, 'address_id': 10, 'price': 148.78, 'credit_card_id': 10, 'date_ordered': '2022-08-16', 'date_shipped': 'NULL', 'date_delivered': 'NULL', 'order_status': 'ORDERED'}, {'order_id': 1, 'user_id': 1, 'address_id': 1, 'price': 134.78, 'credit_card_id': 1, 'date_ordered': '2021-06-18', 'date_shipped': 'NULL', 'date_delivered': 'NULL', 'order_status': 'ORDERED'}, {'order_id': 2, 'user_id': 2, 'address_id': 2, 'price': 140.91, 'credit_card_id': 2, 'date_ordered': '2020-12-09', 'date_shipped': '2020-12-09', 'date_delivered': 'NULL', 'order_status': 'IN TRANSIT'}, {'order_id': 3, 'user_id': 3, 'address_id': 3, 'price': 133.97, 'credit_card_id': 3, 'date_ordered': '2021-02-18', 'date_shipped': 'NULL', 'date_delivered': 'NULL', 'order_status': 'ORDERED'}, {'order_id': 4, 'user_id': 4, 'address_id': 4, 'price': 207.75, 'credit_card_id': 4, 'date_ordered': '2019-12-27', 'date_shipped': '2019-12-28', 'date_delivered': 'NULL', 'order_status': 'IN TRANSIT'}, {'order_id': 5, 'user_id': 5, 'address_id': 5, 'price': 59.88, 'credit_card_id': 5, 'date_ordered': '2021-07-19', 'date_shipped': '2021-07-22', 'date_delivered': 'NULL', 'order_status': 'IN TRANSIT'}, {'order_id': 6, 'user_id': 6, 'address_id': 6, 'price': 300.8, 'credit_card_id': 6, 'date_ordered': '2022-04-12', 'date_shipped': 'NULL', 'date_delivered': 'NULL', 'order_status': 'ORDERED'}, {'order_id': 7, 'user_id': 7, 'address_id': 7, 'price': 125.94, 'credit_card_id': 7, 'date_ordered': '2022-01-18', 'date_shipped': 'NULL', 'date_delivered': 'NULL', 'order_status': 'ORDERED'}, {'order_id': 8, 'user_id': 8, 'address_id': 8, 'price': 17.83, 'credit_card_id': 8, 'date_ordered': '2021-05-16', 'date_shipped': 'NULL', 'date_delivered': 'NULL', 'order_status': 'ORDERED'}, {'order_id': 9, 'user_id': 9, 'address_id': 9, 'price': 282.96, 'credit_card_id': 9, 'date_ordered': '2019-03-29', 'date_shipped': '2019-03-29', 'date_delivered': 'NULL', 'order_status': 'IN TRANSIT'}, {'order_id': 10, 'user_id': 10, 'address_id': 10, 'price': 217.71, 'credit_card_id': 10, 'date_ordered': '2022-08-16', 'date_shipped': 'NULL', 'date_delivered': 'NULL', 'order_status': 'ORDERED'}]\n"
     ]
    }
   ],
   "source": [
    "generate_orders(10)"
   ]
  },
  {
   "cell_type": "code",
   "execution_count": 16,
   "id": "4caa6c14-1888-4a74-b3cd-a30b0575e892",
   "metadata": {},
   "outputs": [],
   "source": [
    "def print_it():\n",
    "    string = \"\"\n",
    "    values = f\"(user_id, address_id, price, credit_card_id, date_ordered, date_shipped, date_delivered, order_status)\"\n",
    "    for i in range(len(orders)):\n",
    "        shipped_val = f\"'{orders[i]['date_shipped']}'\" \n",
    "        delivered_val = f\"'{orders[i]['date_delivered']}'\" \n",
    "        user_id = orders[i]['user_id'] if 'user_id' in orders[i] else i + 1\n",
    "        # string = string + f\"INSERT INTO orders VALUES({orders[i]['order_id']}, {user_id}, {orders[i]['address_id']}, {orders[i]['price']}, {orders[i]['credit_card_id']}, '{orders[i]['date_ordered']}', {'NULL' if orders[i]['date_shipped'] == 'NULL' else f'{shipped_val}'}, {'NULL' if orders[i]['date_delivered'] == 'NULL' else f'{delivered_val}'}, '{orders[i]['order_status']}');\\n\"\n",
    "        string = string + f\"INSERT INTO orders {values} VALUES({user_id}, {orders[i]['address_id']}, {orders[i]['price']}, {orders[i]['credit_card_id']}, '{orders[i]['date_ordered']}', {'NULL' if orders[i]['date_shipped'] == 'NULL' else f'{shipped_val}'}, {'NULL' if orders[i]['date_delivered'] == 'NULL' else f'{delivered_val}'}, '{orders[i]['order_status']}');\\n\"\n",
    "                                                                                                                                                                                             # 'NULL' if orders[i]['date_delivered'] == 'NULL' else f'{delivered_val}'\n",
    "    print(string)"
   ]
  },
  {
   "cell_type": "code",
   "execution_count": 17,
   "id": "9abfb11f-2775-4d01-bf4a-058b88410b2b",
   "metadata": {},
   "outputs": [
    {
     "name": "stdout",
     "output_type": "stream",
     "text": [
      "INSERT INTO orders (user_id, address_id, price, credit_card_id, date_ordered, date_shipped, date_delivered, order_status) VALUES(1, 1, 139.77, 1, '2021-06-18', NULL, NULL, 'ORDERED');\n",
      "INSERT INTO orders (user_id, address_id, price, credit_card_id, date_ordered, date_shipped, date_delivered, order_status) VALUES(2, 2, 297.79, 2, '2020-12-09', '2020-12-09', NULL, 'IN TRANSIT');\n",
      "INSERT INTO orders (user_id, address_id, price, credit_card_id, date_ordered, date_shipped, date_delivered, order_status) VALUES(3, 3, 40.95, 3, '2021-02-18', NULL, NULL, 'ORDERED');\n",
      "INSERT INTO orders (user_id, address_id, price, credit_card_id, date_ordered, date_shipped, date_delivered, order_status) VALUES(4, 4, 159.78, 4, '2019-12-27', '2019-12-28', NULL, 'IN TRANSIT');\n",
      "INSERT INTO orders (user_id, address_id, price, credit_card_id, date_ordered, date_shipped, date_delivered, order_status) VALUES(5, 5, 233.8, 5, '2021-07-19', '2021-07-22', NULL, 'IN TRANSIT');\n",
      "INSERT INTO orders (user_id, address_id, price, credit_card_id, date_ordered, date_shipped, date_delivered, order_status) VALUES(6, 6, 274.71, 6, '2022-04-12', NULL, NULL, 'ORDERED');\n",
      "INSERT INTO orders (user_id, address_id, price, credit_card_id, date_ordered, date_shipped, date_delivered, order_status) VALUES(7, 7, 103.75, 7, '2022-01-18', NULL, NULL, 'ORDERED');\n",
      "INSERT INTO orders (user_id, address_id, price, credit_card_id, date_ordered, date_shipped, date_delivered, order_status) VALUES(8, 8, 64.88, 8, '2021-05-16', NULL, NULL, 'ORDERED');\n",
      "INSERT INTO orders (user_id, address_id, price, credit_card_id, date_ordered, date_shipped, date_delivered, order_status) VALUES(9, 9, 273.99, 9, '2019-03-29', '2019-03-29', NULL, 'IN TRANSIT');\n",
      "INSERT INTO orders (user_id, address_id, price, credit_card_id, date_ordered, date_shipped, date_delivered, order_status) VALUES(10, 10, 148.78, 10, '2022-08-16', NULL, NULL, 'ORDERED');\n",
      "INSERT INTO orders (user_id, address_id, price, credit_card_id, date_ordered, date_shipped, date_delivered, order_status) VALUES(1, 1, 134.78, 1, '2021-06-18', NULL, NULL, 'ORDERED');\n",
      "INSERT INTO orders (user_id, address_id, price, credit_card_id, date_ordered, date_shipped, date_delivered, order_status) VALUES(2, 2, 140.91, 2, '2020-12-09', '2020-12-09', NULL, 'IN TRANSIT');\n",
      "INSERT INTO orders (user_id, address_id, price, credit_card_id, date_ordered, date_shipped, date_delivered, order_status) VALUES(3, 3, 133.97, 3, '2021-02-18', NULL, NULL, 'ORDERED');\n",
      "INSERT INTO orders (user_id, address_id, price, credit_card_id, date_ordered, date_shipped, date_delivered, order_status) VALUES(4, 4, 207.75, 4, '2019-12-27', '2019-12-28', NULL, 'IN TRANSIT');\n",
      "INSERT INTO orders (user_id, address_id, price, credit_card_id, date_ordered, date_shipped, date_delivered, order_status) VALUES(5, 5, 59.88, 5, '2021-07-19', '2021-07-22', NULL, 'IN TRANSIT');\n",
      "INSERT INTO orders (user_id, address_id, price, credit_card_id, date_ordered, date_shipped, date_delivered, order_status) VALUES(6, 6, 300.8, 6, '2022-04-12', NULL, NULL, 'ORDERED');\n",
      "INSERT INTO orders (user_id, address_id, price, credit_card_id, date_ordered, date_shipped, date_delivered, order_status) VALUES(7, 7, 125.94, 7, '2022-01-18', NULL, NULL, 'ORDERED');\n",
      "INSERT INTO orders (user_id, address_id, price, credit_card_id, date_ordered, date_shipped, date_delivered, order_status) VALUES(8, 8, 17.83, 8, '2021-05-16', NULL, NULL, 'ORDERED');\n",
      "INSERT INTO orders (user_id, address_id, price, credit_card_id, date_ordered, date_shipped, date_delivered, order_status) VALUES(9, 9, 282.96, 9, '2019-03-29', '2019-03-29', NULL, 'IN TRANSIT');\n",
      "INSERT INTO orders (user_id, address_id, price, credit_card_id, date_ordered, date_shipped, date_delivered, order_status) VALUES(10, 10, 217.71, 10, '2022-08-16', NULL, NULL, 'ORDERED');\n",
      "\n"
     ]
    }
   ],
   "source": [
    "print_it()"
   ]
  },
  {
   "cell_type": "code",
   "execution_count": null,
   "metadata": {},
   "outputs": [],
   "source": []
  }
 ],
 "metadata": {
  "kernelspec": {
   "display_name": "Python 3.10.4 64-bit ('3.10.4')",
   "language": "python",
   "name": "python3"
  },
  "language_info": {
   "codemirror_mode": {
    "name": "ipython",
    "version": 3
   },
   "file_extension": ".py",
   "mimetype": "text/x-python",
   "name": "python",
   "nbconvert_exporter": "python",
   "pygments_lexer": "ipython3",
   "version": "3.10.4"
  },
  "orig_nbformat": 4,
  "vscode": {
   "interpreter": {
    "hash": "40f2ac86c2ff9164d8eaaa1295186d7af6cf88d800a0e97dfa509aa9a79fa4b6"
   }
  }
 },
 "nbformat": 4,
 "nbformat_minor": 2
}
