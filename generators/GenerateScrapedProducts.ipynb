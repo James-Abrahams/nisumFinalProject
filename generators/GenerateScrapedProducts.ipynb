{
 "cells": [
  {
   "cell_type": "code",
   "execution_count": null,
   "id": "9670d238-4cd8-4ad6-ac82-e6e138fd7e36",
   "metadata": {},
   "outputs": [],
   "source": [
    "from random import randint\n",
    "from random import choice\n"
   ]
  },
  {
   "cell_type": "code",
   "execution_count": null,
   "id": "e68b67aa",
   "metadata": {},
   "outputs": [],
   "source": [
    "product_list = []"
   ]
  },
  {
   "cell_type": "code",
   "execution_count": null,
   "id": "3a2bb2a3-cfe6-4220-ae0a-38f7eb9b4899",
   "metadata": {},
   "outputs": [],
   "source": [
    "def generate_products():\n",
    "    num_products = len(product_ids)\n",
    "    \n",
    "    for i in range(0, num_products):\n",
    "        product = {\n",
    "            \"upc\"              : \"\",\n",
    "            \"prod_name\"        : \"\",\n",
    "            \"brand\"            : \"\",\n",
    "            \"prod_description\" : \"\",\n",
    "            \"category\"         : \"\",\n",
    "            \"price_per_unit\"   : \"\",\n",
    "            \"image_url\"        : \"\",\n",
    "            \"available_stock\"  : \"\",\n",
    "            \"reserved_stock\"   : \"\",\n",
    "            \"shipped_stock\"    : \"\",\n",
    "        }\n",
    "        product[\"available_stock\"]  = randint(0, 200)\n",
    "        product[\"reserved_stock\"]   = randint(0, 30)\n",
    "        product[\"shipped_stock\"]    = randint(0, 60)         \n",
    "\n",
    "        product_list.append(product)\n",
    "    print(product_list)"
   ]
  },
  {
   "cell_type": "code",
   "execution_count": null,
   "id": "101ed5e9",
   "metadata": {},
   "outputs": [],
   "source": [
    "generate_products()"
   ]
  },
  {
   "cell_type": "code",
   "execution_count": null,
   "id": "4caa6c14-1888-4a74-b3cd-a30b0575e892",
   "metadata": {},
   "outputs": [],
   "source": [
    "def print_it():\n",
    "    print(\"um\")\n",
    "    string = \"\"\n",
    "    values = f\"(upc, prod_name, prod_description, brand, category, price_per_unit, image_url, available_stock, reserved_stock, shipped_stock)\"\n",
    "    for i in range(len(product_list)):\n",
    "        string = string + f\"INSERT INTO products VALUES('{product_list[i]['upc']}', '{product_list[i]['prod_name']}', '{product_list[i]['prod_description']}', '{product_list[i]['brand']}', '{product_list[i]['category']}', {product_list[i]['price_per_unit']}, '{product_list[i]['image_url']}', {product_list[i]['available_stock']}, {product_list[i]['reserved_stock']}, {product_list[i]['shipped_stock']},);\\n\"\n",
    "        # string = string + f\"INSERT INTO products {values} VALUES('{product_list[i]['upc']}', '{product_list[i]['prod_name']}', '{product_list[i]['prod_description']}', '{product_list[i]['brand']}', '{product_list[i]['category']}', {product_list[i]['price_per_unit']}, '{product_list[i]['image_url']}', {product_list[i]['available_stock']}, {product_list[i]['reserved_stock']}, {product_list[i]['shipped_stock']},);\\n\"\n",
    "    print(string)"
   ]
  },
  {
   "cell_type": "code",
   "execution_count": null,
   "id": "9abfb11f-2775-4d01-bf4a-058b88410b2b",
   "metadata": {},
   "outputs": [],
   "source": [
    "print_it()"
   ]
  },
  {
   "cell_type": "code",
   "execution_count": null,
   "id": "e5b7ab1c",
   "metadata": {},
   "outputs": [],
   "source": []
  }
 ],
 "metadata": {
  "kernelspec": {
   "display_name": "Python 3 (ipykernel)",
   "language": "python",
   "name": "python3"
  },
  "language_info": {
   "codemirror_mode": {
    "name": "ipython",
    "version": 3
   },
   "file_extension": ".py",
   "mimetype": "text/x-python",
   "name": "python",
   "nbconvert_exporter": "python",
   "pygments_lexer": "ipython3",
   "version": "3.10.4"
  },
  "vscode": {
   "interpreter": {
    "hash": "40f2ac86c2ff9164d8eaaa1295186d7af6cf88d800a0e97dfa509aa9a79fa4b6"
   }
  }
 },
 "nbformat": 4,
 "nbformat_minor": 5
}
