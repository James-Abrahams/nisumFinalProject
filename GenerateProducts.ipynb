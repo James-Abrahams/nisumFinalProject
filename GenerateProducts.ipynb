{
 "cells": [
  {
   "cell_type": "code",
   "execution_count": 1,
   "id": "9670d238-4cd8-4ad6-ac82-e6e138fd7e36",
   "metadata": {},
   "outputs": [],
   "source": [
    "from random import randint\n",
    "from random import choice\n",
    "from faker import Faker\n",
    "from faker_food import FoodProvider"
   ]
  },
  {
   "cell_type": "code",
   "execution_count": 2,
   "id": "cef307f8",
   "metadata": {},
   "outputs": [],
   "source": [
    "fake = Faker()\n",
    "fake.add_provider(FoodProvider)"
   ]
  },
  {
   "cell_type": "code",
   "execution_count": 3,
   "id": "cca5cebd-16f6-4ace-a987-e9858a27d64c",
   "metadata": {},
   "outputs": [],
   "source": [
    "product_ids = set()"
   ]
  },
  {
   "cell_type": "code",
   "execution_count": 4,
   "id": "e3887b04-6de4-42a4-8bf2-433bc20daf49",
   "metadata": {},
   "outputs": [],
   "source": [
    "def generate_product_ids(total_items):\n",
    "    for i in range(1, total_items):\n",
    "        upc = \"\"\n",
    "        for j in range(1, 12+1):\n",
    "            upc += str(randint(0, 10))\n",
    "        product_ids.add(upc)\n",
    "    print(product_ids)"
   ]
  },
  {
   "cell_type": "code",
   "execution_count": 5,
   "id": "04d5144d",
   "metadata": {},
   "outputs": [
    {
     "name": "stdout",
     "output_type": "stream",
     "text": [
      "{'780921576651', '611100101305108'}\n"
     ]
    }
   ],
   "source": [
    "generate_product_ids(3)"
   ]
  },
  {
   "cell_type": "code",
   "execution_count": 6,
   "id": "40f72fa3",
   "metadata": {},
   "outputs": [],
   "source": [
    "product_ids = list(product_ids)"
   ]
  },
  {
   "cell_type": "code",
   "execution_count": 7,
   "id": "b7864838-0a44-4859-8148-f9bfd9ef32da",
   "metadata": {},
   "outputs": [
    {
     "name": "stdout",
     "output_type": "stream",
     "text": [
      "2 ['780921576651', '611100101305108']\n"
     ]
    }
   ],
   "source": [
    "print(len(product_ids), product_ids)"
   ]
  },
  {
   "cell_type": "code",
   "execution_count": 8,
   "id": "e68b67aa",
   "metadata": {},
   "outputs": [],
   "source": [
    "product_list = []"
   ]
  },
  {
   "cell_type": "code",
   "execution_count": 9,
   "id": "3a2bb2a3-cfe6-4220-ae0a-38f7eb9b4899",
   "metadata": {},
   "outputs": [],
   "source": [
    "def generate_products():\n",
    "    num_products = len(product_ids)\n",
    "    \n",
    "    for i in range(0, num_products):\n",
    "        product = {\n",
    "            \"upc\"              : \"\",\n",
    "            \"prod_name\"        : \"\",\n",
    "            \"brand\"            : \"\",\n",
    "            \"prod_description\" : \"\",\n",
    "            \"category\"         : \"\",\n",
    "            \"price_per_unit\"   : \"\",\n",
    "            \"image_url\"        : \"\",\n",
    "            \"available_stock\"  : \"\",\n",
    "            \"reserved_stock\"   : \"\",\n",
    "            \"shipped_stock\"    : \"\",\n",
    "        }\n",
    "        product[\"upc\"]              = product_ids[i]\n",
    "        product[\"prod_name\"]        = fake.dish()\n",
    "        product[\"prod_description\"] = fake.dish_description()\n",
    "        product[\"brand\"]            = fake.vegetable() + \" Foods, Inc\"\n",
    "        product[\"category\"]         = choice([fake.ethnic_category(), fake.ingredient()])\n",
    "        product[\"price_per_unit\"]   = randint(0, 15) + 0.99\n",
    "        product[\"image_url\"]        = \"https://picsum.photos/100/\"\n",
    "        product[\"available_stock\"]  = randint(0, 200)\n",
    "        product[\"reserved_stock\"]   = randint(0, 30)\n",
    "        product[\"shipped_stock\"]    = randint(0, 60)         \n",
    "\n",
    "        product_list.append(product)\n",
    "    print(product_list)"
   ]
  },
  {
   "cell_type": "code",
   "execution_count": 10,
   "id": "101ed5e9",
   "metadata": {},
   "outputs": [
    {
     "name": "stdout",
     "output_type": "stream",
     "text": [
      "[{'upc': '780921576651', 'prod_name': 'Linguine with clams', 'brand': 'Green beans Foods, Inc', 'prod_description': 'Three egg omelet with Roquefort cheese, chives, and ham. With a side of roasted potatoes, and your choice of toast or croissant.', 'category': 'Feta', 'price_per_unit': 2.99, 'image_url': 'https://picsum.photos/100/', 'available_stock': 90, 'reserved_stock': 16, 'shipped_stock': 32}, {'upc': '611100101305108', 'prod_name': 'Fettuccine Alfredo', 'brand': 'Snowpea sprouts Foods, Inc', 'prod_description': 'Granny Smith apples mixed with brown sugar and butter filling, in a flaky all-butter crust, with ice cream.', 'category': 'Whiting Wild Rice', 'price_per_unit': 8.99, 'image_url': 'https://picsum.photos/100/', 'available_stock': 68, 'reserved_stock': 6, 'shipped_stock': 9}]\n"
     ]
    }
   ],
   "source": [
    "generate_products()"
   ]
  },
  {
   "cell_type": "code",
   "execution_count": 15,
   "id": "4caa6c14-1888-4a74-b3cd-a30b0575e892",
   "metadata": {},
   "outputs": [],
   "source": [
    "def print_it():\n",
    "    print(\"um\")\n",
    "    string = \"\"\n",
    "    values = f\"(upc, prod_name, prod_description, brand, category, price_per_unit, image_url, available_stock, reserved_stock, shipped_stock)\"\n",
    "    for i in range(len(product_list)):\n",
    "        # string = string + f\"INSERT INTO products VALUES('{product_list[i]['upc']}', '{product_list[i]['prod_name']}', '{product_list[i]['prod_description']}', '{product_list[i]['brand']}', '{product_list[i]['category']}', {product_list[i]['price_per_unit']}, '{product_list[i]['image_url']}', {product_list[i]['available_stock']}, {product_list[i]['reserved_stock']}, {product_list[i]['shipped_stock']},);\\n\"\n",
    "        string = string + f\"INSERT INTO products {values} VALUES('{product_list[i]['upc']}', '{product_list[i]['prod_name']}', '{product_list[i]['prod_description']}', '{product_list[i]['brand']}', '{product_list[i]['category']}', {product_list[i]['price_per_unit']}, '{product_list[i]['image_url']}', {product_list[i]['available_stock']}, {product_list[i]['reserved_stock']}, {product_list[i]['shipped_stock']},);\\n\"\n",
    "    print(string)"
   ]
  },
  {
   "cell_type": "code",
   "execution_count": 16,
   "id": "9abfb11f-2775-4d01-bf4a-058b88410b2b",
   "metadata": {},
   "outputs": [
    {
     "name": "stdout",
     "output_type": "stream",
     "text": [
      "um\n",
      "INSERT INTO products (upc, prod_name, prod_description, brand, category, price_per_unit, image_url, available_stock, reserved_stock, shipped_stock) VALUES('780921576651', 'Linguine with clams', 'Three egg omelet with Roquefort cheese, chives, and ham. With a side of roasted potatoes, and your choice of toast or croissant.', 'Green beans Foods, Inc', 'Feta', 2.99, 'https://picsum.photos/100/', 90, 16, 32,);\n",
      "INSERT INTO products (upc, prod_name, prod_description, brand, category, price_per_unit, image_url, available_stock, reserved_stock, shipped_stock) VALUES('611100101305108', 'Fettuccine Alfredo', 'Granny Smith apples mixed with brown sugar and butter filling, in a flaky all-butter crust, with ice cream.', 'Snowpea sprouts Foods, Inc', 'Whiting Wild Rice', 8.99, 'https://picsum.photos/100/', 68, 6, 9,);\n",
      "\n"
     ]
    }
   ],
   "source": [
    "print_it()"
   ]
  },
  {
   "cell_type": "code",
   "execution_count": null,
   "id": "e5b7ab1c",
   "metadata": {},
   "outputs": [],
   "source": []
  }
 ],
 "metadata": {
  "kernelspec": {
   "display_name": "Python 3 (ipykernel)",
   "language": "python",
   "name": "python3"
  },
  "language_info": {
   "codemirror_mode": {
    "name": "ipython",
    "version": 3
   },
   "file_extension": ".py",
   "mimetype": "text/x-python",
   "name": "python",
   "nbconvert_exporter": "python",
   "pygments_lexer": "ipython3",
   "version": "3.10.4"
  },
  "vscode": {
   "interpreter": {
    "hash": "40f2ac86c2ff9164d8eaaa1295186d7af6cf88d800a0e97dfa509aa9a79fa4b6"
   }
  }
 },
 "nbformat": 4,
 "nbformat_minor": 5
}
