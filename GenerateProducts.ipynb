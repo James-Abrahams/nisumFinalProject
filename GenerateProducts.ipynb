{
 "cells": [
  {
   "cell_type": "code",
   "execution_count": 105,
   "id": "9670d238-4cd8-4ad6-ac82-e6e138fd7e36",
   "metadata": {},
   "outputs": [],
   "source": [
    "from random import randint\n",
    "from random import choice\n",
    "from faker import Faker\n",
    "from faker_food import FoodProvider"
   ]
  },
  {
   "cell_type": "code",
   "execution_count": 106,
   "id": "cef307f8",
   "metadata": {},
   "outputs": [],
   "source": [
    "fake = Faker()\n",
    "fake.add_provider(FoodProvider)"
   ]
  },
  {
   "cell_type": "code",
   "execution_count": 107,
   "id": "cca5cebd-16f6-4ace-a987-e9858a27d64c",
   "metadata": {},
   "outputs": [],
   "source": [
    "product_ids = set()"
   ]
  },
  {
   "cell_type": "code",
   "execution_count": 108,
   "id": "e3887b04-6de4-42a4-8bf2-433bc20daf49",
   "metadata": {},
   "outputs": [],
   "source": [
    "def generate_product_ids(total_items):\n",
    "    for i in range(1, total_items):\n",
    "        upc = \"\"\n",
    "        for j in range(1, 12+1):\n",
    "            upc += str(randint(0, 10))\n",
    "        product_ids.add(upc)\n",
    "    print(product_ids)"
   ]
  },
  {
   "cell_type": "code",
   "execution_count": 109,
   "id": "04d5144d",
   "metadata": {},
   "outputs": [
    {
     "name": "stdout",
     "output_type": "stream",
     "text": [
      "{'760382714775', '48731070910828', '1059304508687', '554022717367', '98886544610410', '1210486061745', '0966828010850', '74107581077865', '623281874565'}\n"
     ]
    }
   ],
   "source": [
    "generate_product_ids(10)"
   ]
  },
  {
   "cell_type": "code",
   "execution_count": 110,
   "id": "40f72fa3",
   "metadata": {},
   "outputs": [],
   "source": [
    "product_ids = list(product_ids)"
   ]
  },
  {
   "cell_type": "code",
   "execution_count": 112,
   "id": "b7864838-0a44-4859-8148-f9bfd9ef32da",
   "metadata": {},
   "outputs": [
    {
     "name": "stdout",
     "output_type": "stream",
     "text": [
      "9 ['760382714775', '48731070910828', '1059304508687', '554022717367', '98886544610410', '1210486061745', '0966828010850', '74107581077865', '623281874565']\n"
     ]
    }
   ],
   "source": [
    "print(len(product_ids), product_ids)"
   ]
  },
  {
   "cell_type": "code",
   "execution_count": 113,
   "id": "e68b67aa",
   "metadata": {},
   "outputs": [],
   "source": [
    "product_list = []"
   ]
  },
  {
   "cell_type": "code",
   "execution_count": 116,
   "id": "3a2bb2a3-cfe6-4220-ae0a-38f7eb9b4899",
   "metadata": {},
   "outputs": [],
   "source": [
    "def generate_products():\n",
    "    num_products = len(product_ids)\n",
    "    \n",
    "    for i in range(0, num_products):\n",
    "        product = {\n",
    "            \"upc\"              : \"\",\n",
    "            \"prod_name\"        : \"\",\n",
    "            \"brand\"            : \"\",\n",
    "            \"prod_description\" : \"\",\n",
    "            \"category\"         : \"\",\n",
    "            \"price_per_unit\"   : \"\",\n",
    "            \"image_url\"        : \"\",\n",
    "            \"available_stock\"  : \"\",\n",
    "            \"reserved_stock\"   : \"\",\n",
    "            \"shipped_stock\"    : \"\",\n",
    "        }\n",
    "        product[\"upc\"]              = product_ids[i]\n",
    "        product[\"prod_name\"]        = fake.dish()\n",
    "        product[\"prod_description\"] = fake.dish_description()\n",
    "        product[\"brand\"]            = fake.vegetable() + \" Foods, Inc\"\n",
    "        product[\"category\"]         = choice([fake.ethnic_category(), fake.ingredient()])\n",
    "        product[\"price_per_unit\"]   = randint(0, 15) + 0.99\n",
    "        product[\"image_url\"]        = \"https://picsum.photos/100/\"\n",
    "        product[\"available_stock\"]  = randint(0, 200)\n",
    "        product[\"reserved_stock\"]   = randint(0, 30)\n",
    "        product[\"shipped_stock\"]    = randint(0, 60)         \n",
    "\n",
    "        product_list.append(product)\n",
    "    print(product_list)"
   ]
  },
  {
   "cell_type": "code",
   "execution_count": 117,
   "id": "101ed5e9",
   "metadata": {},
   "outputs": [
    {
     "name": "stdout",
     "output_type": "stream",
     "text": [
      "[{'upc': '760382714775', 'prod_name': 'Pasta and Beans', 'brand': 'AsparagusFoods, Inc', 'prod_description': 'Thick slices of French toast bread, brown sugar, half-and-half and vanilla, topped with powdered sugar. With two eggs served any style, and your choice of smoked bacon or smoked ham.', 'category': 'Somali', 'price_per_unit': 2.99, 'image_url': 'https://picsum.photos/100/', 'available_stock': 41, 'reserved_stock': 14, 'shipped_stock': 34}, {'upc': '48731070910828', 'prod_name': 'Vegetable Soup', 'brand': 'Brussels SproutsFoods, Inc', 'prod_description': 'Three egg omelet with Roquefort cheese, chives, and ham. With a side of roasted potatoes, and your choice of toast or croissant.', 'category': 'Estonian', 'price_per_unit': 1.99, 'image_url': 'https://picsum.photos/100/', 'available_stock': 11, 'reserved_stock': 29, 'shipped_stock': 3}, {'upc': '1059304508687', 'prod_name': 'Lasagne', 'brand': 'ParsnipFoods, Inc', 'prod_description': 'Three eggs with cilantro, tomatoes, onions, avocados and melted Emmental cheese. With a side of roasted potatoes, and your choice of toast or croissant.', 'category': 'Lobster', 'price_per_unit': 13.99, 'image_url': 'https://picsum.photos/100/', 'available_stock': 136, 'reserved_stock': 8, 'shipped_stock': 46}, {'upc': '554022717367', 'prod_name': 'Pork belly buns', 'brand': 'CeleryFoods, Inc', 'prod_description': 'Two butter croissants of your choice (plain, almond or cheese). With a side of herb butter or house-made hazelnut spread.', 'category': 'Turkish', 'price_per_unit': 12.99, 'image_url': 'https://picsum.photos/100/', 'available_stock': 76, 'reserved_stock': 18, 'shipped_stock': 22}, {'upc': '98886544610410', 'prod_name': 'California maki', 'brand': 'Purple carrotFoods, Inc', 'prod_description': 'Thick slices of French toast bread, brown sugar, half-and-half and vanilla, topped with powdered sugar. With two eggs served any style, and your choice of smoked bacon or smoked ham.', 'category': 'Kecap Manis', 'price_per_unit': 6.99, 'image_url': 'https://picsum.photos/100/', 'available_stock': 105, 'reserved_stock': 23, 'shipped_stock': 29}, {'upc': '1210486061745', 'prod_name': 'Pasta and Beans', 'brand': 'Bean SproutsFoods, Inc', 'prod_description': 'Three eggs with cilantro, tomatoes, onions, avocados and melted Emmental cheese. With a side of roasted potatoes, and your choice of toast or croissant.', 'category': 'Azerbaijani', 'price_per_unit': 9.99, 'image_url': 'https://picsum.photos/100/', 'available_stock': 53, 'reserved_stock': 27, 'shipped_stock': 8}, {'upc': '0966828010850', 'prod_name': 'Caesar Salad', 'brand': 'ArugulaFoods, Inc', 'prod_description': 'Breaded fried chicken with waffles, and a side of maple syrup.', 'category': 'Chives', 'price_per_unit': 7.99, 'image_url': 'https://picsum.photos/100/', 'available_stock': 79, 'reserved_stock': 30, 'shipped_stock': 8}, {'upc': '74107581077865', 'prod_name': 'Pork belly buns', 'brand': 'Jerusalem ArtichokeFoods, Inc', 'prod_description': 'Three eggs with cilantro, tomatoes, onions, avocados and melted Emmental cheese. With a side of roasted potatoes, and your choice of toast or croissant.', 'category': 'Slovenian', 'price_per_unit': 10.99, 'image_url': 'https://picsum.photos/100/', 'available_stock': 83, 'reserved_stock': 23, 'shipped_stock': 27}, {'upc': '623281874565', 'prod_name': 'California maki', 'brand': 'Dried Chinese BroccoliFoods, Inc', 'prod_description': '28-day aged 300g USDA Certified Prime Ribeye, rosemary-thyme garlic butter, with choice of two sides.', 'category': 'Rice Noodles', 'price_per_unit': 8.99, 'image_url': 'https://picsum.photos/100/', 'available_stock': 42, 'reserved_stock': 7, 'shipped_stock': 38}]\n"
     ]
    }
   ],
   "source": [
    "generate_products()"
   ]
  },
  {
   "cell_type": "code",
   "execution_count": 120,
   "id": "4caa6c14-1888-4a74-b3cd-a30b0575e892",
   "metadata": {},
   "outputs": [],
   "source": [
    "def print_it():\n",
    "    print(\"um\")\n",
    "    string = \"\"\n",
    "    for i in range(len(product_list)):\n",
    "        string = string + f\"INSERT INTO products VALUES('{product_list[i]['upc']}', '{product_list[i]['prod_name']}', '{product_list[i]['prod_description']}', '{product_list[i]['brand']}', '{product_list[i]['category']}', {product_list[i]['price_per_unit']}, '{product_list[i]['image_url']}', {product_list[i]['available_stock']}, {product_list[i]['reserved_stock']}, {product_list[i]['shipped_stock']},);\\n\"\n",
    "    print(string)"
   ]
  },
  {
   "cell_type": "code",
   "execution_count": 121,
   "id": "9abfb11f-2775-4d01-bf4a-058b88410b2b",
   "metadata": {},
   "outputs": [
    {
     "name": "stdout",
     "output_type": "stream",
     "text": [
      "um\n",
      "INSERT INTO products VALUES('760382714775', 'Pasta and Beans', 'Thick slices of French toast bread, brown sugar, half-and-half and vanilla, topped with powdered sugar. With two eggs served any style, and your choice of smoked bacon or smoked ham.', 'AsparagusFoods, Inc', 'Somali', 2.99, 'https://picsum.photos/100/', 41, 14, 34,);\n",
      "INSERT INTO products VALUES('48731070910828', 'Vegetable Soup', 'Three egg omelet with Roquefort cheese, chives, and ham. With a side of roasted potatoes, and your choice of toast or croissant.', 'Brussels SproutsFoods, Inc', 'Estonian', 1.99, 'https://picsum.photos/100/', 11, 29, 3,);\n",
      "INSERT INTO products VALUES('1059304508687', 'Lasagne', 'Three eggs with cilantro, tomatoes, onions, avocados and melted Emmental cheese. With a side of roasted potatoes, and your choice of toast or croissant.', 'ParsnipFoods, Inc', 'Lobster', 13.99, 'https://picsum.photos/100/', 136, 8, 46,);\n",
      "INSERT INTO products VALUES('554022717367', 'Pork belly buns', 'Two butter croissants of your choice (plain, almond or cheese). With a side of herb butter or house-made hazelnut spread.', 'CeleryFoods, Inc', 'Turkish', 12.99, 'https://picsum.photos/100/', 76, 18, 22,);\n",
      "INSERT INTO products VALUES('98886544610410', 'California maki', 'Thick slices of French toast bread, brown sugar, half-and-half and vanilla, topped with powdered sugar. With two eggs served any style, and your choice of smoked bacon or smoked ham.', 'Purple carrotFoods, Inc', 'Kecap Manis', 6.99, 'https://picsum.photos/100/', 105, 23, 29,);\n",
      "INSERT INTO products VALUES('1210486061745', 'Pasta and Beans', 'Three eggs with cilantro, tomatoes, onions, avocados and melted Emmental cheese. With a side of roasted potatoes, and your choice of toast or croissant.', 'Bean SproutsFoods, Inc', 'Azerbaijani', 9.99, 'https://picsum.photos/100/', 53, 27, 8,);\n",
      "INSERT INTO products VALUES('0966828010850', 'Caesar Salad', 'Breaded fried chicken with waffles, and a side of maple syrup.', 'ArugulaFoods, Inc', 'Chives', 7.99, 'https://picsum.photos/100/', 79, 30, 8,);\n",
      "INSERT INTO products VALUES('74107581077865', 'Pork belly buns', 'Three eggs with cilantro, tomatoes, onions, avocados and melted Emmental cheese. With a side of roasted potatoes, and your choice of toast or croissant.', 'Jerusalem ArtichokeFoods, Inc', 'Slovenian', 10.99, 'https://picsum.photos/100/', 83, 23, 27,);\n",
      "INSERT INTO products VALUES('623281874565', 'California maki', '28-day aged 300g USDA Certified Prime Ribeye, rosemary-thyme garlic butter, with choice of two sides.', 'Dried Chinese BroccoliFoods, Inc', 'Rice Noodles', 8.99, 'https://picsum.photos/100/', 42, 7, 38,);\n",
      "\n"
     ]
    }
   ],
   "source": [
    "print_it()"
   ]
  },
  {
   "cell_type": "code",
   "execution_count": null,
   "id": "c702f738",
   "metadata": {},
   "outputs": [],
   "source": []
  }
 ],
 "metadata": {
  "kernelspec": {
   "display_name": "Python 3 (ipykernel)",
   "language": "python",
   "name": "python3"
  },
  "language_info": {
   "codemirror_mode": {
    "name": "ipython",
    "version": 3
   },
   "file_extension": ".py",
   "mimetype": "text/x-python",
   "name": "python",
   "nbconvert_exporter": "python",
   "pygments_lexer": "ipython3",
   "version": "3.10.4"
  },
  "vscode": {
   "interpreter": {
    "hash": "40f2ac86c2ff9164d8eaaa1295186d7af6cf88d800a0e97dfa509aa9a79fa4b6"
   }
  }
 },
 "nbformat": 4,
 "nbformat_minor": 5
}
