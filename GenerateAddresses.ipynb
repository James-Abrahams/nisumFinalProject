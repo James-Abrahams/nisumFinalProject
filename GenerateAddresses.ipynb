{
 "cells": [
  {
   "cell_type": "code",
   "execution_count": 1,
   "id": "9670d238-4cd8-4ad6-ac82-e6e138fd7e36",
   "metadata": {},
   "outputs": [],
   "source": [
    "from random import randint\n",
    "from random import choice\n",
    "from random import choices\n",
    "from faker import Faker"
   ]
  },
  {
   "cell_type": "code",
   "execution_count": 2,
   "id": "cef307f8",
   "metadata": {},
   "outputs": [],
   "source": [
    "fake = Faker()"
   ]
  },
  {
   "cell_type": "code",
   "execution_count": 3,
   "id": "e68b67aa",
   "metadata": {},
   "outputs": [],
   "source": [
    "addresses = []"
   ]
  },
  {
   "cell_type": "code",
   "execution_count": 11,
   "id": "09669706",
   "metadata": {},
   "outputs": [],
   "source": [
    "def ship_bill():\n",
    "    # which_type = []\n",
    "    # all_gucci = False\n",
    "    # while  not all_gucci:\n",
    "    #     if num[0] == '1' or num[0] == '0' or num[3] == '1' or num[3] == '0' or num[3:6] == '911':\n",
    "    #         num = f'{fake.msisdn()[3:]}'\n",
    "    #     else:\n",
    "    #         all_gucci = True\n",
    "    return [True, True]"
   ]
  },
  {
   "cell_type": "code",
   "execution_count": 12,
   "id": "1ce6e079",
   "metadata": {},
   "outputs": [],
   "source": [
    "def street_parser():\n",
    "    get_street = fake.street_address()\n",
    "    street_arr = get_street.split()\n",
    "    street1 = \" \".join(street_arr[0:3])\n",
    "    street2 = 'NULL'\n",
    "    if len(street_arr) > 3:\n",
    "        street2 = \" \".join(street_arr[3:])\n",
    "    return [street1, street2]"
   ]
  },
  {
   "cell_type": "code",
   "execution_count": 13,
   "id": "b6bd04e1",
   "metadata": {},
   "outputs": [],
   "source": [
    "states = [ 'AL', 'AK', 'AS', 'AZ', 'AR', 'CA', 'CO', 'CT', 'DE', 'DC', 'FM', 'FL', 'GA', 'GU', 'HI', 'ID', 'IL', 'IN', 'IA', 'KS', 'KY', 'LA', 'ME', 'MH', 'MD', 'MA', 'MI', 'MN', 'MS', 'MO', 'MT', 'NE', 'NV', 'NH', 'NJ', 'NM', 'NY', 'NC', 'ND', 'MP', 'OH', 'OK', 'OR', 'PW', 'PA', 'PR', 'RI', 'SC', 'SD', 'TN', 'TX', 'UT', 'VT', 'VI', 'VA', 'WA', 'WV', 'WI', 'WY' ];\n"
   ]
  },
  {
   "cell_type": "code",
   "execution_count": 14,
   "id": "1f14f363",
   "metadata": {},
   "outputs": [],
   "source": [
    "def generate_addresses(num_users):\n",
    "    total_addresses = num_users\n",
    "    i = 0\n",
    "    while i < total_addresses:\n",
    "        shipping_billing = ship_bill()\n",
    "        parsed_street = street_parser()\n",
    "        fname = fake.first_name()\n",
    "        lname = fake.last_name()\n",
    "        email_bridge = choice(['', choice(['-','_',str(randint(0,9))])])\n",
    "        email_affectation = choice(['', choice(['','',str(randint(0,9)),'fan',choice(['68', '419', '41968'])])])\n",
    "        domain = choice(['com','net',choice(['edu','org','gov'])])\n",
    "        address = {\n",
    "            \"address_id\"     : i + 1,\n",
    "            # \"user_id\"        : , # make this depend on shipping and billing results + chance of extra\n",
    "            \"recipient_name\" : fake.name(), #later tie this to person name with logic, chance of other esp if extra\n",
    "            \"street\"         : parsed_street[0],\n",
    "            \"street2\"        : parsed_street[1],\n",
    "            \"city\"           : fake.city(),\n",
    "            \"state\"          : choice(states),\n",
    "            \"zip\"            : fake.postcode(),\n",
    "            \"is_shipping\"    : shipping_billing[0],\n",
    "            \"is_billing\"     : shipping_billing[1],\n",
    "        }       \n",
    "\n",
    "        addresses.append(address)\n",
    "        i += 1\n",
    "    print(addresses)"
   ]
  },
  {
   "cell_type": "code",
   "execution_count": 15,
   "id": "101ed5e9",
   "metadata": {},
   "outputs": [
    {
     "name": "stdout",
     "output_type": "stream",
     "text": [
      "[{'address_id': 1, 'recipient_name': 'Pamela Wilson', 'street': '51573 Haley Tunnel', 'street2': 'NULL', 'city': 'East Donaldfurt', 'state': 'NY', 'zip': '17878', 'is_shipping': True, 'is_billing': True}, {'address_id': 2, 'recipient_name': 'Mrs. Kayla Proctor', 'street': '504 Hernandez Fork', 'street2': 'NULL', 'city': 'Whitetown', 'state': 'MN', 'zip': '42025', 'is_shipping': True, 'is_billing': True}, {'address_id': 3, 'recipient_name': 'Diane Vincent', 'street': '671 Joshua Haven', 'street2': 'NULL', 'city': 'Lake Travisland', 'state': 'WI', 'zip': '61729', 'is_shipping': True, 'is_billing': True}, {'address_id': 4, 'recipient_name': 'Ann Lewis', 'street': '14475 Haas Stream', 'street2': 'Apt. 080', 'city': 'West Melanie', 'state': 'MO', 'zip': '81051', 'is_shipping': True, 'is_billing': True}, {'address_id': 5, 'recipient_name': 'Nancy Randall', 'street': '3973 Regina Canyon', 'street2': 'NULL', 'city': 'Brownshire', 'state': 'NE', 'zip': '62341', 'is_shipping': True, 'is_billing': True}, {'address_id': 6, 'recipient_name': 'Kayla Williams', 'street': '7299 Silva Shores', 'street2': 'Apt. 903', 'city': 'Port Brianport', 'state': 'CO', 'zip': '38745', 'is_shipping': True, 'is_billing': True}, {'address_id': 7, 'recipient_name': 'Erin Castillo', 'street': '672 David Mountain', 'street2': 'NULL', 'city': 'North Richard', 'state': 'MH', 'zip': '72632', 'is_shipping': True, 'is_billing': True}, {'address_id': 8, 'recipient_name': 'Andrew Rose', 'street': '5749 Ward Parks', 'street2': 'Suite 614', 'city': 'Michelleburgh', 'state': 'DC', 'zip': '64687', 'is_shipping': True, 'is_billing': True}, {'address_id': 9, 'recipient_name': 'Michelle Fuentes', 'street': '8209 Brian Square', 'street2': 'Apt. 705', 'city': 'Fischerborough', 'state': 'AK', 'zip': '45038', 'is_shipping': True, 'is_billing': True}, {'address_id': 10, 'recipient_name': 'Nicole Zavala', 'street': '5737 Martinez Trail', 'street2': 'Apt. 540', 'city': 'Melissastad', 'state': 'IN', 'zip': '23201', 'is_shipping': True, 'is_billing': True}]\n"
     ]
    }
   ],
   "source": [
    "generate_addresses(10)"
   ]
  },
  {
   "cell_type": "code",
   "execution_count": 16,
   "id": "4caa6c14-1888-4a74-b3cd-a30b0575e892",
   "metadata": {},
   "outputs": [],
   "source": [
    "def print_it():\n",
    "    string = \"\"\n",
    "    for i in range(len(addresses)):\n",
    "        street2_val = f\"'{addresses[i]['street2']}'\"\n",
    "        string = string + f\"INSERT INTO addresses VALUES({addresses[i]['address_id']}, {addresses[i]['user_id'] if 'user_id' in addresses[i] else i + 1}, '{addresses[i]['recipient_name']}', '{addresses[i]['street']}', {'NULL' if addresses[i]['street2'] == 'NULL' else f'{street2_val}'}, '{addresses[i]['city']}', '{addresses[i]['state']}', '{addresses[i]['zip']}', {addresses[i]['is_shipping']}, {addresses[i]['is_billing']});\\n\"\n",
    "    print(string)"
   ]
  },
  {
   "cell_type": "code",
   "execution_count": 17,
   "id": "9abfb11f-2775-4d01-bf4a-058b88410b2b",
   "metadata": {},
   "outputs": [
    {
     "name": "stdout",
     "output_type": "stream",
     "text": [
      "INSERT INTO addresses VALUES(1, 1, 'Pamela Wilson', '51573 Haley Tunnel', NULL, 'East Donaldfurt', 'NY', '17878', True, True);\n",
      "INSERT INTO addresses VALUES(2, 2, 'Mrs. Kayla Proctor', '504 Hernandez Fork', NULL, 'Whitetown', 'MN', '42025', True, True);\n",
      "INSERT INTO addresses VALUES(3, 3, 'Diane Vincent', '671 Joshua Haven', NULL, 'Lake Travisland', 'WI', '61729', True, True);\n",
      "INSERT INTO addresses VALUES(4, 4, 'Ann Lewis', '14475 Haas Stream', 'Apt. 080', 'West Melanie', 'MO', '81051', True, True);\n",
      "INSERT INTO addresses VALUES(5, 5, 'Nancy Randall', '3973 Regina Canyon', NULL, 'Brownshire', 'NE', '62341', True, True);\n",
      "INSERT INTO addresses VALUES(6, 6, 'Kayla Williams', '7299 Silva Shores', 'Apt. 903', 'Port Brianport', 'CO', '38745', True, True);\n",
      "INSERT INTO addresses VALUES(7, 7, 'Erin Castillo', '672 David Mountain', NULL, 'North Richard', 'MH', '72632', True, True);\n",
      "INSERT INTO addresses VALUES(8, 8, 'Andrew Rose', '5749 Ward Parks', 'Suite 614', 'Michelleburgh', 'DC', '64687', True, True);\n",
      "INSERT INTO addresses VALUES(9, 9, 'Michelle Fuentes', '8209 Brian Square', 'Apt. 705', 'Fischerborough', 'AK', '45038', True, True);\n",
      "INSERT INTO addresses VALUES(10, 10, 'Nicole Zavala', '5737 Martinez Trail', 'Apt. 540', 'Melissastad', 'IN', '23201', True, True);\n",
      "\n"
     ]
    }
   ],
   "source": [
    "print_it()"
   ]
  },
  {
   "cell_type": "code",
   "execution_count": null,
   "id": "c702f738",
   "metadata": {},
   "outputs": [],
   "source": []
  }
 ],
 "metadata": {
  "kernelspec": {
   "display_name": "Python 3.10.4 64-bit ('3.10.4': pyenv)",
   "language": "python",
   "name": "python3"
  },
  "language_info": {
   "codemirror_mode": {
    "name": "ipython",
    "version": 3
   },
   "file_extension": ".py",
   "mimetype": "text/x-python",
   "name": "python",
   "nbconvert_exporter": "python",
   "pygments_lexer": "ipython3",
   "version": "3.10.4"
  },
  "vscode": {
   "interpreter": {
    "hash": "40f2ac86c2ff9164d8eaaa1295186d7af6cf88d800a0e97dfa509aa9a79fa4b6"
   }
  }
 },
 "nbformat": 4,
 "nbformat_minor": 5
}
