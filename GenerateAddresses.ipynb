{
 "cells": [
  {
   "cell_type": "code",
   "execution_count": 53,
   "id": "9670d238-4cd8-4ad6-ac82-e6e138fd7e36",
   "metadata": {},
   "outputs": [],
   "source": [
    "from random import randint\n",
    "from random import choice\n",
    "from random import choices\n",
    "from faker import Faker"
   ]
  },
  {
   "cell_type": "code",
   "execution_count": 54,
   "id": "cef307f8",
   "metadata": {},
   "outputs": [],
   "source": [
    "fake = Faker()"
   ]
  },
  {
   "cell_type": "code",
   "execution_count": 55,
   "id": "e68b67aa",
   "metadata": {},
   "outputs": [],
   "source": [
    "addresses = []"
   ]
  },
  {
   "cell_type": "code",
   "execution_count": 56,
   "id": "679b0999",
   "metadata": {},
   "outputs": [
    {
     "name": "stdout",
     "output_type": "stream",
     "text": [
      "27046 Cherry Mountains Suite 221\n"
     ]
    }
   ],
   "source": [
    "print(fake.street_address())"
   ]
  },
  {
   "cell_type": "code",
   "execution_count": 57,
   "id": "09669706",
   "metadata": {},
   "outputs": [],
   "source": [
    "def ship_bill():\n",
    "    # which_type = []\n",
    "    # all_gucci = False\n",
    "    # while  not all_gucci:\n",
    "    #     if num[0] == '1' or num[0] == '0' or num[3] == '1' or num[3] == '0' or num[3:6] == '911':\n",
    "    #         num = f'{fake.msisdn()[3:]}'\n",
    "    #     else:\n",
    "    #         all_gucci = True\n",
    "    return [True, True]"
   ]
  },
  {
   "cell_type": "code",
   "execution_count": 58,
   "id": "1ce6e079",
   "metadata": {},
   "outputs": [],
   "source": [
    "def street_parser():\n",
    "    get_street = fake.street_address()\n",
    "    street_arr = get_street.split()\n",
    "    street1 = \" \".join(street_arr[0:3])\n",
    "    street2 = 'NULL'\n",
    "    if len(street_arr) > 3:\n",
    "        street2 = \" \".join(street_arr[3:])\n",
    "    return [street1, street2]"
   ]
  },
  {
   "cell_type": "code",
   "execution_count": 59,
   "id": "b6bd04e1",
   "metadata": {},
   "outputs": [],
   "source": [
    "states = [ 'AL', 'AK', 'AS', 'AZ', 'AR', 'CA', 'CO', 'CT', 'DE', 'DC', 'FM', 'FL', 'GA', 'GU', 'HI', 'ID', 'IL', 'IN', 'IA', 'KS', 'KY', 'LA', 'ME', 'MH', 'MD', 'MA', 'MI', 'MN', 'MS', 'MO', 'MT', 'NE', 'NV', 'NH', 'NJ', 'NM', 'NY', 'NC', 'ND', 'MP', 'OH', 'OK', 'OR', 'PW', 'PA', 'PR', 'RI', 'SC', 'SD', 'TN', 'TX', 'UT', 'VT', 'VI', 'VA', 'WA', 'WV', 'WI', 'WY' ];\n"
   ]
  },
  {
   "cell_type": "code",
   "execution_count": 60,
   "id": "3a2bb2a3-cfe6-4220-ae0a-38f7eb9b4899",
   "metadata": {},
   "outputs": [],
   "source": [
    "#NORMAL WAY\n",
    "\n",
    "# def generate_addresses(num_users):\n",
    "    \n",
    "    \n",
    "    # for i in range(0, num_users):\n",
    "    #     shipping_billing = ship_bill()\n",
    "    #     parsed_street = street_parser()\n",
    "    #     fname = fake.first_name()\n",
    "    #     lname = fake.last_name()\n",
    "    #     email_bridge = choice(['', choice(['-','_',str(randint(0,9))])])\n",
    "    #     email_affectation = choice(['', choice(['','',str(randint(0,9)),'fan',choice(['68', '419', '41968'])])])\n",
    "    #     domain = choice(['com','net',choice(['edu','org','gov'])])\n",
    "    #     address = {\n",
    "    #         \"address_id\"     : i + 1,\n",
    "    #         # \"user_id\"        : , # make this depend on shipping and billing results + chance of extra\n",
    "    #         \"recipient_name\" : fake.name(), #later tie this to person name with logic, chance of other esp if extra\n",
    "    #         \"street\"         : parsed_street[0],\n",
    "    #         \"street2\"        : parsed_street[1],\n",
    "    #         \"city\"           : fake.city(),\n",
    "    #         \"state\"          : fake.state(),\n",
    "    #         \"zip\"            : fake.postcode(),\n",
    "    #         \"is_shipping\"    : shipping_billing[0],\n",
    "    #         \"is_billing\"     : shipping_billing[1],\n",
    "    #     }       \n",
    "\n",
    "    #     addresses.append(address)\n",
    "    # print(addresses)"
   ]
  },
  {
   "cell_type": "code",
   "execution_count": 61,
   "id": "1f14f363",
   "metadata": {},
   "outputs": [],
   "source": [
    "def generate_addresses(num_users):\n",
    "    total_addresses = num_users\n",
    "    i = 0\n",
    "    while i < total_addresses:\n",
    "        shipping_billing = ship_bill()\n",
    "        parsed_street = street_parser()\n",
    "        fname = fake.first_name()\n",
    "        lname = fake.last_name()\n",
    "        email_bridge = choice(['', choice(['-','_',str(randint(0,9))])])\n",
    "        email_affectation = choice(['', choice(['','',str(randint(0,9)),'fan',choice(['68', '419', '41968'])])])\n",
    "        domain = choice(['com','net',choice(['edu','org','gov'])])\n",
    "        address = {\n",
    "            \"address_id\"     : i + 1,\n",
    "            # \"user_id\"        : , # make this depend on shipping and billing results + chance of extra\n",
    "            \"recipient_name\" : fake.name(), #later tie this to person name with logic, chance of other esp if extra\n",
    "            \"street\"         : parsed_street[0],\n",
    "            \"street2\"        : parsed_street[1],\n",
    "            \"city\"           : fake.city(),\n",
    "            \"state\"          : choice(states),\n",
    "            \"zip\"            : fake.postcode(),\n",
    "            \"is_shipping\"    : shipping_billing[0],\n",
    "            \"is_billing\"     : shipping_billing[1],\n",
    "        }       \n",
    "\n",
    "        addresses.append(address)\n",
    "        i += 1\n",
    "    print(addresses)"
   ]
  },
  {
   "cell_type": "code",
   "execution_count": 62,
   "id": "101ed5e9",
   "metadata": {},
   "outputs": [
    {
     "name": "stdout",
     "output_type": "stream",
     "text": [
      "[{'address_id': 1, 'recipient_name': 'Keith Rivera', 'street': '925 Reynolds Squares', 'street2': 'Suite 765', 'city': 'Juliaside', 'state': 'TX', 'zip': '47375', 'is_shipping': True, 'is_billing': True}, {'address_id': 2, 'recipient_name': 'Crystal Hanson', 'street': '62473 Rivera Island', 'street2': 'NULL', 'city': 'New Gregorymouth', 'state': 'VA', 'zip': '90706', 'is_shipping': True, 'is_billing': True}, {'address_id': 3, 'recipient_name': 'Michael Moore', 'street': '50567 Elaine Hill', 'street2': 'NULL', 'city': 'Rogerside', 'state': 'SD', 'zip': '98176', 'is_shipping': True, 'is_billing': True}, {'address_id': 4, 'recipient_name': 'Benjamin Santana', 'street': '67764 Nicholas Run', 'street2': 'Suite 394', 'city': 'Summersburgh', 'state': 'AS', 'zip': '63416', 'is_shipping': True, 'is_billing': True}, {'address_id': 5, 'recipient_name': 'Renee Campos', 'street': '4734 Eugene Lodge', 'street2': 'Suite 440', 'city': 'South Roberttown', 'state': 'IA', 'zip': '22683', 'is_shipping': True, 'is_billing': True}, {'address_id': 6, 'recipient_name': 'Arthur Castillo', 'street': '0866 Cameron Parks', 'street2': 'NULL', 'city': 'West Karenside', 'state': 'IA', 'zip': '09194', 'is_shipping': True, 'is_billing': True}, {'address_id': 7, 'recipient_name': 'Kenneth Davis', 'street': '0698 Paul Spurs', 'street2': 'NULL', 'city': 'Norrisberg', 'state': 'SC', 'zip': '52288', 'is_shipping': True, 'is_billing': True}, {'address_id': 8, 'recipient_name': 'Juan Murphy', 'street': '91998 Ashley Well', 'street2': 'Suite 427', 'city': 'Justinchester', 'state': 'RI', 'zip': '34724', 'is_shipping': True, 'is_billing': True}, {'address_id': 9, 'recipient_name': 'Barbara Peters', 'street': '9139 Graves Keys', 'street2': 'Suite 341', 'city': 'Lake Kayla', 'state': 'OR', 'zip': '20595', 'is_shipping': True, 'is_billing': True}, {'address_id': 10, 'recipient_name': 'Amanda Carpenter', 'street': '3142 Myers Lodge', 'street2': 'Suite 214', 'city': 'West Caitlin', 'state': 'PA', 'zip': '66904', 'is_shipping': True, 'is_billing': True}, {'address_id': 11, 'recipient_name': 'Chelsea Spence', 'street': '20788 Ruiz Path', 'street2': 'NULL', 'city': 'Davidview', 'state': 'CT', 'zip': '98081', 'is_shipping': True, 'is_billing': True}, {'address_id': 12, 'recipient_name': 'Geoffrey Jones', 'street': '62256 Laurie Circle', 'street2': 'Suite 005', 'city': 'Jenniferchester', 'state': 'CO', 'zip': '85248', 'is_shipping': True, 'is_billing': True}, {'address_id': 13, 'recipient_name': 'Christine Clark', 'street': '20152 Tina Mill', 'street2': 'NULL', 'city': 'New Christopher', 'state': 'NV', 'zip': '10013', 'is_shipping': True, 'is_billing': True}, {'address_id': 14, 'recipient_name': 'Courtney Douglas', 'street': '97053 Erik Rue', 'street2': 'Apt. 128', 'city': 'Port Lonnie', 'state': 'VT', 'zip': '65207', 'is_shipping': True, 'is_billing': True}, {'address_id': 15, 'recipient_name': 'Terry Gamble', 'street': '870 Fitzgerald Overpass', 'street2': 'NULL', 'city': 'North Faith', 'state': 'NJ', 'zip': '70640', 'is_shipping': True, 'is_billing': True}, {'address_id': 16, 'recipient_name': 'Natalie Gallegos', 'street': '8389 William Shores', 'street2': 'NULL', 'city': 'Gardnerton', 'state': 'NV', 'zip': '13397', 'is_shipping': True, 'is_billing': True}, {'address_id': 17, 'recipient_name': 'Heather Johnson', 'street': '03904 Jones Spur', 'street2': 'Apt. 501', 'city': 'Port Amybury', 'state': 'HI', 'zip': '18746', 'is_shipping': True, 'is_billing': True}, {'address_id': 18, 'recipient_name': 'Lisa Andersen', 'street': '64627 Hannah Fork', 'street2': 'NULL', 'city': 'Haroldshire', 'state': 'HI', 'zip': '49892', 'is_shipping': True, 'is_billing': True}, {'address_id': 19, 'recipient_name': 'David Shea', 'street': '40416 Brianna Union', 'street2': 'Apt. 796', 'city': 'Taratown', 'state': 'MA', 'zip': '05085', 'is_shipping': True, 'is_billing': True}, {'address_id': 20, 'recipient_name': 'Lisa Smith', 'street': '8606 Sara River', 'street2': 'Apt. 450', 'city': 'East Juan', 'state': 'ID', 'zip': '25829', 'is_shipping': True, 'is_billing': True}, {'address_id': 21, 'recipient_name': 'Robert Simpson', 'street': '3714 Lauren Row', 'street2': 'NULL', 'city': 'Jameschester', 'state': 'OR', 'zip': '12029', 'is_shipping': True, 'is_billing': True}, {'address_id': 22, 'recipient_name': 'Lori Brown', 'street': '2165 Lisa Locks', 'street2': 'NULL', 'city': 'Lake Brett', 'state': 'MS', 'zip': '08489', 'is_shipping': True, 'is_billing': True}, {'address_id': 23, 'recipient_name': 'Andrew Miller', 'street': '93995 Samuel Gateway', 'street2': 'Suite 969', 'city': 'Port Deborah', 'state': 'AL', 'zip': '13156', 'is_shipping': True, 'is_billing': True}, {'address_id': 24, 'recipient_name': 'Andrea Williams', 'street': '632 Paul Views', 'street2': 'Apt. 297', 'city': 'East Elizabeth', 'state': 'CA', 'zip': '28292', 'is_shipping': True, 'is_billing': True}, {'address_id': 25, 'recipient_name': 'Taylor Scott', 'street': '720 Thompson Springs', 'street2': 'Apt. 125', 'city': 'South Mary', 'state': 'MS', 'zip': '33586', 'is_shipping': True, 'is_billing': True}, {'address_id': 26, 'recipient_name': 'Jody Barajas', 'street': '2752 Ross Port', 'street2': 'Suite 634', 'city': 'West Johnbury', 'state': 'MT', 'zip': '81906', 'is_shipping': True, 'is_billing': True}, {'address_id': 27, 'recipient_name': 'Brad Hardy', 'street': '823 Williams Extension', 'street2': 'Apt. 757', 'city': 'East Annamouth', 'state': 'AR', 'zip': '74434', 'is_shipping': True, 'is_billing': True}, {'address_id': 28, 'recipient_name': 'Hailey Steele', 'street': '610 Garcia Center', 'street2': 'Apt. 057', 'city': 'Port Jonathan', 'state': 'PA', 'zip': '48368', 'is_shipping': True, 'is_billing': True}, {'address_id': 29, 'recipient_name': 'Rachel Williams', 'street': '59036 Alyssa Plaza', 'street2': 'Apt. 451', 'city': 'Kimberlybury', 'state': 'MT', 'zip': '21769', 'is_shipping': True, 'is_billing': True}, {'address_id': 30, 'recipient_name': 'David Mckay', 'street': '7005 Soto Passage', 'street2': 'Suite 836', 'city': 'Lake Victoria', 'state': 'VT', 'zip': '71145', 'is_shipping': True, 'is_billing': True}, {'address_id': 31, 'recipient_name': 'Christopher Drake', 'street': '985 Bowman Harbors', 'street2': 'NULL', 'city': 'East Oscar', 'state': 'AZ', 'zip': '08718', 'is_shipping': True, 'is_billing': True}, {'address_id': 32, 'recipient_name': 'Sarah Neal', 'street': '093 Murphy Orchard', 'street2': 'Suite 895', 'city': 'Petersside', 'state': 'FM', 'zip': '13105', 'is_shipping': True, 'is_billing': True}, {'address_id': 33, 'recipient_name': 'Autumn Mueller', 'street': '3570 Elijah Knoll', 'street2': 'Apt. 041', 'city': 'Blakeville', 'state': 'TX', 'zip': '88462', 'is_shipping': True, 'is_billing': True}, {'address_id': 34, 'recipient_name': 'Amanda Torres', 'street': '75813 Megan Meadows', 'street2': 'NULL', 'city': 'East George', 'state': 'WY', 'zip': '47086', 'is_shipping': True, 'is_billing': True}, {'address_id': 35, 'recipient_name': 'Tamara Rogers', 'street': '456 Robert Flat', 'street2': 'Suite 402', 'city': 'Elliottfort', 'state': 'PA', 'zip': '97912', 'is_shipping': True, 'is_billing': True}, {'address_id': 36, 'recipient_name': 'Lance Wilkins', 'street': '6737 Andrea Union', 'street2': 'NULL', 'city': 'East Michellehaven', 'state': 'MO', 'zip': '62606', 'is_shipping': True, 'is_billing': True}, {'address_id': 37, 'recipient_name': 'Joshua Davis', 'street': '5796 Brandon Isle', 'street2': 'NULL', 'city': 'Port Jonmouth', 'state': 'IA', 'zip': '00775', 'is_shipping': True, 'is_billing': True}, {'address_id': 38, 'recipient_name': 'Patrick White', 'street': '22377 Laura Summit', 'street2': 'NULL', 'city': 'Waltonchester', 'state': 'ND', 'zip': '53217', 'is_shipping': True, 'is_billing': True}, {'address_id': 39, 'recipient_name': 'Ryan Mitchell', 'street': '5606 French Lock', 'street2': 'NULL', 'city': 'Douglasbury', 'state': 'CO', 'zip': '90887', 'is_shipping': True, 'is_billing': True}, {'address_id': 40, 'recipient_name': 'Katherine Pierce', 'street': '538 Church Ways', 'street2': 'Apt. 857', 'city': 'Davidton', 'state': 'KY', 'zip': '09746', 'is_shipping': True, 'is_billing': True}, {'address_id': 41, 'recipient_name': 'Kim Palmer', 'street': '12227 Trujillo Springs', 'street2': 'Suite 677', 'city': 'Doylemouth', 'state': 'IN', 'zip': '12123', 'is_shipping': True, 'is_billing': True}, {'address_id': 42, 'recipient_name': 'Sean Ford', 'street': '849 Price Lights', 'street2': 'NULL', 'city': 'Port Amandaborough', 'state': 'MD', 'zip': '71897', 'is_shipping': True, 'is_billing': True}, {'address_id': 43, 'recipient_name': 'Megan Lucero', 'street': '53872 Robinson Burgs', 'street2': 'Suite 822', 'city': 'Walkerhaven', 'state': 'NY', 'zip': '75364', 'is_shipping': True, 'is_billing': True}, {'address_id': 44, 'recipient_name': 'Samantha Oneal', 'street': '56733 Samantha Union', 'street2': 'Apt. 030', 'city': 'Lake Brandonbury', 'state': 'RI', 'zip': '90764', 'is_shipping': True, 'is_billing': True}, {'address_id': 45, 'recipient_name': 'Barbara Good', 'street': '7051 Mills Lights', 'street2': 'Apt. 369', 'city': 'New Amanda', 'state': 'MN', 'zip': '49231', 'is_shipping': True, 'is_billing': True}, {'address_id': 46, 'recipient_name': 'Debra Reid', 'street': '1210 Martinez Mission', 'street2': 'Apt. 946', 'city': 'Paulaberg', 'state': 'MN', 'zip': '89089', 'is_shipping': True, 'is_billing': True}, {'address_id': 47, 'recipient_name': 'Bobby Dillon', 'street': '26509 Stokes Light', 'street2': 'Suite 389', 'city': 'Lake Tinaborough', 'state': 'TX', 'zip': '49311', 'is_shipping': True, 'is_billing': True}, {'address_id': 48, 'recipient_name': 'Rachel Elliott', 'street': '0770 David Pine', 'street2': 'Suite 032', 'city': 'Lawrenceton', 'state': 'ID', 'zip': '34900', 'is_shipping': True, 'is_billing': True}, {'address_id': 49, 'recipient_name': 'Thomas Richardson', 'street': '784 Lisa Well', 'street2': 'Suite 890', 'city': 'East Laura', 'state': 'MN', 'zip': '40326', 'is_shipping': True, 'is_billing': True}, {'address_id': 50, 'recipient_name': 'Alisha Villa', 'street': '8363 Perez Port', 'street2': 'Apt. 452', 'city': 'Vazquezport', 'state': 'IN', 'zip': '75576', 'is_shipping': True, 'is_billing': True}, {'address_id': 51, 'recipient_name': 'Jeffrey Benitez', 'street': '392 Kevin Locks', 'street2': 'Apt. 686', 'city': 'Jamesmouth', 'state': 'NJ', 'zip': '53801', 'is_shipping': True, 'is_billing': True}, {'address_id': 52, 'recipient_name': 'Kelly Morgan', 'street': '455 Carl Lake', 'street2': 'Apt. 366', 'city': 'Hunterbury', 'state': 'NE', 'zip': '46295', 'is_shipping': True, 'is_billing': True}, {'address_id': 53, 'recipient_name': 'Kelly Curry', 'street': '757 Williams Village', 'street2': 'Suite 849', 'city': 'Lake Jonathan', 'state': 'AL', 'zip': '86375', 'is_shipping': True, 'is_billing': True}, {'address_id': 54, 'recipient_name': 'Lisa Chapman', 'street': '4711 Margaret Place', 'street2': 'Suite 885', 'city': 'Cynthiastad', 'state': 'IL', 'zip': '55067', 'is_shipping': True, 'is_billing': True}, {'address_id': 55, 'recipient_name': 'Carol Mccarthy', 'street': '1408 Debra Fords', 'street2': 'NULL', 'city': 'South Spencer', 'state': 'IL', 'zip': '39929', 'is_shipping': True, 'is_billing': True}, {'address_id': 56, 'recipient_name': 'Eric Wright', 'street': '01559 Willis Streets', 'street2': 'NULL', 'city': 'Port Peter', 'state': 'MH', 'zip': '71411', 'is_shipping': True, 'is_billing': True}, {'address_id': 57, 'recipient_name': 'Joshua Figueroa', 'street': '920 Short Harbors', 'street2': 'NULL', 'city': 'Gonzalesview', 'state': 'OH', 'zip': '86951', 'is_shipping': True, 'is_billing': True}, {'address_id': 58, 'recipient_name': 'Michael Moore', 'street': '92279 Martinez Keys', 'street2': 'Apt. 927', 'city': 'Lake Bruceside', 'state': 'DE', 'zip': '69710', 'is_shipping': True, 'is_billing': True}, {'address_id': 59, 'recipient_name': 'Madison Walter', 'street': '9071 Richard Harbor', 'street2': 'Suite 388', 'city': 'Lake Deanmouth', 'state': 'FL', 'zip': '43836', 'is_shipping': True, 'is_billing': True}, {'address_id': 60, 'recipient_name': 'Angelica Harvey', 'street': '6868 Christopher Forge', 'street2': 'NULL', 'city': 'New Kimberly', 'state': 'ID', 'zip': '75075', 'is_shipping': True, 'is_billing': True}, {'address_id': 61, 'recipient_name': 'Robert Carey', 'street': '2435 Devin Skyway', 'street2': 'Suite 772', 'city': 'North Ryanland', 'state': 'SC', 'zip': '28652', 'is_shipping': True, 'is_billing': True}, {'address_id': 62, 'recipient_name': 'James Valencia', 'street': '29798 Torres Plains', 'street2': 'Apt. 207', 'city': 'Ashleybury', 'state': 'TX', 'zip': '06452', 'is_shipping': True, 'is_billing': True}, {'address_id': 63, 'recipient_name': 'Clayton Miller', 'street': '44741 Samantha Circle', 'street2': 'NULL', 'city': 'Port Biancaland', 'state': 'MN', 'zip': '83618', 'is_shipping': True, 'is_billing': True}, {'address_id': 64, 'recipient_name': 'Mallory Vasquez', 'street': '0200 Michelle Underpass', 'street2': 'NULL', 'city': 'Tonimouth', 'state': 'NV', 'zip': '87486', 'is_shipping': True, 'is_billing': True}, {'address_id': 65, 'recipient_name': 'Mrs. Margaret Montgomery MD', 'street': '9626 Johnson Drive', 'street2': 'Suite 558', 'city': 'Jeffreybury', 'state': 'ND', 'zip': '60006', 'is_shipping': True, 'is_billing': True}, {'address_id': 66, 'recipient_name': 'James Aguirre', 'street': '8287 Carlos Orchard', 'street2': 'NULL', 'city': 'South Carlville', 'state': 'NJ', 'zip': '15602', 'is_shipping': True, 'is_billing': True}, {'address_id': 67, 'recipient_name': 'Paul Stevenson', 'street': '95308 Erica Course', 'street2': 'Suite 739', 'city': 'Hunterchester', 'state': 'GU', 'zip': '42271', 'is_shipping': True, 'is_billing': True}, {'address_id': 68, 'recipient_name': 'Danielle Macias', 'street': '4471 Jones Crossroad', 'street2': 'NULL', 'city': 'Williamsview', 'state': 'WA', 'zip': '13806', 'is_shipping': True, 'is_billing': True}, {'address_id': 69, 'recipient_name': 'John Mills', 'street': '110 Cooley Inlet', 'street2': 'Suite 736', 'city': 'Andresbury', 'state': 'WY', 'zip': '20415', 'is_shipping': True, 'is_billing': True}, {'address_id': 70, 'recipient_name': 'Diana Long', 'street': '8683 Harvey Views', 'street2': 'NULL', 'city': 'Maddenton', 'state': 'CT', 'zip': '76491', 'is_shipping': True, 'is_billing': True}, {'address_id': 71, 'recipient_name': 'Angela Roach', 'street': '469 Jesus Bridge', 'street2': 'NULL', 'city': 'Lake Matthew', 'state': 'NY', 'zip': '14738', 'is_shipping': True, 'is_billing': True}, {'address_id': 72, 'recipient_name': 'Gabrielle Zuniga', 'street': '398 Cheryl Trace', 'street2': 'NULL', 'city': 'South Charles', 'state': 'MP', 'zip': '68276', 'is_shipping': True, 'is_billing': True}, {'address_id': 73, 'recipient_name': 'Justin Martin', 'street': '3565 Stafford Highway', 'street2': 'NULL', 'city': 'Tylerbury', 'state': 'WA', 'zip': '83397', 'is_shipping': True, 'is_billing': True}, {'address_id': 74, 'recipient_name': 'Abigail Davis', 'street': '7685 Gordon Creek', 'street2': 'NULL', 'city': 'Keithmouth', 'state': 'MH', 'zip': '30804', 'is_shipping': True, 'is_billing': True}, {'address_id': 75, 'recipient_name': 'Derrick Dickson', 'street': '781 Ronald Stream', 'street2': 'NULL', 'city': 'New Richardside', 'state': 'FL', 'zip': '77709', 'is_shipping': True, 'is_billing': True}, {'address_id': 76, 'recipient_name': 'Dorothy Vasquez', 'street': '980 Samantha Valleys', 'street2': 'NULL', 'city': 'West Whitneyhaven', 'state': 'AL', 'zip': '36262', 'is_shipping': True, 'is_billing': True}, {'address_id': 77, 'recipient_name': 'Jordan Kemp', 'street': '5153 Diana Corners', 'street2': 'Suite 710', 'city': 'Port Jennifer', 'state': 'CA', 'zip': '42160', 'is_shipping': True, 'is_billing': True}, {'address_id': 78, 'recipient_name': 'Jeffrey Green', 'street': '57513 Golden Harbor', 'street2': 'Suite 443', 'city': 'Deborahberg', 'state': 'AR', 'zip': '11443', 'is_shipping': True, 'is_billing': True}, {'address_id': 79, 'recipient_name': 'Lawrence Bell', 'street': '81659 Theodore Prairie', 'street2': 'NULL', 'city': 'East Shannonbury', 'state': 'MT', 'zip': '63836', 'is_shipping': True, 'is_billing': True}, {'address_id': 80, 'recipient_name': 'William Allen', 'street': '08808 Little Causeway', 'street2': 'NULL', 'city': 'Murphyville', 'state': 'WV', 'zip': '94113', 'is_shipping': True, 'is_billing': True}, {'address_id': 81, 'recipient_name': 'Jose Rivas', 'street': '457 Destiny Spurs', 'street2': 'Apt. 702', 'city': 'Emilyhaven', 'state': 'FL', 'zip': '72934', 'is_shipping': True, 'is_billing': True}, {'address_id': 82, 'recipient_name': 'Patrick Hood', 'street': '8045 Wright Views', 'street2': 'Suite 489', 'city': 'West Alexisland', 'state': 'AZ', 'zip': '37115', 'is_shipping': True, 'is_billing': True}, {'address_id': 83, 'recipient_name': 'Pamela Lowe', 'street': '588 Blake Cape', 'street2': 'Suite 824', 'city': 'Garciashire', 'state': 'OH', 'zip': '49193', 'is_shipping': True, 'is_billing': True}, {'address_id': 84, 'recipient_name': 'Jennifer Anderson', 'street': '89802 Price Fields', 'street2': 'NULL', 'city': 'Wallburgh', 'state': 'DC', 'zip': '11430', 'is_shipping': True, 'is_billing': True}, {'address_id': 85, 'recipient_name': 'Jacqueline Jones', 'street': '63340 Hardy Run', 'street2': 'NULL', 'city': 'Sanchezland', 'state': 'OR', 'zip': '90864', 'is_shipping': True, 'is_billing': True}, {'address_id': 86, 'recipient_name': 'Sherry Hart', 'street': '75252 Erin Oval', 'street2': 'Apt. 692', 'city': 'Lake Robertview', 'state': 'MH', 'zip': '17567', 'is_shipping': True, 'is_billing': True}, {'address_id': 87, 'recipient_name': 'Michael Peterson', 'street': '99541 Tyler Parkways', 'street2': 'Apt. 649', 'city': 'Davisshire', 'state': 'MT', 'zip': '86123', 'is_shipping': True, 'is_billing': True}, {'address_id': 88, 'recipient_name': 'Eric Williams', 'street': '53897 Hutchinson Creek', 'street2': 'Apt. 959', 'city': 'Port Jeremybury', 'state': 'ID', 'zip': '14328', 'is_shipping': True, 'is_billing': True}, {'address_id': 89, 'recipient_name': 'Christine Garcia', 'street': '408 Norton Green', 'street2': 'Suite 478', 'city': 'Jerryburgh', 'state': 'TX', 'zip': '86805', 'is_shipping': True, 'is_billing': True}, {'address_id': 90, 'recipient_name': 'Tina Arnold', 'street': '62650 Webb Plain', 'street2': 'NULL', 'city': 'East Donna', 'state': 'DC', 'zip': '11384', 'is_shipping': True, 'is_billing': True}, {'address_id': 91, 'recipient_name': 'Christopher Brady', 'street': '970 Rachel Canyon', 'street2': 'Suite 564', 'city': 'South Johnfurt', 'state': 'WY', 'zip': '06522', 'is_shipping': True, 'is_billing': True}, {'address_id': 92, 'recipient_name': 'Eric Rice', 'street': '58108 Michelle Squares', 'street2': 'Suite 618', 'city': 'Lisaborough', 'state': 'DE', 'zip': '97566', 'is_shipping': True, 'is_billing': True}, {'address_id': 93, 'recipient_name': 'George Henderson', 'street': '633 Ibarra Estate', 'street2': 'Suite 978', 'city': 'Mckinneyfort', 'state': 'HI', 'zip': '65698', 'is_shipping': True, 'is_billing': True}, {'address_id': 94, 'recipient_name': 'George Miller', 'street': '38288 Andrew Dale', 'street2': 'Apt. 873', 'city': 'South Janethaven', 'state': 'AR', 'zip': '38809', 'is_shipping': True, 'is_billing': True}, {'address_id': 95, 'recipient_name': 'Matthew Page', 'street': '5495 Warner Club', 'street2': 'NULL', 'city': 'Lopezshire', 'state': 'FL', 'zip': '36811', 'is_shipping': True, 'is_billing': True}, {'address_id': 96, 'recipient_name': 'Kristine Nelson', 'street': '392 Coleman Trail', 'street2': 'NULL', 'city': 'South Matthew', 'state': 'WV', 'zip': '57732', 'is_shipping': True, 'is_billing': True}, {'address_id': 97, 'recipient_name': 'Meghan Steele', 'street': '12457 Wright Station', 'street2': 'Suite 927', 'city': 'Andreashire', 'state': 'NC', 'zip': '32321', 'is_shipping': True, 'is_billing': True}, {'address_id': 98, 'recipient_name': 'Ernest Callahan', 'street': '65987 Brittany Shore', 'street2': 'NULL', 'city': 'Kellyland', 'state': 'AS', 'zip': '26310', 'is_shipping': True, 'is_billing': True}, {'address_id': 99, 'recipient_name': 'Samantha Lucero', 'street': '459 Barbara Mountains', 'street2': 'NULL', 'city': 'Port Mark', 'state': 'ID', 'zip': '28799', 'is_shipping': True, 'is_billing': True}, {'address_id': 100, 'recipient_name': 'John Townsend', 'street': '5158 Shelly Lock', 'street2': 'NULL', 'city': 'Franciscoport', 'state': 'KS', 'zip': '53292', 'is_shipping': True, 'is_billing': True}]\n"
     ]
    }
   ],
   "source": [
    "generate_addresses(100)"
   ]
  },
  {
   "cell_type": "code",
   "execution_count": 67,
   "id": "4caa6c14-1888-4a74-b3cd-a30b0575e892",
   "metadata": {},
   "outputs": [],
   "source": [
    "def print_it():\n",
    "    string = \"\"\n",
    "    for i in range(len(addresses)):\n",
    "        street2_val = f\"'{addresses[i]['street2']}'\"\n",
    "        string = string + f\"INSERT INTO addresses VALUES({addresses[i]['address_id']}, {addresses[i]['user_id'] if 'user_id' in addresses[i] else i + 1}, '{addresses[i]['recipient_name']}', '{addresses[i]['street']}', {'NULL' if addresses[i]['street2'] == 'NULL' else f'{street2_val}'}, '{addresses[i]['city']}', '{addresses[i]['state']}', '{addresses[i]['zip']}', {addresses[i]['is_shipping']}, {addresses[i]['is_billing']});\\n\"\n",
    "    print(string)"
   ]
  },
  {
   "cell_type": "code",
   "execution_count": 68,
   "id": "9abfb11f-2775-4d01-bf4a-058b88410b2b",
   "metadata": {},
   "outputs": [
    {
     "name": "stdout",
     "output_type": "stream",
     "text": [
      "INSERT INTO addresses VALUES(1, 1, 'Keith Rivera', '925 Reynolds Squares', 'Suite 765', 'Juliaside', 'TX', '47375', True, True);\n",
      "INSERT INTO addresses VALUES(2, 2, 'Crystal Hanson', '62473 Rivera Island', NULL, 'New Gregorymouth', 'VA', '90706', True, True);\n",
      "INSERT INTO addresses VALUES(3, 3, 'Michael Moore', '50567 Elaine Hill', NULL, 'Rogerside', 'SD', '98176', True, True);\n",
      "INSERT INTO addresses VALUES(4, 4, 'Benjamin Santana', '67764 Nicholas Run', 'Suite 394', 'Summersburgh', 'AS', '63416', True, True);\n",
      "INSERT INTO addresses VALUES(5, 5, 'Renee Campos', '4734 Eugene Lodge', 'Suite 440', 'South Roberttown', 'IA', '22683', True, True);\n",
      "INSERT INTO addresses VALUES(6, 6, 'Arthur Castillo', '0866 Cameron Parks', NULL, 'West Karenside', 'IA', '09194', True, True);\n",
      "INSERT INTO addresses VALUES(7, 7, 'Kenneth Davis', '0698 Paul Spurs', NULL, 'Norrisberg', 'SC', '52288', True, True);\n",
      "INSERT INTO addresses VALUES(8, 8, 'Juan Murphy', '91998 Ashley Well', 'Suite 427', 'Justinchester', 'RI', '34724', True, True);\n",
      "INSERT INTO addresses VALUES(9, 9, 'Barbara Peters', '9139 Graves Keys', 'Suite 341', 'Lake Kayla', 'OR', '20595', True, True);\n",
      "INSERT INTO addresses VALUES(10, 10, 'Amanda Carpenter', '3142 Myers Lodge', 'Suite 214', 'West Caitlin', 'PA', '66904', True, True);\n",
      "INSERT INTO addresses VALUES(11, 11, 'Chelsea Spence', '20788 Ruiz Path', NULL, 'Davidview', 'CT', '98081', True, True);\n",
      "INSERT INTO addresses VALUES(12, 12, 'Geoffrey Jones', '62256 Laurie Circle', 'Suite 005', 'Jenniferchester', 'CO', '85248', True, True);\n",
      "INSERT INTO addresses VALUES(13, 13, 'Christine Clark', '20152 Tina Mill', NULL, 'New Christopher', 'NV', '10013', True, True);\n",
      "INSERT INTO addresses VALUES(14, 14, 'Courtney Douglas', '97053 Erik Rue', 'Apt. 128', 'Port Lonnie', 'VT', '65207', True, True);\n",
      "INSERT INTO addresses VALUES(15, 15, 'Terry Gamble', '870 Fitzgerald Overpass', NULL, 'North Faith', 'NJ', '70640', True, True);\n",
      "INSERT INTO addresses VALUES(16, 16, 'Natalie Gallegos', '8389 William Shores', NULL, 'Gardnerton', 'NV', '13397', True, True);\n",
      "INSERT INTO addresses VALUES(17, 17, 'Heather Johnson', '03904 Jones Spur', 'Apt. 501', 'Port Amybury', 'HI', '18746', True, True);\n",
      "INSERT INTO addresses VALUES(18, 18, 'Lisa Andersen', '64627 Hannah Fork', NULL, 'Haroldshire', 'HI', '49892', True, True);\n",
      "INSERT INTO addresses VALUES(19, 19, 'David Shea', '40416 Brianna Union', 'Apt. 796', 'Taratown', 'MA', '05085', True, True);\n",
      "INSERT INTO addresses VALUES(20, 20, 'Lisa Smith', '8606 Sara River', 'Apt. 450', 'East Juan', 'ID', '25829', True, True);\n",
      "INSERT INTO addresses VALUES(21, 21, 'Robert Simpson', '3714 Lauren Row', NULL, 'Jameschester', 'OR', '12029', True, True);\n",
      "INSERT INTO addresses VALUES(22, 22, 'Lori Brown', '2165 Lisa Locks', NULL, 'Lake Brett', 'MS', '08489', True, True);\n",
      "INSERT INTO addresses VALUES(23, 23, 'Andrew Miller', '93995 Samuel Gateway', 'Suite 969', 'Port Deborah', 'AL', '13156', True, True);\n",
      "INSERT INTO addresses VALUES(24, 24, 'Andrea Williams', '632 Paul Views', 'Apt. 297', 'East Elizabeth', 'CA', '28292', True, True);\n",
      "INSERT INTO addresses VALUES(25, 25, 'Taylor Scott', '720 Thompson Springs', 'Apt. 125', 'South Mary', 'MS', '33586', True, True);\n",
      "INSERT INTO addresses VALUES(26, 26, 'Jody Barajas', '2752 Ross Port', 'Suite 634', 'West Johnbury', 'MT', '81906', True, True);\n",
      "INSERT INTO addresses VALUES(27, 27, 'Brad Hardy', '823 Williams Extension', 'Apt. 757', 'East Annamouth', 'AR', '74434', True, True);\n",
      "INSERT INTO addresses VALUES(28, 28, 'Hailey Steele', '610 Garcia Center', 'Apt. 057', 'Port Jonathan', 'PA', '48368', True, True);\n",
      "INSERT INTO addresses VALUES(29, 29, 'Rachel Williams', '59036 Alyssa Plaza', 'Apt. 451', 'Kimberlybury', 'MT', '21769', True, True);\n",
      "INSERT INTO addresses VALUES(30, 30, 'David Mckay', '7005 Soto Passage', 'Suite 836', 'Lake Victoria', 'VT', '71145', True, True);\n",
      "INSERT INTO addresses VALUES(31, 31, 'Christopher Drake', '985 Bowman Harbors', NULL, 'East Oscar', 'AZ', '08718', True, True);\n",
      "INSERT INTO addresses VALUES(32, 32, 'Sarah Neal', '093 Murphy Orchard', 'Suite 895', 'Petersside', 'FM', '13105', True, True);\n",
      "INSERT INTO addresses VALUES(33, 33, 'Autumn Mueller', '3570 Elijah Knoll', 'Apt. 041', 'Blakeville', 'TX', '88462', True, True);\n",
      "INSERT INTO addresses VALUES(34, 34, 'Amanda Torres', '75813 Megan Meadows', NULL, 'East George', 'WY', '47086', True, True);\n",
      "INSERT INTO addresses VALUES(35, 35, 'Tamara Rogers', '456 Robert Flat', 'Suite 402', 'Elliottfort', 'PA', '97912', True, True);\n",
      "INSERT INTO addresses VALUES(36, 36, 'Lance Wilkins', '6737 Andrea Union', NULL, 'East Michellehaven', 'MO', '62606', True, True);\n",
      "INSERT INTO addresses VALUES(37, 37, 'Joshua Davis', '5796 Brandon Isle', NULL, 'Port Jonmouth', 'IA', '00775', True, True);\n",
      "INSERT INTO addresses VALUES(38, 38, 'Patrick White', '22377 Laura Summit', NULL, 'Waltonchester', 'ND', '53217', True, True);\n",
      "INSERT INTO addresses VALUES(39, 39, 'Ryan Mitchell', '5606 French Lock', NULL, 'Douglasbury', 'CO', '90887', True, True);\n",
      "INSERT INTO addresses VALUES(40, 40, 'Katherine Pierce', '538 Church Ways', 'Apt. 857', 'Davidton', 'KY', '09746', True, True);\n",
      "INSERT INTO addresses VALUES(41, 41, 'Kim Palmer', '12227 Trujillo Springs', 'Suite 677', 'Doylemouth', 'IN', '12123', True, True);\n",
      "INSERT INTO addresses VALUES(42, 42, 'Sean Ford', '849 Price Lights', NULL, 'Port Amandaborough', 'MD', '71897', True, True);\n",
      "INSERT INTO addresses VALUES(43, 43, 'Megan Lucero', '53872 Robinson Burgs', 'Suite 822', 'Walkerhaven', 'NY', '75364', True, True);\n",
      "INSERT INTO addresses VALUES(44, 44, 'Samantha Oneal', '56733 Samantha Union', 'Apt. 030', 'Lake Brandonbury', 'RI', '90764', True, True);\n",
      "INSERT INTO addresses VALUES(45, 45, 'Barbara Good', '7051 Mills Lights', 'Apt. 369', 'New Amanda', 'MN', '49231', True, True);\n",
      "INSERT INTO addresses VALUES(46, 46, 'Debra Reid', '1210 Martinez Mission', 'Apt. 946', 'Paulaberg', 'MN', '89089', True, True);\n",
      "INSERT INTO addresses VALUES(47, 47, 'Bobby Dillon', '26509 Stokes Light', 'Suite 389', 'Lake Tinaborough', 'TX', '49311', True, True);\n",
      "INSERT INTO addresses VALUES(48, 48, 'Rachel Elliott', '0770 David Pine', 'Suite 032', 'Lawrenceton', 'ID', '34900', True, True);\n",
      "INSERT INTO addresses VALUES(49, 49, 'Thomas Richardson', '784 Lisa Well', 'Suite 890', 'East Laura', 'MN', '40326', True, True);\n",
      "INSERT INTO addresses VALUES(50, 50, 'Alisha Villa', '8363 Perez Port', 'Apt. 452', 'Vazquezport', 'IN', '75576', True, True);\n",
      "INSERT INTO addresses VALUES(51, 51, 'Jeffrey Benitez', '392 Kevin Locks', 'Apt. 686', 'Jamesmouth', 'NJ', '53801', True, True);\n",
      "INSERT INTO addresses VALUES(52, 52, 'Kelly Morgan', '455 Carl Lake', 'Apt. 366', 'Hunterbury', 'NE', '46295', True, True);\n",
      "INSERT INTO addresses VALUES(53, 53, 'Kelly Curry', '757 Williams Village', 'Suite 849', 'Lake Jonathan', 'AL', '86375', True, True);\n",
      "INSERT INTO addresses VALUES(54, 54, 'Lisa Chapman', '4711 Margaret Place', 'Suite 885', 'Cynthiastad', 'IL', '55067', True, True);\n",
      "INSERT INTO addresses VALUES(55, 55, 'Carol Mccarthy', '1408 Debra Fords', NULL, 'South Spencer', 'IL', '39929', True, True);\n",
      "INSERT INTO addresses VALUES(56, 56, 'Eric Wright', '01559 Willis Streets', NULL, 'Port Peter', 'MH', '71411', True, True);\n",
      "INSERT INTO addresses VALUES(57, 57, 'Joshua Figueroa', '920 Short Harbors', NULL, 'Gonzalesview', 'OH', '86951', True, True);\n",
      "INSERT INTO addresses VALUES(58, 58, 'Michael Moore', '92279 Martinez Keys', 'Apt. 927', 'Lake Bruceside', 'DE', '69710', True, True);\n",
      "INSERT INTO addresses VALUES(59, 59, 'Madison Walter', '9071 Richard Harbor', 'Suite 388', 'Lake Deanmouth', 'FL', '43836', True, True);\n",
      "INSERT INTO addresses VALUES(60, 60, 'Angelica Harvey', '6868 Christopher Forge', NULL, 'New Kimberly', 'ID', '75075', True, True);\n",
      "INSERT INTO addresses VALUES(61, 61, 'Robert Carey', '2435 Devin Skyway', 'Suite 772', 'North Ryanland', 'SC', '28652', True, True);\n",
      "INSERT INTO addresses VALUES(62, 62, 'James Valencia', '29798 Torres Plains', 'Apt. 207', 'Ashleybury', 'TX', '06452', True, True);\n",
      "INSERT INTO addresses VALUES(63, 63, 'Clayton Miller', '44741 Samantha Circle', NULL, 'Port Biancaland', 'MN', '83618', True, True);\n",
      "INSERT INTO addresses VALUES(64, 64, 'Mallory Vasquez', '0200 Michelle Underpass', NULL, 'Tonimouth', 'NV', '87486', True, True);\n",
      "INSERT INTO addresses VALUES(65, 65, 'Mrs. Margaret Montgomery MD', '9626 Johnson Drive', 'Suite 558', 'Jeffreybury', 'ND', '60006', True, True);\n",
      "INSERT INTO addresses VALUES(66, 66, 'James Aguirre', '8287 Carlos Orchard', NULL, 'South Carlville', 'NJ', '15602', True, True);\n",
      "INSERT INTO addresses VALUES(67, 67, 'Paul Stevenson', '95308 Erica Course', 'Suite 739', 'Hunterchester', 'GU', '42271', True, True);\n",
      "INSERT INTO addresses VALUES(68, 68, 'Danielle Macias', '4471 Jones Crossroad', NULL, 'Williamsview', 'WA', '13806', True, True);\n",
      "INSERT INTO addresses VALUES(69, 69, 'John Mills', '110 Cooley Inlet', 'Suite 736', 'Andresbury', 'WY', '20415', True, True);\n",
      "INSERT INTO addresses VALUES(70, 70, 'Diana Long', '8683 Harvey Views', NULL, 'Maddenton', 'CT', '76491', True, True);\n",
      "INSERT INTO addresses VALUES(71, 71, 'Angela Roach', '469 Jesus Bridge', NULL, 'Lake Matthew', 'NY', '14738', True, True);\n",
      "INSERT INTO addresses VALUES(72, 72, 'Gabrielle Zuniga', '398 Cheryl Trace', NULL, 'South Charles', 'MP', '68276', True, True);\n",
      "INSERT INTO addresses VALUES(73, 73, 'Justin Martin', '3565 Stafford Highway', NULL, 'Tylerbury', 'WA', '83397', True, True);\n",
      "INSERT INTO addresses VALUES(74, 74, 'Abigail Davis', '7685 Gordon Creek', NULL, 'Keithmouth', 'MH', '30804', True, True);\n",
      "INSERT INTO addresses VALUES(75, 75, 'Derrick Dickson', '781 Ronald Stream', NULL, 'New Richardside', 'FL', '77709', True, True);\n",
      "INSERT INTO addresses VALUES(76, 76, 'Dorothy Vasquez', '980 Samantha Valleys', NULL, 'West Whitneyhaven', 'AL', '36262', True, True);\n",
      "INSERT INTO addresses VALUES(77, 77, 'Jordan Kemp', '5153 Diana Corners', 'Suite 710', 'Port Jennifer', 'CA', '42160', True, True);\n",
      "INSERT INTO addresses VALUES(78, 78, 'Jeffrey Green', '57513 Golden Harbor', 'Suite 443', 'Deborahberg', 'AR', '11443', True, True);\n",
      "INSERT INTO addresses VALUES(79, 79, 'Lawrence Bell', '81659 Theodore Prairie', NULL, 'East Shannonbury', 'MT', '63836', True, True);\n",
      "INSERT INTO addresses VALUES(80, 80, 'William Allen', '08808 Little Causeway', NULL, 'Murphyville', 'WV', '94113', True, True);\n",
      "INSERT INTO addresses VALUES(81, 81, 'Jose Rivas', '457 Destiny Spurs', 'Apt. 702', 'Emilyhaven', 'FL', '72934', True, True);\n",
      "INSERT INTO addresses VALUES(82, 82, 'Patrick Hood', '8045 Wright Views', 'Suite 489', 'West Alexisland', 'AZ', '37115', True, True);\n",
      "INSERT INTO addresses VALUES(83, 83, 'Pamela Lowe', '588 Blake Cape', 'Suite 824', 'Garciashire', 'OH', '49193', True, True);\n",
      "INSERT INTO addresses VALUES(84, 84, 'Jennifer Anderson', '89802 Price Fields', NULL, 'Wallburgh', 'DC', '11430', True, True);\n",
      "INSERT INTO addresses VALUES(85, 85, 'Jacqueline Jones', '63340 Hardy Run', NULL, 'Sanchezland', 'OR', '90864', True, True);\n",
      "INSERT INTO addresses VALUES(86, 86, 'Sherry Hart', '75252 Erin Oval', 'Apt. 692', 'Lake Robertview', 'MH', '17567', True, True);\n",
      "INSERT INTO addresses VALUES(87, 87, 'Michael Peterson', '99541 Tyler Parkways', 'Apt. 649', 'Davisshire', 'MT', '86123', True, True);\n",
      "INSERT INTO addresses VALUES(88, 88, 'Eric Williams', '53897 Hutchinson Creek', 'Apt. 959', 'Port Jeremybury', 'ID', '14328', True, True);\n",
      "INSERT INTO addresses VALUES(89, 89, 'Christine Garcia', '408 Norton Green', 'Suite 478', 'Jerryburgh', 'TX', '86805', True, True);\n",
      "INSERT INTO addresses VALUES(90, 90, 'Tina Arnold', '62650 Webb Plain', NULL, 'East Donna', 'DC', '11384', True, True);\n",
      "INSERT INTO addresses VALUES(91, 91, 'Christopher Brady', '970 Rachel Canyon', 'Suite 564', 'South Johnfurt', 'WY', '06522', True, True);\n",
      "INSERT INTO addresses VALUES(92, 92, 'Eric Rice', '58108 Michelle Squares', 'Suite 618', 'Lisaborough', 'DE', '97566', True, True);\n",
      "INSERT INTO addresses VALUES(93, 93, 'George Henderson', '633 Ibarra Estate', 'Suite 978', 'Mckinneyfort', 'HI', '65698', True, True);\n",
      "INSERT INTO addresses VALUES(94, 94, 'George Miller', '38288 Andrew Dale', 'Apt. 873', 'South Janethaven', 'AR', '38809', True, True);\n",
      "INSERT INTO addresses VALUES(95, 95, 'Matthew Page', '5495 Warner Club', NULL, 'Lopezshire', 'FL', '36811', True, True);\n",
      "INSERT INTO addresses VALUES(96, 96, 'Kristine Nelson', '392 Coleman Trail', NULL, 'South Matthew', 'WV', '57732', True, True);\n",
      "INSERT INTO addresses VALUES(97, 97, 'Meghan Steele', '12457 Wright Station', 'Suite 927', 'Andreashire', 'NC', '32321', True, True);\n",
      "INSERT INTO addresses VALUES(98, 98, 'Ernest Callahan', '65987 Brittany Shore', NULL, 'Kellyland', 'AS', '26310', True, True);\n",
      "INSERT INTO addresses VALUES(99, 99, 'Samantha Lucero', '459 Barbara Mountains', NULL, 'Port Mark', 'ID', '28799', True, True);\n",
      "INSERT INTO addresses VALUES(100, 100, 'John Townsend', '5158 Shelly Lock', NULL, 'Franciscoport', 'KS', '53292', True, True);\n",
      "\n"
     ]
    }
   ],
   "source": [
    "print_it()"
   ]
  },
  {
   "cell_type": "code",
   "execution_count": null,
   "id": "c702f738",
   "metadata": {},
   "outputs": [],
   "source": []
  }
 ],
 "metadata": {
  "kernelspec": {
   "display_name": "Python 3.10.4 64-bit ('3.10.4': pyenv)",
   "language": "python",
   "name": "python3"
  },
  "language_info": {
   "codemirror_mode": {
    "name": "ipython",
    "version": 3
   },
   "file_extension": ".py",
   "mimetype": "text/x-python",
   "name": "python",
   "nbconvert_exporter": "python",
   "pygments_lexer": "ipython3",
   "version": "3.10.4"
  },
  "vscode": {
   "interpreter": {
    "hash": "40f2ac86c2ff9164d8eaaa1295186d7af6cf88d800a0e97dfa509aa9a79fa4b6"
   }
  }
 },
 "nbformat": 4,
 "nbformat_minor": 5
}
