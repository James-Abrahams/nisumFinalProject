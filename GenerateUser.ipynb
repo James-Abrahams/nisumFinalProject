{
 "cells": [
  {
   "cell_type": "code",
   "execution_count": 52,
   "id": "9670d238-4cd8-4ad6-ac82-e6e138fd7e36",
   "metadata": {},
   "outputs": [],
   "source": [
    "from random import randint\n",
    "from random import choice\n",
    "from faker import Faker"
   ]
  },
  {
   "cell_type": "code",
   "execution_count": 53,
   "id": "cef307f8",
   "metadata": {},
   "outputs": [],
   "source": [
    "fake = Faker()"
   ]
  },
  {
   "cell_type": "code",
   "execution_count": 54,
   "id": "e68b67aa",
   "metadata": {},
   "outputs": [],
   "source": [
    "user_list = []"
   ]
  },
  {
   "cell_type": "code",
   "execution_count": 55,
   "id": "09669706",
   "metadata": {},
   "outputs": [],
   "source": [
    "def phone():\n",
    "    num = f'{fake.msisdn()[3:]}'\n",
    "    all_gucci = False\n",
    "    while  not all_gucci:\n",
    "        if num[0] == '1' or num[0] == '0' or num[3] == '1' or num[3] == '0' or num[3:6] == '911':\n",
    "            num = f'{fake.msisdn()[3:]}'\n",
    "        else:\n",
    "            all_gucci = True\n",
    "    return num"
   ]
  },
  {
   "cell_type": "code",
   "execution_count": 61,
   "id": "3a2bb2a3-cfe6-4220-ae0a-38f7eb9b4899",
   "metadata": {},
   "outputs": [],
   "source": [
    "def generate_users(num_users):\n",
    "    \n",
    "    \n",
    "    for i in range(0, num_users):\n",
    "        fname = fake.first_name()\n",
    "        lname = fake.last_name()\n",
    "        email_bridge = choice(['', choice(['-','_',str(randint(0,9))])])\n",
    "        email_affectation = choice(['', choice(['','',str(randint(0,9)),'fan',choice(['68', '419', '41968'])])])\n",
    "        domain = choice(['com','net',choice(['edu','org','gov'])])\n",
    "        person = {\n",
    "            \"id\"            : i + 1,\n",
    "            \"email\"         : fname.lower() + f\"{email_bridge}{lname.lower()}{email_affectation}{randint(0,100)}@example.{domain}\",\n",
    "            \"first_name\"    : fname,\n",
    "            \"last_name\"     : lname,\n",
    "            \"user_password\" : fake.password(),\n",
    "            \"phone\"         : phone(),\n",
    "        }       \n",
    "\n",
    "        user_list.append(person)\n",
    "    print(user_list)"
   ]
  },
  {
   "cell_type": "code",
   "execution_count": 62,
   "id": "101ed5e9",
   "metadata": {},
   "outputs": [
    {
     "name": "stdout",
     "output_type": "stream",
     "text": [
      "[{'id': 1, 'email': 'beth-ruiz23@example.org', 'first_name': 'Beth', 'last_name': 'Ruiz', 'user_password': 'M(sD8$JkiZ', 'phone': '4945241427'}, {'id': 2, 'email': 'anne-lopez61@example.org', 'first_name': 'Anne', 'last_name': 'Lopez', 'user_password': 'oav#4UsCf+', 'phone': '3444223848'}, {'id': 3, 'email': 'jamescolemanfan68@example.gov', 'first_name': 'James', 'last_name': 'Coleman', 'user_password': ')4MjUE_hbp', 'phone': '6636169596'}, {'id': 4, 'email': 'austin5villanueva681@example.net', 'first_name': 'Austin', 'last_name': 'Villanueva', 'user_password': 'e#2FE(o@jg', 'phone': '5539676946'}, {'id': 5, 'email': 'gabriel7copeland28@example.net', 'first_name': 'Gabriel', 'last_name': 'Copeland', 'user_password': '$p5LcE%zOj', 'phone': '6655216533'}, {'id': 6, 'email': 'joshuabrown46@example.com', 'first_name': 'Joshua', 'last_name': 'Brown', 'user_password': '#YW7vFB$n4', 'phone': '2443960014'}, {'id': 7, 'email': 'patricia3wright91@example.com', 'first_name': 'Patricia', 'last_name': 'Wright', 'user_password': '12DZEzmg%5', 'phone': '5636342269'}, {'id': 8, 'email': 'amyhansenfan27@example.org', 'first_name': 'Amy', 'last_name': 'Hansen', 'user_password': '184D)EpF+a', 'phone': '8308904615'}, {'id': 9, 'email': 'sabrinahampton41968@example.com', 'first_name': 'Sabrina', 'last_name': 'Hampton', 'user_password': '^GQFytwt^2', 'phone': '4849559180'}, {'id': 10, 'email': 'angelaroberts843@example.edu', 'first_name': 'Angela', 'last_name': 'Roberts', 'user_password': '+8Jn_M4y&V', 'phone': '6516390867'}, {'id': 11, 'email': 'kari_gay17@example.com', 'first_name': 'Kari', 'last_name': 'Gay', 'user_password': 'wJuiW4Oj&S', 'phone': '2242062171'}, {'id': 12, 'email': 'max-vaughn18@example.org', 'first_name': 'Max', 'last_name': 'Vaughn', 'user_password': '!PgH+H4g_8', 'phone': '4539809222'}, {'id': 13, 'email': 'danny_blair40@example.org', 'first_name': 'Danny', 'last_name': 'Blair', 'user_password': 'Af2XrL9I1^', 'phone': '8732171711'}, {'id': 14, 'email': 'laurenallen956@example.net', 'first_name': 'Lauren', 'last_name': 'Allen', 'user_password': '6Y#2Wa_v(q', 'phone': '2428314767'}, {'id': 15, 'email': 'emma5mcdonald5@example.gov', 'first_name': 'Emma', 'last_name': 'Mcdonald', 'user_password': '$&AkshIGS2', 'phone': '2374035452'}, {'id': 16, 'email': 'ashleyarcher61@example.gov', 'first_name': 'Ashley', 'last_name': 'Archer', 'user_password': '#oJLv2L&8R', 'phone': '7332352041'}, {'id': 17, 'email': 'zacharygutierrez90@example.edu', 'first_name': 'Zachary', 'last_name': 'Gutierrez', 'user_password': '*!BHO#2nP1', 'phone': '2285511861'}, {'id': 18, 'email': 'amanda-mitchell649@example.org', 'first_name': 'Amanda', 'last_name': 'Mitchell', 'user_password': 's!1&(F#x)l', 'phone': '7313495600'}, {'id': 19, 'email': 'brittany-gordon8@example.net', 'first_name': 'Brittany', 'last_name': 'Gordon', 'user_password': 'jm%1Da(j%+', 'phone': '2407667928'}, {'id': 20, 'email': 'nicole4woodsfan37@example.com', 'first_name': 'Nicole', 'last_name': 'Woods', 'user_password': '!c2SynCQY1', 'phone': '9108774287'}, {'id': 21, 'email': 'robertperez12@example.net', 'first_name': 'Robert', 'last_name': 'Perez', 'user_password': 'a5DFAxTO@t', 'phone': '2499799794'}, {'id': 22, 'email': 'edward-martinez79@example.gov', 'first_name': 'Edward', 'last_name': 'Martinez', 'user_password': '2jN4)UIy#s', 'phone': '2684555845'}, {'id': 23, 'email': 'rogerrobertsfan10@example.com', 'first_name': 'Roger', 'last_name': 'Roberts', 'user_password': '%)U9fah+l3', 'phone': '5666503224'}, {'id': 24, 'email': 'peter-nelson584@example.net', 'first_name': 'Peter', 'last_name': 'Nelson', 'user_password': 'hX$h6vXw)0', 'phone': '8915934943'}, {'id': 25, 'email': 'ryan-snyder25@example.gov', 'first_name': 'Ryan', 'last_name': 'Snyder', 'user_password': '4@fuY8Xj!5', 'phone': '6638961497'}, {'id': 26, 'email': 'beverly0warner6848@example.com', 'first_name': 'Beverly', 'last_name': 'Warner', 'user_password': 'x)2TYLWeBM', 'phone': '9649127603'}, {'id': 27, 'email': 'dariusfitzpatrick85@example.net', 'first_name': 'Darius', 'last_name': 'Fitzpatrick', 'user_password': 'ob1!TSe6^4', 'phone': '7618503375'}, {'id': 28, 'email': 'johnmendozafan94@example.net', 'first_name': 'John', 'last_name': 'Mendoza', 'user_password': '8)J8CVqj^w', 'phone': '5764035560'}, {'id': 29, 'email': 'john-gonzalez94@example.net', 'first_name': 'John', 'last_name': 'Gonzalez', 'user_password': '^8cnQlyrP5', 'phone': '6478407872'}, {'id': 30, 'email': 'williamlozano47@example.net', 'first_name': 'William', 'last_name': 'Lozano', 'user_password': '_@s312SeTt', 'phone': '6626078757'}, {'id': 31, 'email': 'heather-woodard97@example.org', 'first_name': 'Heather', 'last_name': 'Woodard', 'user_password': '%LA^F3FyBb', 'phone': '3567908048'}, {'id': 32, 'email': 'joanhenson17@example.com', 'first_name': 'Joan', 'last_name': 'Henson', 'user_password': '!2PJdrjf#0', 'phone': '4154181373'}, {'id': 33, 'email': 'kathleenvalenzuela41928@example.com', 'first_name': 'Kathleen', 'last_name': 'Valenzuela', 'user_password': '%nQ4QmE*&V', 'phone': '3656835272'}, {'id': 34, 'email': 'steven-jensen4196827@example.com', 'first_name': 'Steven', 'last_name': 'Jensen', 'user_password': 'cK@5OoXq5Y', 'phone': '9642092226'}, {'id': 35, 'email': 'mitchell-miller42@example.net', 'first_name': 'Mitchell', 'last_name': 'Miller', 'user_password': '+1rvNQ)en5', 'phone': '2886171583'}, {'id': 36, 'email': 'marc7frederick4192@example.edu', 'first_name': 'Marc', 'last_name': 'Frederick', 'user_password': '@9ZDXg_iR3', 'phone': '4143044234'}, {'id': 37, 'email': 'peter-hernandez18@example.net', 'first_name': 'Peter', 'last_name': 'Hernandez', 'user_password': '33SfAM_x_S', 'phone': '9152446140'}, {'id': 38, 'email': 'amanda-davis29@example.org', 'first_name': 'Amanda', 'last_name': 'Davis', 'user_password': '!f3Bpg7Q(9', 'phone': '8648721723'}, {'id': 39, 'email': 'sandra-park99@example.com', 'first_name': 'Sandra', 'last_name': 'Park', 'user_password': '8rIwMlil$m', 'phone': '7122735066'}, {'id': 40, 'email': 'patriciamccarthy61@example.net', 'first_name': 'Patricia', 'last_name': 'Mccarthy', 'user_password': '&8aT$wbNh^', 'phone': '5034613351'}, {'id': 41, 'email': 'ryanmora98@example.net', 'first_name': 'Ryan', 'last_name': 'Mora', 'user_password': 'qIe^8Bm*SI', 'phone': '3586586293'}, {'id': 42, 'email': 'tammy4dunn4196817@example.edu', 'first_name': 'Tammy', 'last_name': 'Dunn', 'user_password': 'jK*2pbByY!', 'phone': '8077839409'}, {'id': 43, 'email': 'derekpricefan20@example.org', 'first_name': 'Derek', 'last_name': 'Price', 'user_password': 'Sy0SmlTw_V', 'phone': '3999658168'}, {'id': 44, 'email': 'kimberlydeleon72@example.net', 'first_name': 'Kimberly', 'last_name': 'Deleon', 'user_password': '3A5r9KSd$)', 'phone': '8045694185'}, {'id': 45, 'email': 'donald5williams9@example.net', 'first_name': 'Donald', 'last_name': 'Williams', 'user_password': 'M4_U@BrZ#h', 'phone': '7048541660'}, {'id': 46, 'email': 'steven-calderon50@example.com', 'first_name': 'Steven', 'last_name': 'Calderon', 'user_password': '8TGANvwZ)D', 'phone': '5289911650'}, {'id': 47, 'email': 'michelle-baker44@example.edu', 'first_name': 'Michelle', 'last_name': 'Baker', 'user_password': '(S8*mfEb8v', 'phone': '7687906729'}, {'id': 48, 'email': 'valerie5peterson29@example.net', 'first_name': 'Valerie', 'last_name': 'Peterson', 'user_password': '^2SRpckCaf', 'phone': '3682241667'}, {'id': 49, 'email': 'sararivera799@example.com', 'first_name': 'Sara', 'last_name': 'Rivera', 'user_password': '&S8#eFolep', 'phone': '5067576908'}, {'id': 50, 'email': 'kylejohnson33@example.edu', 'first_name': 'Kyle', 'last_name': 'Johnson', 'user_password': 's49KBxbtH@', 'phone': '6192043359'}, {'id': 51, 'email': 'karen-hernandezfan33@example.gov', 'first_name': 'Karen', 'last_name': 'Hernandez', 'user_password': 'z&nw7w9bzR', 'phone': '3107905279'}, {'id': 52, 'email': 'mark5wardfan54@example.edu', 'first_name': 'Mark', 'last_name': 'Ward', 'user_password': 'K$4WjdguWf', 'phone': '3834640657'}, {'id': 53, 'email': 'joelmcdonald82@example.edu', 'first_name': 'Joel', 'last_name': 'Mcdonald', 'user_password': '1XZkuC$8_O', 'phone': '2145116705'}, {'id': 54, 'email': 'nathan_garza74@example.net', 'first_name': 'Nathan', 'last_name': 'Garza', 'user_password': 'S*9TGk0(n0', 'phone': '4127906203'}, {'id': 55, 'email': 'courtney5armstrong35@example.edu', 'first_name': 'Courtney', 'last_name': 'Armstrong', 'user_password': '8Ms2CBtq%!', 'phone': '5414552198'}, {'id': 56, 'email': 'markstewartfan34@example.gov', 'first_name': 'Mark', 'last_name': 'Stewart', 'user_password': '(hau0MZX+7', 'phone': '2624121324'}, {'id': 57, 'email': 'christopher_vazquez41972@example.org', 'first_name': 'Christopher', 'last_name': 'Vazquez', 'user_password': '%3X3V8fncJ', 'phone': '6888588986'}, {'id': 58, 'email': 'moniquebenson9@example.net', 'first_name': 'Monique', 'last_name': 'Benson', 'user_password': '%22XlN2y%H', 'phone': '7859920423'}, {'id': 59, 'email': 'christopher8rice27@example.com', 'first_name': 'Christopher', 'last_name': 'Rice', 'user_password': '*1Tl)z_G5t', 'phone': '3717644925'}, {'id': 60, 'email': 'annesullivanfan64@example.com', 'first_name': 'Anne', 'last_name': 'Sullivan', 'user_password': '5J+#n1Jh&A', 'phone': '3278902574'}, {'id': 61, 'email': 'carla-poole20@example.org', 'first_name': 'Carla', 'last_name': 'Poole', 'user_password': 'ahzC2YAu_*', 'phone': '9023688796'}, {'id': 62, 'email': 'amyhunt28@example.net', 'first_name': 'Amy', 'last_name': 'Hunt', 'user_password': '^$WH4Gok6d', 'phone': '9738162414'}, {'id': 63, 'email': 'jose-garza59@example.gov', 'first_name': 'Jose', 'last_name': 'Garza', 'user_password': 'z^25Jg+%1w', 'phone': '4514969112'}, {'id': 64, 'email': 'carriedickson4196839@example.net', 'first_name': 'Carrie', 'last_name': 'Dickson', 'user_password': '&BIb7Lhjwi', 'phone': '3689949521'}, {'id': 65, 'email': 'sarahsmith44@example.com', 'first_name': 'Sarah', 'last_name': 'Smith', 'user_password': '21@lUfZz&u', 'phone': '3924552201'}, {'id': 66, 'email': 'julietapia5@example.net', 'first_name': 'Julie', 'last_name': 'Tapia', 'user_password': '^T37Q^xd__', 'phone': '9745634526'}, {'id': 67, 'email': 'christopherjosephfan41@example.org', 'first_name': 'Christopher', 'last_name': 'Joseph', 'user_password': '9%2ZtQTq3v', 'phone': '5432906786'}, {'id': 68, 'email': 'louis_thomas5@example.com', 'first_name': 'Louis', 'last_name': 'Thomas', 'user_password': '4pZ6u5k$#t', 'phone': '7555722173'}, {'id': 69, 'email': 'nicholas8lucas60@example.com', 'first_name': 'Nicholas', 'last_name': 'Lucas', 'user_password': 'Nq1E#UOi^C', 'phone': '7694995012'}, {'id': 70, 'email': 'joel6fischer30@example.gov', 'first_name': 'Joel', 'last_name': 'Fischer', 'user_password': '#!ypcSbr32', 'phone': '2097049303'}, {'id': 71, 'email': 'christine_smith25@example.gov', 'first_name': 'Christine', 'last_name': 'Smith', 'user_password': '@_!p6HyC6k', 'phone': '8647898234'}, {'id': 72, 'email': 'brianna2solis4196822@example.edu', 'first_name': 'Brianna', 'last_name': 'Solis', 'user_password': 'PDR#6HEoqs', 'phone': '5949319800'}, {'id': 73, 'email': 'zacharyschwartz6811@example.org', 'first_name': 'Zachary', 'last_name': 'Schwartz', 'user_password': 'at0TinNw&7', 'phone': '5082822191'}, {'id': 74, 'email': 'katrina_jonesfan51@example.net', 'first_name': 'Katrina', 'last_name': 'Jones', 'user_password': '@41Dr#vt%m', 'phone': '4015372241'}, {'id': 75, 'email': 'cynthia2richardson36@example.net', 'first_name': 'Cynthia', 'last_name': 'Richardson', 'user_password': '!FzK(G*u0H', 'phone': '4774692920'}, {'id': 76, 'email': 'tracy_chan33@example.com', 'first_name': 'Tracy', 'last_name': 'Chan', 'user_password': '!0A)HeA*&y', 'phone': '4082612735'}, {'id': 77, 'email': 'susannguyenfan22@example.gov', 'first_name': 'Susan', 'last_name': 'Nguyen', 'user_password': '@hA0DEFj8x', 'phone': '8746985500'}, {'id': 78, 'email': 'carlos-thompson99@example.net', 'first_name': 'Carlos', 'last_name': 'Thompson', 'user_password': 'dzZCmejx_7', 'phone': '6313733095'}, {'id': 79, 'email': 'ericahorne19@example.com', 'first_name': 'Erica', 'last_name': 'Horne', 'user_password': 'i6O)KVdH&5', 'phone': '3424325403'}, {'id': 80, 'email': 'scott4martinez17@example.net', 'first_name': 'Scott', 'last_name': 'Martinez', 'user_password': 'L6qhIu%&)T', 'phone': '8436980290'}, {'id': 81, 'email': 'william-calderon99@example.gov', 'first_name': 'William', 'last_name': 'Calderon', 'user_password': 'zQ34OyxrN&', 'phone': '3253979142'}, {'id': 82, 'email': 'amy-valdez16@example.gov', 'first_name': 'Amy', 'last_name': 'Valdez', 'user_password': ')00SSTffd5', 'phone': '8879671268'}, {'id': 83, 'email': 'david-gonzalezfan63@example.com', 'first_name': 'David', 'last_name': 'Gonzalez', 'user_password': 'f50qAOjf&!', 'phone': '4837163473'}, {'id': 84, 'email': 'steve_larsen23@example.net', 'first_name': 'Steve', 'last_name': 'Larsen', 'user_password': '6RROdt4qa&', 'phone': '8594905716'}, {'id': 85, 'email': 'elizabethdiaz61@example.net', 'first_name': 'Elizabeth', 'last_name': 'Diaz', 'user_password': ')ylLJvRB*7', 'phone': '9585079539'}, {'id': 86, 'email': 'tim-ochoa871@example.net', 'first_name': 'Tim', 'last_name': 'Ochoa', 'user_password': 'fJ2MEsnV&J', 'phone': '5455483870'}, {'id': 87, 'email': 'edward7phillips84@example.com', 'first_name': 'Edward', 'last_name': 'Phillips', 'user_password': 'M2uIJv@L*1', 'phone': '3308834994'}, {'id': 88, 'email': 'kimberlymclaughlin57@example.net', 'first_name': 'Kimberly', 'last_name': 'Mclaughlin', 'user_password': 'o151KZvDM+', 'phone': '7295281911'}, {'id': 89, 'email': 'manuelayala46@example.org', 'first_name': 'Manuel', 'last_name': 'Ayala', 'user_password': '!n1VW)iyr3', 'phone': '9739814563'}, {'id': 90, 'email': 'hunterduran4@example.com', 'first_name': 'Hunter', 'last_name': 'Duran', 'user_password': 'x^*!7Pv$#L', 'phone': '3227200228'}, {'id': 91, 'email': 'jeanettethompson58@example.gov', 'first_name': 'Jeanette', 'last_name': 'Thompson', 'user_password': 'r8YYBV5e_I', 'phone': '6914599239'}, {'id': 92, 'email': 'nathangray19@example.net', 'first_name': 'Nathan', 'last_name': 'Gray', 'user_password': '5oPjGv3r^L', 'phone': '3278848568'}, {'id': 93, 'email': 'kevin_pittman56@example.com', 'first_name': 'Kevin', 'last_name': 'Pittman', 'user_password': '9SFjUKSm(r', 'phone': '7905582708'}, {'id': 94, 'email': 'sarajones6825@example.edu', 'first_name': 'Sara', 'last_name': 'Jones', 'user_password': 'v62L8Z*K*r', 'phone': '5497809157'}, {'id': 95, 'email': 'kathleenhughesfan97@example.com', 'first_name': 'Kathleen', 'last_name': 'Hughes', 'user_password': '^m7+qPb*B9', 'phone': '7243938671'}, {'id': 96, 'email': 'maurice-morales53@example.com', 'first_name': 'Maurice', 'last_name': 'Morales', 'user_password': '9^q1OohH&C', 'phone': '9916974063'}, {'id': 97, 'email': 'nicole9brooks40@example.com', 'first_name': 'Nicole', 'last_name': 'Brooks', 'user_password': 'Htx9nwlq@6', 'phone': '5302620244'}, {'id': 98, 'email': 'cynthia9whitaker41975@example.net', 'first_name': 'Cynthia', 'last_name': 'Whitaker', 'user_password': '&HdJQH55l0', 'phone': '3668370631'}, {'id': 99, 'email': 'michael7holmes384@example.com', 'first_name': 'Michael', 'last_name': 'Holmes', 'user_password': 'r%7L!8@xZ^', 'phone': '9298174772'}, {'id': 100, 'email': 'jamesross98@example.com', 'first_name': 'James', 'last_name': 'Ross', 'user_password': 'anFODHkG%3', 'phone': '6169260863'}, {'id': 101, 'email': 'heidifisher41929@example.net', 'first_name': 'Heidi', 'last_name': 'Fisher', 'user_password': 'Di3W@4UnH)', 'phone': '2468253470'}, {'id': 102, 'email': 'jordan5garrett41911@example.gov', 'first_name': 'Jordan', 'last_name': 'Garrett', 'user_password': 'Gq8KC%%g)Z', 'phone': '7399101581'}, {'id': 103, 'email': 'geraldwrightfan77@example.com', 'first_name': 'Gerald', 'last_name': 'Wright', 'user_password': '06T@Ys7U&u', 'phone': '6353264724'}, {'id': 104, 'email': 'christy7smith15@example.gov', 'first_name': 'Christy', 'last_name': 'Smith', 'user_password': '^ntrBGzN3g', 'phone': '9717345392'}, {'id': 105, 'email': 'megan3deleon64@example.com', 'first_name': 'Megan', 'last_name': 'Deleon', 'user_password': '$*u!2FLdS&', 'phone': '5276787669'}, {'id': 106, 'email': 'calebfaulkner41957@example.net', 'first_name': 'Caleb', 'last_name': 'Faulkner', 'user_password': 'PxWyHluZ)1', 'phone': '7416816294'}, {'id': 107, 'email': 'claudiafletcher8@example.org', 'first_name': 'Claudia', 'last_name': 'Fletcher', 'user_password': '+$3kO5Wo4+', 'phone': '2744232432'}, {'id': 108, 'email': 'brandon6fowlerfan4@example.com', 'first_name': 'Brandon', 'last_name': 'Fowler', 'user_password': 'yMsEeFu8$2', 'phone': '4833483141'}, {'id': 109, 'email': 'sydney7todd6@example.com', 'first_name': 'Sydney', 'last_name': 'Todd', 'user_password': '_3TuS@k1e8', 'phone': '2559447052'}, {'id': 110, 'email': 'deannagilbert21@example.com', 'first_name': 'Deanna', 'last_name': 'Gilbert', 'user_password': '#E)1(UHjZj', 'phone': '2064382646'}, {'id': 111, 'email': 'brittany1stewart48@example.com', 'first_name': 'Brittany', 'last_name': 'Stewart', 'user_password': 'u@W9HJbYdm', 'phone': '4979049562'}, {'id': 1, 'email': 'victoriathomas62@example.com', 'first_name': 'Victoria', 'last_name': 'Thomas', 'user_password': 'wG!10AgA1)', 'phone': '9442554363'}, {'id': 2, 'email': 'juliadiaz70@example.com', 'first_name': 'Julia', 'last_name': 'Diaz', 'user_password': '+0#3Dh0E)y', 'phone': '6714251436'}, {'id': 3, 'email': 'markcallahan21@example.net', 'first_name': 'Mark', 'last_name': 'Callahan', 'user_password': 'Il2_l1XFx!', 'phone': '7422233717'}, {'id': 4, 'email': 'sara-blankenship98@example.org', 'first_name': 'Sara', 'last_name': 'Blankenship', 'user_password': 'e+92fFEGdo', 'phone': '4924634294'}, {'id': 5, 'email': 'emmacannon18@example.net', 'first_name': 'Emma', 'last_name': 'Cannon', 'user_password': 'NV6DzvMPQ%', 'phone': '7668810103'}, {'id': 6, 'email': 'kristina1baker29@example.edu', 'first_name': 'Kristina', 'last_name': 'Baker', 'user_password': 'kt+&05Brhf', 'phone': '9713258968'}, {'id': 7, 'email': 'lukemorales16@example.net', 'first_name': 'Luke', 'last_name': 'Morales', 'user_password': 'QhH3Qqmx(G', 'phone': '6453349404'}, {'id': 8, 'email': 'amandaprice95@example.net', 'first_name': 'Amanda', 'last_name': 'Price', 'user_password': ')OPgsQ)d87', 'phone': '4925055164'}, {'id': 9, 'email': 'eddie5dean894@example.com', 'first_name': 'Eddie', 'last_name': 'Dean', 'user_password': 'w2)HIrIk+E', 'phone': '2146399748'}, {'id': 10, 'email': 'melanie-lewis71@example.org', 'first_name': 'Melanie', 'last_name': 'Lewis', 'user_password': 'FCx8MRx1s&', 'phone': '4232336433'}, {'id': 11, 'email': 'rogergonzalez46@example.org', 'first_name': 'Roger', 'last_name': 'Gonzalez', 'user_password': 's@b3tSKdVz', 'phone': '2236098739'}, {'id': 12, 'email': 'denniscoleman7@example.net', 'first_name': 'Dennis', 'last_name': 'Coleman', 'user_password': 'O8E&Yiyh$0', 'phone': '6336575310'}, {'id': 13, 'email': 'miacooke36@example.gov', 'first_name': 'Mia', 'last_name': 'Cooke', 'user_password': '#^n1KXPUws', 'phone': '2578775031'}, {'id': 14, 'email': 'seanrhodes3@example.net', 'first_name': 'Sean', 'last_name': 'Rhodes', 'user_password': 'Q8gq7LlN%n', 'phone': '3543759402'}, {'id': 15, 'email': 'derek7clark936@example.net', 'first_name': 'Derek', 'last_name': 'Clark', 'user_password': '+Z%B2J^pc&', 'phone': '8476008560'}, {'id': 16, 'email': 'mitchell-vance41@example.net', 'first_name': 'Mitchell', 'last_name': 'Vance', 'user_password': '(bl4_QWSX$', 'phone': '3243859009'}, {'id': 17, 'email': 'patrick_wallacefan43@example.edu', 'first_name': 'Patrick', 'last_name': 'Wallace', 'user_password': 'c8dtUxCv#g', 'phone': '7053962802'}, {'id': 18, 'email': 'elizabeth_wright74@example.net', 'first_name': 'Elizabeth', 'last_name': 'Wright', 'user_password': 'y5I+9cfV)R', 'phone': '3589078149'}, {'id': 19, 'email': 'morganwhite15@example.com', 'first_name': 'Morgan', 'last_name': 'White', 'user_password': 'M5Zq%VVC%i', 'phone': '5032786822'}, {'id': 20, 'email': 'danaduarte98@example.com', 'first_name': 'Dana', 'last_name': 'Duarte', 'user_password': 'HbdVEhK0^5', 'phone': '3832954041'}, {'id': 21, 'email': 'dannynelson33@example.net', 'first_name': 'Danny', 'last_name': 'Nelson', 'user_password': '(pG8K^cxA6', 'phone': '6943268342'}, {'id': 22, 'email': 'timothywillis18@example.net', 'first_name': 'Timothy', 'last_name': 'Willis', 'user_password': 'Vl21WR0o(V', 'phone': '5466094144'}, {'id': 23, 'email': 'ericpacheco16@example.net', 'first_name': 'Eric', 'last_name': 'Pacheco', 'user_password': '!*5&lZqmA*', 'phone': '4908300117'}, {'id': 24, 'email': 'michelle-hall20@example.org', 'first_name': 'Michelle', 'last_name': 'Hall', 'user_password': 'U1nlGOSB_b', 'phone': '6542363156'}, {'id': 25, 'email': 'nicolescott30@example.net', 'first_name': 'Nicole', 'last_name': 'Scott', 'user_password': '@yRS2qj+o3', 'phone': '5857906895'}, {'id': 26, 'email': 'judy-hernandezfan30@example.net', 'first_name': 'Judy', 'last_name': 'Hernandez', 'user_password': 'w9+2Wy$O^&', 'phone': '2148267143'}, {'id': 27, 'email': 'timothy_morgan72@example.com', 'first_name': 'Timothy', 'last_name': 'Morgan', 'user_password': '%lbe6uAccd', 'phone': '5146003367'}, {'id': 28, 'email': 'zacharyduran41972@example.com', 'first_name': 'Zachary', 'last_name': 'Duran', 'user_password': ')96!JCHybH', 'phone': '4805360413'}, {'id': 29, 'email': 'louisricefan91@example.net', 'first_name': 'Louis', 'last_name': 'Rice', 'user_password': '@iT5RgGbCB', 'phone': '5576225202'}, {'id': 30, 'email': 'katherinebrown20@example.net', 'first_name': 'Katherine', 'last_name': 'Brown', 'user_password': '4A_2X@OdtS', 'phone': '2052587031'}, {'id': 31, 'email': 'john2beltran8@example.com', 'first_name': 'John', 'last_name': 'Beltran', 'user_password': '%0mZ4rxTbI', 'phone': '8428159618'}, {'id': 32, 'email': 'trevorturner78@example.org', 'first_name': 'Trevor', 'last_name': 'Turner', 'user_password': '+0JfCi%u*V', 'phone': '7253301076'}, {'id': 33, 'email': 'victorcarter90@example.net', 'first_name': 'Victor', 'last_name': 'Carter', 'user_password': ')Z7S2ZMo^2', 'phone': '8516231991'}, {'id': 34, 'email': 'brandonsimmons10@example.net', 'first_name': 'Brandon', 'last_name': 'Simmons', 'user_password': 'H7W1kNRa+#', 'phone': '9777474205'}, {'id': 35, 'email': 'mark5gregory83@example.com', 'first_name': 'Mark', 'last_name': 'Gregory', 'user_password': '$H3XRh6h6a', 'phone': '2608124809'}, {'id': 36, 'email': 'dylanchang26@example.com', 'first_name': 'Dylan', 'last_name': 'Chang', 'user_password': 'MP(k5OLfvj', 'phone': '3494401452'}, {'id': 37, 'email': 'nathaniel_gordon72@example.com', 'first_name': 'Nathaniel', 'last_name': 'Gordon', 'user_password': 'Ga_8PPdj6x', 'phone': '3564035486'}, {'id': 38, 'email': 'stephaniedickson57@example.com', 'first_name': 'Stephanie', 'last_name': 'Dickson', 'user_password': 'P%&5LnIt(S', 'phone': '8903282851'}, {'id': 39, 'email': 'nathanandrade2@example.net', 'first_name': 'Nathan', 'last_name': 'Andrade', 'user_password': '&k5uLqHZ!&', 'phone': '5848530691'}, {'id': 40, 'email': 'betty-mcdonald25@example.org', 'first_name': 'Betty', 'last_name': 'Mcdonald', 'user_password': '(d3L3ifIU4', 'phone': '5946063381'}, {'id': 41, 'email': 'bryanmorse95@example.com', 'first_name': 'Bryan', 'last_name': 'Morse', 'user_password': '(*pYdizC7x', 'phone': '9995675871'}, {'id': 42, 'email': 'jose-munoz0@example.com', 'first_name': 'Jose', 'last_name': 'Munoz', 'user_password': '*#NgZ4Zfv3', 'phone': '9546333682'}, {'id': 43, 'email': 'anthonyadams73@example.net', 'first_name': 'Anthony', 'last_name': 'Adams', 'user_password': 'Q7QAWWiV&z', 'phone': '4318731056'}, {'id': 44, 'email': 'karen3fitzpatrick66@example.com', 'first_name': 'Karen', 'last_name': 'Fitzpatrick', 'user_password': '%0k%HJlenf', 'phone': '6329384695'}, {'id': 45, 'email': 'judy_malone99@example.net', 'first_name': 'Judy', 'last_name': 'Malone', 'user_password': ')$8Rjnb8N0', 'phone': '6059661451'}, {'id': 46, 'email': 'nancypowell80@example.net', 'first_name': 'Nancy', 'last_name': 'Powell', 'user_password': 'O$3wKSoaVG', 'phone': '6426161749'}, {'id': 47, 'email': 'christopherstone6872@example.com', 'first_name': 'Christopher', 'last_name': 'Stone', 'user_password': 'V#8OcevTUe', 'phone': '8055800972'}, {'id': 48, 'email': 'amber-thompson91@example.net', 'first_name': 'Amber', 'last_name': 'Thompson', 'user_password': 'o+H49Digpq', 'phone': '4617423755'}, {'id': 49, 'email': 'christinasimpson73@example.com', 'first_name': 'Christina', 'last_name': 'Simpson', 'user_password': 'V0(_^0Ddml', 'phone': '9219870036'}, {'id': 50, 'email': 'kristin_hogan22@example.com', 'first_name': 'Kristin', 'last_name': 'Hogan', 'user_password': '5*8FgR7RXO', 'phone': '8369104776'}, {'id': 51, 'email': 'phillipjackson48@example.edu', 'first_name': 'Phillip', 'last_name': 'Jackson', 'user_password': 'D1IrR!x4@i', 'phone': '8934709755'}, {'id': 52, 'email': 'erichurley16@example.net', 'first_name': 'Eric', 'last_name': 'Hurley', 'user_password': 'X@M0CjCugd', 'phone': '3265810041'}, {'id': 53, 'email': 'michaelhampton97@example.com', 'first_name': 'Michael', 'last_name': 'Hampton', 'user_password': 'U5w14B(xH@', 'phone': '3534961144'}, {'id': 54, 'email': 'melissasmith34@example.com', 'first_name': 'Melissa', 'last_name': 'Smith', 'user_password': '+ON+S2Qwh#', 'phone': '9307263612'}, {'id': 55, 'email': 'jeffrey3rodriguezfan58@example.com', 'first_name': 'Jeffrey', 'last_name': 'Rodriguez', 'user_password': '_9Fpx!t@li', 'phone': '7542787881'}, {'id': 56, 'email': 'michaelboone44@example.gov', 'first_name': 'Michael', 'last_name': 'Boone', 'user_password': '(3uG1v3yFV', 'phone': '7022220715'}, {'id': 57, 'email': 'lindsayjackson20@example.org', 'first_name': 'Lindsay', 'last_name': 'Jackson', 'user_password': '(Iv1F8Eh6^', 'phone': '3802582471'}, {'id': 58, 'email': 'charles0bell51@example.com', 'first_name': 'Charles', 'last_name': 'Bell', 'user_password': 'gwK85Aw0#R', 'phone': '8892546944'}, {'id': 59, 'email': 'hollymccarthy93@example.edu', 'first_name': 'Holly', 'last_name': 'Mccarthy', 'user_password': 'i!AOV1Pg!A', 'phone': '3548744967'}, {'id': 60, 'email': 'ronald0wright89@example.org', 'first_name': 'Ronald', 'last_name': 'Wright', 'user_password': '(po5MIHkR2', 'phone': '9834476562'}, {'id': 61, 'email': 'stephaniemartinez18@example.net', 'first_name': 'Stephanie', 'last_name': 'Martinez', 'user_password': 'TTqOSvkf(3', 'phone': '6613141187'}, {'id': 62, 'email': 'jeffreyanderson4196889@example.net', 'first_name': 'Jeffrey', 'last_name': 'Anderson', 'user_password': 'J3PQb7aO)4', 'phone': '3422676176'}, {'id': 63, 'email': 'samanthawilson96@example.net', 'first_name': 'Samantha', 'last_name': 'Wilson', 'user_password': 'aL7e$oVaN$', 'phone': '9772338104'}, {'id': 64, 'email': 'lauracook18@example.org', 'first_name': 'Laura', 'last_name': 'Cook', 'user_password': 'kaTx*n9u(2', 'phone': '7839980940'}, {'id': 65, 'email': 'douglas-cobb9@example.com', 'first_name': 'Douglas', 'last_name': 'Cobb', 'user_password': 'q2lWA8T#!l', 'phone': '6204451379'}, {'id': 66, 'email': 'michael_white41964@example.com', 'first_name': 'Michael', 'last_name': 'White', 'user_password': '@0!G$rX+@x', 'phone': '8277203885'}, {'id': 67, 'email': 'grace_clarkfan1@example.com', 'first_name': 'Grace', 'last_name': 'Clark', 'user_password': 'EY!1NAzsc5', 'phone': '4986757249'}, {'id': 68, 'email': 'gregoryparker76@example.net', 'first_name': 'Gregory', 'last_name': 'Parker', 'user_password': 'k0XRu)2K(4', 'phone': '3378050396'}, {'id': 69, 'email': 'lindsay_porter99@example.net', 'first_name': 'Lindsay', 'last_name': 'Porter', 'user_password': '*N9Z(ydl4!', 'phone': '9836248793'}, {'id': 70, 'email': 'andrewtorresfan74@example.net', 'first_name': 'Andrew', 'last_name': 'Torres', 'user_password': 'P@rmU3JbqU', 'phone': '6128589424'}, {'id': 71, 'email': 'darren0moore74@example.net', 'first_name': 'Darren', 'last_name': 'Moore', 'user_password': '^G6J@*gNzg', 'phone': '3588353118'}, {'id': 72, 'email': 'danielbenson74@example.net', 'first_name': 'Daniel', 'last_name': 'Benson', 'user_password': '^d38J&isr+', 'phone': '6072363102'}, {'id': 73, 'email': 'michelepatrick84@example.net', 'first_name': 'Michele', 'last_name': 'Patrick', 'user_password': '7^zr6(Qr1&', 'phone': '9988503810'}, {'id': 74, 'email': 'gordon_goodman52@example.edu', 'first_name': 'Gordon', 'last_name': 'Goodman', 'user_password': 'lu8FM!wz6*', 'phone': '4913414753'}, {'id': 75, 'email': 'nicole1gordon2@example.net', 'first_name': 'Nicole', 'last_name': 'Gordon', 'user_password': '$!6^MDFh^Z', 'phone': '9016004854'}, {'id': 76, 'email': 'justintravis11@example.gov', 'first_name': 'Justin', 'last_name': 'Travis', 'user_password': ')%i5EDjX_u', 'phone': '6908871429'}, {'id': 77, 'email': 'stephen_wolf70@example.gov', 'first_name': 'Stephen', 'last_name': 'Wolf', 'user_password': '08Huv1%D!D', 'phone': '5225531586'}, {'id': 78, 'email': 'michael-gonzalez794@example.gov', 'first_name': 'Michael', 'last_name': 'Gonzalez', 'user_password': '6n$3wL&sK$', 'phone': '9593755095'}, {'id': 79, 'email': 'frederick_davidson88@example.com', 'first_name': 'Frederick', 'last_name': 'Davidson', 'user_password': '005$W@Sw#l', 'phone': '5005304171'}, {'id': 80, 'email': 'samanthabishop63@example.org', 'first_name': 'Samantha', 'last_name': 'Bishop', 'user_password': '$mdqz0RwDC', 'phone': '9409447844'}, {'id': 81, 'email': 'brian8woodsfan11@example.net', 'first_name': 'Brian', 'last_name': 'Woods', 'user_password': 'd86E4Xci(s', 'phone': '8208224285'}, {'id': 82, 'email': 'leslie_lee88@example.gov', 'first_name': 'Leslie', 'last_name': 'Lee', 'user_password': '(0q)HEhpEO', 'phone': '6619567352'}, {'id': 83, 'email': 'tylernixon28@example.org', 'first_name': 'Tyler', 'last_name': 'Nixon', 'user_password': 'W)4*GLJe!*', 'phone': '9136706546'}, {'id': 84, 'email': 'sarah-barnett40@example.gov', 'first_name': 'Sarah', 'last_name': 'Barnett', 'user_password': '+3H%p#xd^N', 'phone': '9725786965'}, {'id': 85, 'email': 'shawn-mann83@example.com', 'first_name': 'Shawn', 'last_name': 'Mann', 'user_password': '_7ON6jUa@A', 'phone': '3292046389'}, {'id': 86, 'email': 'geoffrey3kingfan61@example.edu', 'first_name': 'Geoffrey', 'last_name': 'King', 'user_password': 'YE1Ad5yL$_', 'phone': '8487752835'}, {'id': 87, 'email': 'joseph-harris91@example.com', 'first_name': 'Joseph', 'last_name': 'Harris', 'user_password': 'i!83DRCh(g', 'phone': '9052007371'}, {'id': 88, 'email': 'timothyknight32@example.gov', 'first_name': 'Timothy', 'last_name': 'Knight', 'user_password': '%*3LYjgw7D', 'phone': '4022515873'}, {'id': 89, 'email': 'holly_rosales377@example.net', 'first_name': 'Holly', 'last_name': 'Rosales', 'user_password': 'j4j2XlGc&b', 'phone': '5629002731'}, {'id': 90, 'email': 'nina_moore91@example.com', 'first_name': 'Nina', 'last_name': 'Moore', 'user_password': '&&_fhoHt65', 'phone': '7456635688'}, {'id': 91, 'email': 'jennifer2johnson95@example.gov', 'first_name': 'Jennifer', 'last_name': 'Johnson', 'user_password': 'bN+1JcrJrS', 'phone': '9574339535'}, {'id': 92, 'email': 'aprilmorris744@example.net', 'first_name': 'April', 'last_name': 'Morris', 'user_password': '#d9cpSsxLq', 'phone': '8848233536'}, {'id': 93, 'email': 'brianbradford4@example.com', 'first_name': 'Brian', 'last_name': 'Bradford', 'user_password': '4!6&Cl$(8(', 'phone': '2318299564'}, {'id': 94, 'email': 'brandon-haney22@example.net', 'first_name': 'Brandon', 'last_name': 'Haney', 'user_password': 'L$9LU+stpt', 'phone': '2086369885'}, {'id': 95, 'email': 'caitlinlivingston23@example.com', 'first_name': 'Caitlin', 'last_name': 'Livingston', 'user_password': 'E^7dX1fmH+', 'phone': '2162937946'}, {'id': 96, 'email': 'courtney_schmidt029@example.net', 'first_name': 'Courtney', 'last_name': 'Schmidt', 'user_password': '*7YMob#1+h', 'phone': '3552824322'}, {'id': 97, 'email': 'lisabarron94@example.net', 'first_name': 'Lisa', 'last_name': 'Barron', 'user_password': 'm(82(PGl)O', 'phone': '4643423618'}, {'id': 98, 'email': 'jerrydiaz82@example.net', 'first_name': 'Jerry', 'last_name': 'Diaz', 'user_password': '#12uU6h&*v', 'phone': '3908198943'}, {'id': 99, 'email': 'john-koch63@example.com', 'first_name': 'John', 'last_name': 'Koch', 'user_password': '2shzAltF_8', 'phone': '2878409192'}, {'id': 100, 'email': 'daniel-keller31@example.net', 'first_name': 'Daniel', 'last_name': 'Keller', 'user_password': '(0MxYFlhqp', 'phone': '7293716847'}, {'id': 101, 'email': 'carolcollins089@example.net', 'first_name': 'Carol', 'last_name': 'Collins', 'user_password': '&!y(1W0ym8', 'phone': '7864834629'}, {'id': 102, 'email': 'anthonysmith77@example.net', 'first_name': 'Anthony', 'last_name': 'Smith', 'user_password': '#9SPx9bj^1', 'phone': '3503660226'}, {'id': 103, 'email': 'jessicali35@example.edu', 'first_name': 'Jessica', 'last_name': 'Li', 'user_password': '9S5UWbVj+G', 'phone': '5487088889'}, {'id': 104, 'email': 'robert_rowe93@example.com', 'first_name': 'Robert', 'last_name': 'Rowe', 'user_password': 'se50Taqp1$', 'phone': '8008532421'}, {'id': 105, 'email': 'linda_rodriguez1@example.net', 'first_name': 'Linda', 'last_name': 'Rodriguez', 'user_password': '(0M8EisG92', 'phone': '2129852427'}, {'id': 106, 'email': 'cristianwalls877@example.gov', 'first_name': 'Cristian', 'last_name': 'Walls', 'user_password': 'ECz4+Wch^k', 'phone': '8593055416'}, {'id': 107, 'email': 'tonyrice59@example.net', 'first_name': 'Tony', 'last_name': 'Rice', 'user_password': '1)8dmSUw%N', 'phone': '3396752251'}, {'id': 108, 'email': 'debrarichards56@example.com', 'first_name': 'Debra', 'last_name': 'Richards', 'user_password': 'tpn9JCbS7!', 'phone': '6383795703'}, {'id': 109, 'email': 'shannon_williams38@example.com', 'first_name': 'Shannon', 'last_name': 'Williams', 'user_password': 'Z(3vFUxI#M', 'phone': '5526364768'}, {'id': 110, 'email': 'patrick-rodriguez63@example.com', 'first_name': 'Patrick', 'last_name': 'Rodriguez', 'user_password': '@a8DSJwi7P', 'phone': '3957951382'}, {'id': 111, 'email': 'emmahernandez68@example.net', 'first_name': 'Emma', 'last_name': 'Hernandez', 'user_password': 'DV6Pqkvk^&', 'phone': '8649822636'}]\n"
     ]
    }
   ],
   "source": [
    "generate_users(111)"
   ]
  },
  {
   "cell_type": "code",
   "execution_count": 58,
   "id": "4caa6c14-1888-4a74-b3cd-a30b0575e892",
   "metadata": {},
   "outputs": [],
   "source": [
    "def print_it():\n",
    "    string = \"\"\n",
    "    for i in range(len(user_list)):\n",
    "        string = string + f\"INSERT INTO users VALUES({user_list[i]['id']}, '{user_list[i]['email']}', '{user_list[i]['first_name']}', '{user_list[i]['last_name']}', '{user_list[i]['user_password']}', '{user_list[i]['phone']}');\\n\"\n",
    "    print(string)"
   ]
  },
  {
   "cell_type": "code",
   "execution_count": 59,
   "id": "9abfb11f-2775-4d01-bf4a-058b88410b2b",
   "metadata": {},
   "outputs": [
    {
     "name": "stdout",
     "output_type": "stream",
     "text": [
      "INSERT INTO users VALUES(1, 'beth-ruiz23@example.org', 'Beth', 'Ruiz', 'M(sD8$JkiZ', '4945241427');\n",
      "INSERT INTO users VALUES(2, 'anne-lopez61@example.org', 'Anne', 'Lopez', 'oav#4UsCf+', '3444223848');\n",
      "INSERT INTO users VALUES(3, 'jamescolemanfan68@example.gov', 'James', 'Coleman', ')4MjUE_hbp', '6636169596');\n",
      "INSERT INTO users VALUES(4, 'austin5villanueva681@example.net', 'Austin', 'Villanueva', 'e#2FE(o@jg', '5539676946');\n",
      "INSERT INTO users VALUES(5, 'gabriel7copeland28@example.net', 'Gabriel', 'Copeland', '$p5LcE%zOj', '6655216533');\n",
      "INSERT INTO users VALUES(6, 'joshuabrown46@example.com', 'Joshua', 'Brown', '#YW7vFB$n4', '2443960014');\n",
      "INSERT INTO users VALUES(7, 'patricia3wright91@example.com', 'Patricia', 'Wright', '12DZEzmg%5', '5636342269');\n",
      "INSERT INTO users VALUES(8, 'amyhansenfan27@example.org', 'Amy', 'Hansen', '184D)EpF+a', '8308904615');\n",
      "INSERT INTO users VALUES(9, 'sabrinahampton41968@example.com', 'Sabrina', 'Hampton', '^GQFytwt^2', '4849559180');\n",
      "INSERT INTO users VALUES(10, 'angelaroberts843@example.edu', 'Angela', 'Roberts', '+8Jn_M4y&V', '6516390867');\n",
      "INSERT INTO users VALUES(11, 'kari_gay17@example.com', 'Kari', 'Gay', 'wJuiW4Oj&S', '2242062171');\n",
      "INSERT INTO users VALUES(12, 'max-vaughn18@example.org', 'Max', 'Vaughn', '!PgH+H4g_8', '4539809222');\n",
      "INSERT INTO users VALUES(13, 'danny_blair40@example.org', 'Danny', 'Blair', 'Af2XrL9I1^', '8732171711');\n",
      "INSERT INTO users VALUES(14, 'laurenallen956@example.net', 'Lauren', 'Allen', '6Y#2Wa_v(q', '2428314767');\n",
      "INSERT INTO users VALUES(15, 'emma5mcdonald5@example.gov', 'Emma', 'Mcdonald', '$&AkshIGS2', '2374035452');\n",
      "INSERT INTO users VALUES(16, 'ashleyarcher61@example.gov', 'Ashley', 'Archer', '#oJLv2L&8R', '7332352041');\n",
      "INSERT INTO users VALUES(17, 'zacharygutierrez90@example.edu', 'Zachary', 'Gutierrez', '*!BHO#2nP1', '2285511861');\n",
      "INSERT INTO users VALUES(18, 'amanda-mitchell649@example.org', 'Amanda', 'Mitchell', 's!1&(F#x)l', '7313495600');\n",
      "INSERT INTO users VALUES(19, 'brittany-gordon8@example.net', 'Brittany', 'Gordon', 'jm%1Da(j%+', '2407667928');\n",
      "INSERT INTO users VALUES(20, 'nicole4woodsfan37@example.com', 'Nicole', 'Woods', '!c2SynCQY1', '9108774287');\n",
      "INSERT INTO users VALUES(21, 'robertperez12@example.net', 'Robert', 'Perez', 'a5DFAxTO@t', '2499799794');\n",
      "INSERT INTO users VALUES(22, 'edward-martinez79@example.gov', 'Edward', 'Martinez', '2jN4)UIy#s', '2684555845');\n",
      "INSERT INTO users VALUES(23, 'rogerrobertsfan10@example.com', 'Roger', 'Roberts', '%)U9fah+l3', '5666503224');\n",
      "INSERT INTO users VALUES(24, 'peter-nelson584@example.net', 'Peter', 'Nelson', 'hX$h6vXw)0', '8915934943');\n",
      "INSERT INTO users VALUES(25, 'ryan-snyder25@example.gov', 'Ryan', 'Snyder', '4@fuY8Xj!5', '6638961497');\n",
      "INSERT INTO users VALUES(26, 'beverly0warner6848@example.com', 'Beverly', 'Warner', 'x)2TYLWeBM', '9649127603');\n",
      "INSERT INTO users VALUES(27, 'dariusfitzpatrick85@example.net', 'Darius', 'Fitzpatrick', 'ob1!TSe6^4', '7618503375');\n",
      "INSERT INTO users VALUES(28, 'johnmendozafan94@example.net', 'John', 'Mendoza', '8)J8CVqj^w', '5764035560');\n",
      "INSERT INTO users VALUES(29, 'john-gonzalez94@example.net', 'John', 'Gonzalez', '^8cnQlyrP5', '6478407872');\n",
      "INSERT INTO users VALUES(30, 'williamlozano47@example.net', 'William', 'Lozano', '_@s312SeTt', '6626078757');\n",
      "INSERT INTO users VALUES(31, 'heather-woodard97@example.org', 'Heather', 'Woodard', '%LA^F3FyBb', '3567908048');\n",
      "INSERT INTO users VALUES(32, 'joanhenson17@example.com', 'Joan', 'Henson', '!2PJdrjf#0', '4154181373');\n",
      "INSERT INTO users VALUES(33, 'kathleenvalenzuela41928@example.com', 'Kathleen', 'Valenzuela', '%nQ4QmE*&V', '3656835272');\n",
      "INSERT INTO users VALUES(34, 'steven-jensen4196827@example.com', 'Steven', 'Jensen', 'cK@5OoXq5Y', '9642092226');\n",
      "INSERT INTO users VALUES(35, 'mitchell-miller42@example.net', 'Mitchell', 'Miller', '+1rvNQ)en5', '2886171583');\n",
      "INSERT INTO users VALUES(36, 'marc7frederick4192@example.edu', 'Marc', 'Frederick', '@9ZDXg_iR3', '4143044234');\n",
      "INSERT INTO users VALUES(37, 'peter-hernandez18@example.net', 'Peter', 'Hernandez', '33SfAM_x_S', '9152446140');\n",
      "INSERT INTO users VALUES(38, 'amanda-davis29@example.org', 'Amanda', 'Davis', '!f3Bpg7Q(9', '8648721723');\n",
      "INSERT INTO users VALUES(39, 'sandra-park99@example.com', 'Sandra', 'Park', '8rIwMlil$m', '7122735066');\n",
      "INSERT INTO users VALUES(40, 'patriciamccarthy61@example.net', 'Patricia', 'Mccarthy', '&8aT$wbNh^', '5034613351');\n",
      "INSERT INTO users VALUES(41, 'ryanmora98@example.net', 'Ryan', 'Mora', 'qIe^8Bm*SI', '3586586293');\n",
      "INSERT INTO users VALUES(42, 'tammy4dunn4196817@example.edu', 'Tammy', 'Dunn', 'jK*2pbByY!', '8077839409');\n",
      "INSERT INTO users VALUES(43, 'derekpricefan20@example.org', 'Derek', 'Price', 'Sy0SmlTw_V', '3999658168');\n",
      "INSERT INTO users VALUES(44, 'kimberlydeleon72@example.net', 'Kimberly', 'Deleon', '3A5r9KSd$)', '8045694185');\n",
      "INSERT INTO users VALUES(45, 'donald5williams9@example.net', 'Donald', 'Williams', 'M4_U@BrZ#h', '7048541660');\n",
      "INSERT INTO users VALUES(46, 'steven-calderon50@example.com', 'Steven', 'Calderon', '8TGANvwZ)D', '5289911650');\n",
      "INSERT INTO users VALUES(47, 'michelle-baker44@example.edu', 'Michelle', 'Baker', '(S8*mfEb8v', '7687906729');\n",
      "INSERT INTO users VALUES(48, 'valerie5peterson29@example.net', 'Valerie', 'Peterson', '^2SRpckCaf', '3682241667');\n",
      "INSERT INTO users VALUES(49, 'sararivera799@example.com', 'Sara', 'Rivera', '&S8#eFolep', '5067576908');\n",
      "INSERT INTO users VALUES(50, 'kylejohnson33@example.edu', 'Kyle', 'Johnson', 's49KBxbtH@', '6192043359');\n",
      "INSERT INTO users VALUES(51, 'karen-hernandezfan33@example.gov', 'Karen', 'Hernandez', 'z&nw7w9bzR', '3107905279');\n",
      "INSERT INTO users VALUES(52, 'mark5wardfan54@example.edu', 'Mark', 'Ward', 'K$4WjdguWf', '3834640657');\n",
      "INSERT INTO users VALUES(53, 'joelmcdonald82@example.edu', 'Joel', 'Mcdonald', '1XZkuC$8_O', '2145116705');\n",
      "INSERT INTO users VALUES(54, 'nathan_garza74@example.net', 'Nathan', 'Garza', 'S*9TGk0(n0', '4127906203');\n",
      "INSERT INTO users VALUES(55, 'courtney5armstrong35@example.edu', 'Courtney', 'Armstrong', '8Ms2CBtq%!', '5414552198');\n",
      "INSERT INTO users VALUES(56, 'markstewartfan34@example.gov', 'Mark', 'Stewart', '(hau0MZX+7', '2624121324');\n",
      "INSERT INTO users VALUES(57, 'christopher_vazquez41972@example.org', 'Christopher', 'Vazquez', '%3X3V8fncJ', '6888588986');\n",
      "INSERT INTO users VALUES(58, 'moniquebenson9@example.net', 'Monique', 'Benson', '%22XlN2y%H', '7859920423');\n",
      "INSERT INTO users VALUES(59, 'christopher8rice27@example.com', 'Christopher', 'Rice', '*1Tl)z_G5t', '3717644925');\n",
      "INSERT INTO users VALUES(60, 'annesullivanfan64@example.com', 'Anne', 'Sullivan', '5J+#n1Jh&A', '3278902574');\n",
      "INSERT INTO users VALUES(61, 'carla-poole20@example.org', 'Carla', 'Poole', 'ahzC2YAu_*', '9023688796');\n",
      "INSERT INTO users VALUES(62, 'amyhunt28@example.net', 'Amy', 'Hunt', '^$WH4Gok6d', '9738162414');\n",
      "INSERT INTO users VALUES(63, 'jose-garza59@example.gov', 'Jose', 'Garza', 'z^25Jg+%1w', '4514969112');\n",
      "INSERT INTO users VALUES(64, 'carriedickson4196839@example.net', 'Carrie', 'Dickson', '&BIb7Lhjwi', '3689949521');\n",
      "INSERT INTO users VALUES(65, 'sarahsmith44@example.com', 'Sarah', 'Smith', '21@lUfZz&u', '3924552201');\n",
      "INSERT INTO users VALUES(66, 'julietapia5@example.net', 'Julie', 'Tapia', '^T37Q^xd__', '9745634526');\n",
      "INSERT INTO users VALUES(67, 'christopherjosephfan41@example.org', 'Christopher', 'Joseph', '9%2ZtQTq3v', '5432906786');\n",
      "INSERT INTO users VALUES(68, 'louis_thomas5@example.com', 'Louis', 'Thomas', '4pZ6u5k$#t', '7555722173');\n",
      "INSERT INTO users VALUES(69, 'nicholas8lucas60@example.com', 'Nicholas', 'Lucas', 'Nq1E#UOi^C', '7694995012');\n",
      "INSERT INTO users VALUES(70, 'joel6fischer30@example.gov', 'Joel', 'Fischer', '#!ypcSbr32', '2097049303');\n",
      "INSERT INTO users VALUES(71, 'christine_smith25@example.gov', 'Christine', 'Smith', '@_!p6HyC6k', '8647898234');\n",
      "INSERT INTO users VALUES(72, 'brianna2solis4196822@example.edu', 'Brianna', 'Solis', 'PDR#6HEoqs', '5949319800');\n",
      "INSERT INTO users VALUES(73, 'zacharyschwartz6811@example.org', 'Zachary', 'Schwartz', 'at0TinNw&7', '5082822191');\n",
      "INSERT INTO users VALUES(74, 'katrina_jonesfan51@example.net', 'Katrina', 'Jones', '@41Dr#vt%m', '4015372241');\n",
      "INSERT INTO users VALUES(75, 'cynthia2richardson36@example.net', 'Cynthia', 'Richardson', '!FzK(G*u0H', '4774692920');\n",
      "INSERT INTO users VALUES(76, 'tracy_chan33@example.com', 'Tracy', 'Chan', '!0A)HeA*&y', '4082612735');\n",
      "INSERT INTO users VALUES(77, 'susannguyenfan22@example.gov', 'Susan', 'Nguyen', '@hA0DEFj8x', '8746985500');\n",
      "INSERT INTO users VALUES(78, 'carlos-thompson99@example.net', 'Carlos', 'Thompson', 'dzZCmejx_7', '6313733095');\n",
      "INSERT INTO users VALUES(79, 'ericahorne19@example.com', 'Erica', 'Horne', 'i6O)KVdH&5', '3424325403');\n",
      "INSERT INTO users VALUES(80, 'scott4martinez17@example.net', 'Scott', 'Martinez', 'L6qhIu%&)T', '8436980290');\n",
      "INSERT INTO users VALUES(81, 'william-calderon99@example.gov', 'William', 'Calderon', 'zQ34OyxrN&', '3253979142');\n",
      "INSERT INTO users VALUES(82, 'amy-valdez16@example.gov', 'Amy', 'Valdez', ')00SSTffd5', '8879671268');\n",
      "INSERT INTO users VALUES(83, 'david-gonzalezfan63@example.com', 'David', 'Gonzalez', 'f50qAOjf&!', '4837163473');\n",
      "INSERT INTO users VALUES(84, 'steve_larsen23@example.net', 'Steve', 'Larsen', '6RROdt4qa&', '8594905716');\n",
      "INSERT INTO users VALUES(85, 'elizabethdiaz61@example.net', 'Elizabeth', 'Diaz', ')ylLJvRB*7', '9585079539');\n",
      "INSERT INTO users VALUES(86, 'tim-ochoa871@example.net', 'Tim', 'Ochoa', 'fJ2MEsnV&J', '5455483870');\n",
      "INSERT INTO users VALUES(87, 'edward7phillips84@example.com', 'Edward', 'Phillips', 'M2uIJv@L*1', '3308834994');\n",
      "INSERT INTO users VALUES(88, 'kimberlymclaughlin57@example.net', 'Kimberly', 'Mclaughlin', 'o151KZvDM+', '7295281911');\n",
      "INSERT INTO users VALUES(89, 'manuelayala46@example.org', 'Manuel', 'Ayala', '!n1VW)iyr3', '9739814563');\n",
      "INSERT INTO users VALUES(90, 'hunterduran4@example.com', 'Hunter', 'Duran', 'x^*!7Pv$#L', '3227200228');\n",
      "INSERT INTO users VALUES(91, 'jeanettethompson58@example.gov', 'Jeanette', 'Thompson', 'r8YYBV5e_I', '6914599239');\n",
      "INSERT INTO users VALUES(92, 'nathangray19@example.net', 'Nathan', 'Gray', '5oPjGv3r^L', '3278848568');\n",
      "INSERT INTO users VALUES(93, 'kevin_pittman56@example.com', 'Kevin', 'Pittman', '9SFjUKSm(r', '7905582708');\n",
      "INSERT INTO users VALUES(94, 'sarajones6825@example.edu', 'Sara', 'Jones', 'v62L8Z*K*r', '5497809157');\n",
      "INSERT INTO users VALUES(95, 'kathleenhughesfan97@example.com', 'Kathleen', 'Hughes', '^m7+qPb*B9', '7243938671');\n",
      "INSERT INTO users VALUES(96, 'maurice-morales53@example.com', 'Maurice', 'Morales', '9^q1OohH&C', '9916974063');\n",
      "INSERT INTO users VALUES(97, 'nicole9brooks40@example.com', 'Nicole', 'Brooks', 'Htx9nwlq@6', '5302620244');\n",
      "INSERT INTO users VALUES(98, 'cynthia9whitaker41975@example.net', 'Cynthia', 'Whitaker', '&HdJQH55l0', '3668370631');\n",
      "INSERT INTO users VALUES(99, 'michael7holmes384@example.com', 'Michael', 'Holmes', 'r%7L!8@xZ^', '9298174772');\n",
      "INSERT INTO users VALUES(100, 'jamesross98@example.com', 'James', 'Ross', 'anFODHkG%3', '6169260863');\n",
      "INSERT INTO users VALUES(101, 'heidifisher41929@example.net', 'Heidi', 'Fisher', 'Di3W@4UnH)', '2468253470');\n",
      "INSERT INTO users VALUES(102, 'jordan5garrett41911@example.gov', 'Jordan', 'Garrett', 'Gq8KC%%g)Z', '7399101581');\n",
      "INSERT INTO users VALUES(103, 'geraldwrightfan77@example.com', 'Gerald', 'Wright', '06T@Ys7U&u', '6353264724');\n",
      "INSERT INTO users VALUES(104, 'christy7smith15@example.gov', 'Christy', 'Smith', '^ntrBGzN3g', '9717345392');\n",
      "INSERT INTO users VALUES(105, 'megan3deleon64@example.com', 'Megan', 'Deleon', '$*u!2FLdS&', '5276787669');\n",
      "INSERT INTO users VALUES(106, 'calebfaulkner41957@example.net', 'Caleb', 'Faulkner', 'PxWyHluZ)1', '7416816294');\n",
      "INSERT INTO users VALUES(107, 'claudiafletcher8@example.org', 'Claudia', 'Fletcher', '+$3kO5Wo4+', '2744232432');\n",
      "INSERT INTO users VALUES(108, 'brandon6fowlerfan4@example.com', 'Brandon', 'Fowler', 'yMsEeFu8$2', '4833483141');\n",
      "INSERT INTO users VALUES(109, 'sydney7todd6@example.com', 'Sydney', 'Todd', '_3TuS@k1e8', '2559447052');\n",
      "INSERT INTO users VALUES(110, 'deannagilbert21@example.com', 'Deanna', 'Gilbert', '#E)1(UHjZj', '2064382646');\n",
      "INSERT INTO users VALUES(111, 'brittany1stewart48@example.com', 'Brittany', 'Stewart', 'u@W9HJbYdm', '4979049562');\n",
      "\n"
     ]
    }
   ],
   "source": [
    "print_it()"
   ]
  },
  {
   "cell_type": "code",
   "execution_count": null,
   "id": "c702f738",
   "metadata": {},
   "outputs": [],
   "source": []
  }
 ],
 "metadata": {
  "kernelspec": {
   "display_name": "Python 3.10.4 64-bit ('3.10.4')",
   "language": "python",
   "name": "python3"
  },
  "language_info": {
   "codemirror_mode": {
    "name": "ipython",
    "version": 3
   },
   "file_extension": ".py",
   "mimetype": "text/x-python",
   "name": "python",
   "nbconvert_exporter": "python",
   "pygments_lexer": "ipython3",
   "version": "3.10.4"
  },
  "vscode": {
   "interpreter": {
    "hash": "40f2ac86c2ff9164d8eaaa1295186d7af6cf88d800a0e97dfa509aa9a79fa4b6"
   }
  }
 },
 "nbformat": 4,
 "nbformat_minor": 5
}
